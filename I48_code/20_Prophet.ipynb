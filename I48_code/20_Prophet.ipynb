{
 "cells": [
  {
   "cell_type": "code",
   "execution_count": 1,
   "id": "caea4b94",
   "metadata": {},
   "outputs": [],
   "source": [
    "import os\n",
    "import numpy as np\n",
    "import pandas as pd\n",
    "import matplotlib.pyplot as plt\n",
    "from prophet import Prophet\n",
    "from sklearn.metrics import mean_squared_error"
   ]
  },
  {
   "cell_type": "code",
   "execution_count": 2,
   "id": "c5a44b4b",
   "metadata": {},
   "outputs": [],
   "source": [
    "data = pd.read_csv(\"../data/HMIS_DATA_CORRECTED_17_21/mh_dist17_21_with_IDs_date_correction.csv\")\n",
    "data = data[(data['indicator_type'] == 'Total [(A+B) or (C+D)]')]\n",
    "data['date'] = pd.to_datetime(data['date'])\n",
    "data = data.set_index('date')\n",
    "data.index = pd.DatetimeIndex(data.index)"
   ]
  },
  {
   "cell_type": "code",
   "execution_count": 3,
   "id": "b2834c17",
   "metadata": {},
   "outputs": [],
   "source": [
    "def prophet_forecast(\n",
    "    series,\n",
    "    district_name,\n",
    "    forecast_periods=12,\n",
    "    yearly_seasonality='auto',\n",
    "    weekly_seasonality=False,\n",
    "    daily_seasonality=False,\n",
    "    changepoint_prior_scale=0.05,\n",
    "    seasonality_prior_scale=10.0,\n",
    "    holidays=None,\n",
    "    plot_forecast=True\n",
    "):\n",
    "    \"\"\"\n",
    "    Prophet time series forecasting with error handling and RMSE calculation.\n",
    "    Returns (metrics, forecast_df) or (None, None) on error.\n",
    "    \"\"\"\n",
    "    try:\n",
    "        # 0. Directory setup\n",
    "        os.makedirs('Prophet_Forecasts', exist_ok=True)\n",
    "\n",
    "        # 1. Prepare DataFrame for Prophet\n",
    "        df = pd.DataFrame({'ds': series.index, 'y': series.values})\n",
    "        df = df.dropna()\n",
    "        if len(df) < forecast_periods + 12:\n",
    "            raise ValueError(f\"Series too short ({len(df)} points) for {forecast_periods}-step forecast.\")\n",
    "\n",
    "        # 2. Train/test split\n",
    "        train = df.iloc[:-forecast_periods]\n",
    "        test = df.iloc[-forecast_periods:]\n",
    "\n",
    "        # 3. Model setup\n",
    "        model = Prophet(\n",
    "            yearly_seasonality=yearly_seasonality,\n",
    "            weekly_seasonality=weekly_seasonality,\n",
    "            daily_seasonality=daily_seasonality,\n",
    "            changepoint_prior_scale=changepoint_prior_scale,\n",
    "            seasonality_prior_scale=seasonality_prior_scale,\n",
    "            holidays=holidays\n",
    "        )\n",
    "        model.fit(train)\n",
    "\n",
    "        # 4. Forecast\n",
    "        future = model.make_future_dataframe(periods=forecast_periods, freq='MS')\n",
    "        forecast = model.predict(future)\n",
    "\n",
    "        # 5. Extract forecasted values for test period\n",
    "        forecast_test = forecast.set_index('ds').loc[test['ds']]\n",
    "        y_pred = forecast_test['yhat'].values\n",
    "        y_test = test['y'].values\n",
    "\n",
    "        # 6. Metrics\n",
    "        rmse = np.sqrt(mean_squared_error(y_test, y_pred))\n",
    "        metrics = {\n",
    "            'district': district_name,\n",
    "            'rmse': rmse,\n",
    "            'forecast_periods': forecast_periods\n",
    "        }\n",
    "\n",
    "        # 7. Save forecast DataFrame\n",
    "        forecast_df = pd.DataFrame({\n",
    "            'district': district_name,\n",
    "            'date': test['ds'].values,\n",
    "            'actual': y_test,\n",
    "            'forecast': y_pred\n",
    "        })\n",
    "        forecast_df.to_csv(\n",
    "            os.path.join('Prophet_Forecasts', f'{district_name}_forecast.csv'),\n",
    "            index=False\n",
    "        )\n",
    "\n",
    "        # 8. Plotting\n",
    "        if plot_forecast:\n",
    "            plt.figure(figsize=(12, 6))\n",
    "            plt.plot(df['ds'], df['y'], label='Original')\n",
    "            plt.plot(forecast_df['date'], forecast_df['forecast'], label='Prophet Forecast', color='crimson')\n",
    "            plt.scatter(forecast_df['date'], forecast_df['actual'], label='Actual (Test)', color='black')\n",
    "            plt.title(f'{district_name} Prophet Forecast (RMSE: {rmse:.2f})')\n",
    "            plt.legend()\n",
    "            plt.savefig(os.path.join('Prophet_Forecasts', f'{district_name}_forecast_plot.png'))\n",
    "            plt.close()\n",
    "\n",
    "        return metrics, forecast_df\n",
    "\n",
    "    except Exception as e:\n",
    "        print(f\"⚠️ Skipping {district_name}: {str(e)}\")\n",
    "        return None, None"
   ]
  },
  {
   "cell_type": "code",
   "execution_count": 4,
   "id": "d6311f06",
   "metadata": {},
   "outputs": [
    {
     "name": "stderr",
     "output_type": "stream",
     "text": [
      "11:27:14 - cmdstanpy - INFO - Chain [1] start processing\n",
      "11:27:14 - cmdstanpy - INFO - Chain [1] done processing\n",
      "11:27:14 - cmdstanpy - INFO - Chain [1] start processing\n"
     ]
    },
    {
     "name": "stdout",
     "output_type": "stream",
     "text": [
      "=== Metrics ===\n",
      "{'district': 'AHMEDNAGAR', 'rmse': 27.32765870688559, 'forecast_periods': 6}\n",
      "\n",
      "=== Forecast Data ===\n",
      "     district       date  actual   forecast\n",
      "0  AHMEDNAGAR 2020-10-01      82  32.017946\n",
      "1  AHMEDNAGAR 2020-11-01      49  32.543989\n",
      "2  AHMEDNAGAR 2020-12-01      36  53.064334\n",
      "3  AHMEDNAGAR 2021-01-01      45  57.273521\n",
      "4  AHMEDNAGAR 2021-02-01      28  59.096085\n",
      "5  AHMEDNAGAR 2021-03-01      28  45.406961\n"
     ]
    },
    {
     "name": "stderr",
     "output_type": "stream",
     "text": [
      "11:27:14 - cmdstanpy - INFO - Chain [1] done processing\n",
      "11:27:14 - cmdstanpy - INFO - Chain [1] start processing\n"
     ]
    },
    {
     "name": "stdout",
     "output_type": "stream",
     "text": [
      "=== Metrics ===\n",
      "{'district': 'AKOLA', 'rmse': 15.161540989878649, 'forecast_periods': 6}\n",
      "\n",
      "=== Forecast Data ===\n",
      "  district       date  actual   forecast\n",
      "0    AKOLA 2020-10-01      48  60.180271\n",
      "1    AKOLA 2020-11-01      39  52.215808\n",
      "2    AKOLA 2020-12-01      33  11.541361\n",
      "3    AKOLA 2021-01-01      31  31.528262\n",
      "4    AKOLA 2021-02-01      26  49.580617\n",
      "5    AKOLA 2021-03-01      33  26.721497\n"
     ]
    },
    {
     "name": "stderr",
     "output_type": "stream",
     "text": [
      "11:27:15 - cmdstanpy - INFO - Chain [1] done processing\n",
      "11:27:15 - cmdstanpy - INFO - Chain [1] start processing\n"
     ]
    },
    {
     "name": "stdout",
     "output_type": "stream",
     "text": [
      "=== Metrics ===\n",
      "{'district': 'AMRAVATI', 'rmse': 15.103522709922606, 'forecast_periods': 6}\n",
      "\n",
      "=== Forecast Data ===\n",
      "   district       date  actual   forecast\n",
      "0  AMRAVATI 2020-10-01      55  54.699339\n",
      "1  AMRAVATI 2020-11-01      45  53.457734\n",
      "2  AMRAVATI 2020-12-01      54  33.654321\n",
      "3  AMRAVATI 2021-01-01      41  37.138760\n",
      "4  AMRAVATI 2021-02-01      32  60.686097\n",
      "5  AMRAVATI 2021-03-01      43  49.732512\n"
     ]
    },
    {
     "name": "stderr",
     "output_type": "stream",
     "text": [
      "11:27:15 - cmdstanpy - INFO - Chain [1] done processing\n",
      "11:27:15 - cmdstanpy - INFO - Chain [1] start processing\n"
     ]
    },
    {
     "name": "stdout",
     "output_type": "stream",
     "text": [
      "=== Metrics ===\n",
      "{'district': 'AURANGABAD', 'rmse': 18.38375415537438, 'forecast_periods': 6}\n",
      "\n",
      "=== Forecast Data ===\n",
      "     district       date  actual   forecast\n",
      "0  AURANGABAD 2020-10-01      56  38.131376\n",
      "1  AURANGABAD 2020-11-01      57  55.442929\n",
      "2  AURANGABAD 2020-12-01      71  43.154058\n",
      "3  AURANGABAD 2021-01-01      69  63.652739\n",
      "4  AURANGABAD 2021-02-01      40  69.235967\n",
      "5  AURANGABAD 2021-03-01      40  33.120260\n"
     ]
    },
    {
     "name": "stderr",
     "output_type": "stream",
     "text": [
      "11:27:15 - cmdstanpy - INFO - Chain [1] done processing\n"
     ]
    },
    {
     "name": "stdout",
     "output_type": "stream",
     "text": [
      "=== Metrics ===\n",
      "{'district': 'BEED', 'rmse': 25.02718248682819, 'forecast_periods': 6}\n",
      "\n",
      "=== Forecast Data ===\n",
      "  district       date  actual   forecast\n",
      "0     BEED 2020-10-01      16  49.852803\n",
      "1     BEED 2020-11-01      18  24.015120\n",
      "2     BEED 2020-12-01      11  29.753853\n",
      "3     BEED 2021-01-01      19  20.967024\n",
      "4     BEED 2021-02-01      11  49.678567\n",
      "5     BEED 2021-03-01      14  40.913891\n"
     ]
    },
    {
     "name": "stderr",
     "output_type": "stream",
     "text": [
      "11:27:16 - cmdstanpy - INFO - Chain [1] start processing\n",
      "11:27:16 - cmdstanpy - INFO - Chain [1] done processing\n",
      "11:27:16 - cmdstanpy - INFO - Chain [1] start processing\n"
     ]
    },
    {
     "name": "stdout",
     "output_type": "stream",
     "text": [
      "=== Metrics ===\n",
      "{'district': 'BHANDARA', 'rmse': 8.611950352286438, 'forecast_periods': 6}\n",
      "\n",
      "=== Forecast Data ===\n",
      "   district       date  actual   forecast\n",
      "0  BHANDARA 2020-10-01      22  15.029952\n",
      "1  BHANDARA 2020-11-01      25  30.925338\n",
      "2  BHANDARA 2020-12-01      28  16.041295\n",
      "3  BHANDARA 2021-01-01      19   9.287435\n",
      "4  BHANDARA 2021-02-01      19  11.999716\n",
      "5  BHANDARA 2021-03-01      21  12.342379\n"
     ]
    },
    {
     "name": "stderr",
     "output_type": "stream",
     "text": [
      "11:27:16 - cmdstanpy - INFO - Chain [1] done processing\n",
      "11:27:17 - cmdstanpy - INFO - Chain [1] start processing\n"
     ]
    },
    {
     "name": "stdout",
     "output_type": "stream",
     "text": [
      "=== Metrics ===\n",
      "{'district': 'BULDHANA', 'rmse': 13.218004953047876, 'forecast_periods': 6}\n",
      "\n",
      "=== Forecast Data ===\n",
      "   district       date  actual   forecast\n",
      "0  BULDHANA 2020-10-01      19  42.228169\n",
      "1  BULDHANA 2020-11-01      24  30.133093\n",
      "2  BULDHANA 2020-12-01      19  36.355914\n",
      "3  BULDHANA 2021-01-01      18  24.778859\n",
      "4  BULDHANA 2021-02-01      24  33.444875\n",
      "5  BULDHANA 2021-03-01      20  25.894484\n"
     ]
    },
    {
     "name": "stderr",
     "output_type": "stream",
     "text": [
      "11:27:17 - cmdstanpy - INFO - Chain [1] done processing\n",
      "11:27:17 - cmdstanpy - INFO - Chain [1] start processing\n"
     ]
    },
    {
     "name": "stdout",
     "output_type": "stream",
     "text": [
      "=== Metrics ===\n",
      "{'district': 'CHANDRAPUR', 'rmse': 14.651555886683001, 'forecast_periods': 6}\n",
      "\n",
      "=== Forecast Data ===\n",
      "     district       date  actual   forecast\n",
      "0  CHANDRAPUR 2020-10-01      67  51.653035\n",
      "1  CHANDRAPUR 2020-11-01      47  57.904265\n",
      "2  CHANDRAPUR 2020-12-01      35  38.650123\n",
      "3  CHANDRAPUR 2021-01-01      23  32.732328\n",
      "4  CHANDRAPUR 2021-02-01      19  45.527133\n",
      "5  CHANDRAPUR 2021-03-01      27  38.038378\n"
     ]
    },
    {
     "name": "stderr",
     "output_type": "stream",
     "text": [
      "11:27:18 - cmdstanpy - INFO - Chain [1] done processing\n",
      "11:27:18 - cmdstanpy - INFO - Chain [1] start processing\n"
     ]
    },
    {
     "name": "stdout",
     "output_type": "stream",
     "text": [
      "=== Metrics ===\n",
      "{'district': 'DHULE', 'rmse': 15.937492023261472, 'forecast_periods': 6}\n",
      "\n",
      "=== Forecast Data ===\n",
      "  district       date  actual   forecast\n",
      "0    DHULE 2020-10-01      50  18.375840\n",
      "1    DHULE 2020-11-01      25  18.844823\n",
      "2    DHULE 2020-12-01      33  23.430661\n",
      "3    DHULE 2021-01-01      34  20.474813\n",
      "4    DHULE 2021-02-01      47  37.572837\n",
      "5    DHULE 2021-03-01      44  32.924176\n"
     ]
    },
    {
     "name": "stderr",
     "output_type": "stream",
     "text": [
      "11:27:18 - cmdstanpy - INFO - Chain [1] done processing\n",
      "11:27:18 - cmdstanpy - INFO - Chain [1] start processing\n"
     ]
    },
    {
     "name": "stdout",
     "output_type": "stream",
     "text": [
      "=== Metrics ===\n",
      "{'district': 'GADCHIROLI', 'rmse': 10.391169080957303, 'forecast_periods': 6}\n",
      "\n",
      "=== Forecast Data ===\n",
      "     district       date  actual   forecast\n",
      "0  GADCHIROLI 2020-10-01      41  40.860403\n",
      "1  GADCHIROLI 2020-11-01      40  17.463119\n",
      "2  GADCHIROLI 2020-12-01      35  33.390522\n",
      "3  GADCHIROLI 2021-01-01      26  33.329493\n",
      "4  GADCHIROLI 2021-02-01      25  28.712268\n",
      "5  GADCHIROLI 2021-03-01      17  25.356736\n"
     ]
    },
    {
     "name": "stderr",
     "output_type": "stream",
     "text": [
      "11:27:19 - cmdstanpy - INFO - Chain [1] done processing\n",
      "11:27:19 - cmdstanpy - INFO - Chain [1] start processing\n"
     ]
    },
    {
     "name": "stdout",
     "output_type": "stream",
     "text": [
      "=== Metrics ===\n",
      "{'district': 'GONDIA', 'rmse': 8.463969776118947, 'forecast_periods': 6}\n",
      "\n",
      "=== Forecast Data ===\n",
      "  district       date  actual   forecast\n",
      "0   GONDIA 2020-10-01      39  33.749927\n",
      "1   GONDIA 2020-11-01      30  11.150754\n",
      "2   GONDIA 2020-12-01      23  18.085391\n",
      "3   GONDIA 2021-01-01      17  15.468692\n",
      "4   GONDIA 2021-02-01      14  14.498984\n",
      "5   GONDIA 2021-03-01      16  11.502433\n"
     ]
    },
    {
     "name": "stderr",
     "output_type": "stream",
     "text": [
      "11:27:19 - cmdstanpy - INFO - Chain [1] done processing\n",
      "11:27:20 - cmdstanpy - INFO - Chain [1] start processing\n"
     ]
    },
    {
     "name": "stdout",
     "output_type": "stream",
     "text": [
      "=== Metrics ===\n",
      "{'district': 'HINGOLI', 'rmse': 8.820629898432896, 'forecast_periods': 6}\n",
      "\n",
      "=== Forecast Data ===\n",
      "  district       date  actual   forecast\n",
      "0  HINGOLI 2020-10-01      20  13.514837\n",
      "1  HINGOLI 2020-11-01      12   3.202029\n",
      "2  HINGOLI 2020-12-01      13  15.077665\n",
      "3  HINGOLI 2021-01-01       8  10.372396\n",
      "4  HINGOLI 2021-02-01      12  -3.643145\n",
      "5  HINGOLI 2021-03-01      16   6.371579\n"
     ]
    },
    {
     "name": "stderr",
     "output_type": "stream",
     "text": [
      "11:27:20 - cmdstanpy - INFO - Chain [1] done processing\n",
      "11:27:20 - cmdstanpy - INFO - Chain [1] start processing\n"
     ]
    },
    {
     "name": "stdout",
     "output_type": "stream",
     "text": [
      "=== Metrics ===\n",
      "{'district': 'JALGAON', 'rmse': 11.470660679831, 'forecast_periods': 6}\n",
      "\n",
      "=== Forecast Data ===\n",
      "  district       date  actual   forecast\n",
      "0  JALGAON 2020-10-01      37  44.139182\n",
      "1  JALGAON 2020-11-01      39  15.633767\n",
      "2  JALGAON 2020-12-01      17  17.582332\n",
      "3  JALGAON 2021-01-01      24  17.576257\n",
      "4  JALGAON 2021-02-01      16   8.782203\n",
      "5  JALGAON 2021-03-01      16  25.940190\n"
     ]
    },
    {
     "name": "stderr",
     "output_type": "stream",
     "text": [
      "11:27:20 - cmdstanpy - INFO - Chain [1] done processing\n",
      "11:27:21 - cmdstanpy - INFO - Chain [1] start processing\n"
     ]
    },
    {
     "name": "stdout",
     "output_type": "stream",
     "text": [
      "=== Metrics ===\n",
      "{'district': 'JALNA', 'rmse': 8.894430138267678, 'forecast_periods': 6}\n",
      "\n",
      "=== Forecast Data ===\n",
      "  district       date  actual   forecast\n",
      "0    JALNA 2020-10-01      29  20.848063\n",
      "1    JALNA 2020-11-01      20  20.027739\n",
      "2    JALNA 2020-12-01      25  28.466458\n",
      "3    JALNA 2021-01-01      29  19.335717\n",
      "4    JALNA 2021-02-01      18  35.389311\n",
      "5    JALNA 2021-03-01      26  26.638495\n"
     ]
    },
    {
     "name": "stderr",
     "output_type": "stream",
     "text": [
      "11:27:21 - cmdstanpy - INFO - Chain [1] done processing\n",
      "11:27:21 - cmdstanpy - INFO - Chain [1] start processing\n"
     ]
    },
    {
     "name": "stdout",
     "output_type": "stream",
     "text": [
      "=== Metrics ===\n",
      "{'district': 'KOLHAPUR', 'rmse': 13.800605525015975, 'forecast_periods': 6}\n",
      "\n",
      "=== Forecast Data ===\n",
      "   district       date  actual   forecast\n",
      "0  KOLHAPUR 2020-10-01      14  35.888421\n",
      "1  KOLHAPUR 2020-11-01      15  32.036303\n",
      "2  KOLHAPUR 2020-12-01      20  20.541897\n",
      "3  KOLHAPUR 2021-01-01      40  29.130132\n",
      "4  KOLHAPUR 2021-02-01      29  13.473940\n",
      "5  KOLHAPUR 2021-03-01      21  24.727660\n"
     ]
    },
    {
     "name": "stderr",
     "output_type": "stream",
     "text": [
      "11:27:21 - cmdstanpy - INFO - Chain [1] done processing\n",
      "11:27:22 - cmdstanpy - INFO - Chain [1] start processing\n"
     ]
    },
    {
     "name": "stdout",
     "output_type": "stream",
     "text": [
      "=== Metrics ===\n",
      "{'district': 'LATUR', 'rmse': 11.768390796669244, 'forecast_periods': 6}\n",
      "\n",
      "=== Forecast Data ===\n",
      "  district       date  actual   forecast\n",
      "0    LATUR 2020-10-01      38  24.016093\n",
      "1    LATUR 2020-11-01      14  11.882293\n",
      "2    LATUR 2020-12-01      17  27.023292\n",
      "3    LATUR 2021-01-01      10  26.741249\n",
      "4    LATUR 2021-02-01      25  33.790387\n",
      "5    LATUR 2021-03-01      12  25.150250\n"
     ]
    },
    {
     "name": "stderr",
     "output_type": "stream",
     "text": [
      "11:27:22 - cmdstanpy - INFO - Chain [1] done processing\n",
      "11:27:22 - cmdstanpy - INFO - Chain [1] start processing\n"
     ]
    },
    {
     "name": "stdout",
     "output_type": "stream",
     "text": [
      "=== Metrics ===\n",
      "{'district': 'MUMBAI', 'rmse': 34.57111608952653, 'forecast_periods': 6}\n",
      "\n",
      "=== Forecast Data ===\n",
      "  district       date  actual    forecast\n",
      "0   MUMBAI 2020-10-01      90  134.919950\n",
      "1   MUMBAI 2020-11-01      69  110.288576\n",
      "2   MUMBAI 2020-12-01      46   76.675016\n",
      "3   MUMBAI 2021-01-01      54   60.040851\n",
      "4   MUMBAI 2021-02-01      41   42.745644\n",
      "5   MUMBAI 2021-03-01      50   99.678247\n"
     ]
    },
    {
     "name": "stderr",
     "output_type": "stream",
     "text": [
      "11:27:23 - cmdstanpy - INFO - Chain [1] done processing\n",
      "11:27:23 - cmdstanpy - INFO - Chain [1] start processing\n"
     ]
    },
    {
     "name": "stdout",
     "output_type": "stream",
     "text": [
      "=== Metrics ===\n",
      "{'district': 'NAGPUR', 'rmse': 26.710419852583875, 'forecast_periods': 6}\n",
      "\n",
      "=== Forecast Data ===\n",
      "  district       date  actual   forecast\n",
      "0   NAGPUR 2020-10-01      76  40.008154\n",
      "1   NAGPUR 2020-11-01      33  62.049246\n",
      "2   NAGPUR 2020-12-01      49  65.700586\n",
      "3   NAGPUR 2021-01-01      48  25.893080\n",
      "4   NAGPUR 2021-02-01      50  20.382689\n",
      "5   NAGPUR 2021-03-01      32  54.284454\n"
     ]
    },
    {
     "name": "stderr",
     "output_type": "stream",
     "text": [
      "11:27:23 - cmdstanpy - INFO - Chain [1] done processing\n",
      "11:27:23 - cmdstanpy - INFO - Chain [1] start processing\n"
     ]
    },
    {
     "name": "stdout",
     "output_type": "stream",
     "text": [
      "=== Metrics ===\n",
      "{'district': 'NANDED', 'rmse': 17.021768405931795, 'forecast_periods': 6}\n",
      "\n",
      "=== Forecast Data ===\n",
      "  district       date  actual   forecast\n",
      "0   NANDED 2020-10-01      21  30.447410\n",
      "1   NANDED 2020-11-01      33   0.523416\n",
      "2   NANDED 2020-12-01      22   1.762211\n",
      "3   NANDED 2021-01-01      25  18.008518\n",
      "4   NANDED 2021-02-01      18   7.726488\n",
      "5   NANDED 2021-03-01      21  15.480258\n"
     ]
    },
    {
     "name": "stderr",
     "output_type": "stream",
     "text": [
      "11:27:24 - cmdstanpy - INFO - Chain [1] done processing\n",
      "11:27:24 - cmdstanpy - INFO - Chain [1] start processing\n"
     ]
    },
    {
     "name": "stdout",
     "output_type": "stream",
     "text": [
      "=== Metrics ===\n",
      "{'district': 'NANDURBAR', 'rmse': 11.77197768619006, 'forecast_periods': 6}\n",
      "\n",
      "=== Forecast Data ===\n",
      "    district       date  actual   forecast\n",
      "0  NANDURBAR 2020-10-01      44  55.125051\n",
      "1  NANDURBAR 2020-11-01      56  35.904608\n",
      "2  NANDURBAR 2020-12-01      37  38.493300\n",
      "3  NANDURBAR 2021-01-01      30  22.121045\n",
      "4  NANDURBAR 2021-02-01      19  29.370353\n",
      "5  NANDURBAR 2021-03-01      26  37.490566\n"
     ]
    },
    {
     "name": "stderr",
     "output_type": "stream",
     "text": [
      "11:27:24 - cmdstanpy - INFO - Chain [1] done processing\n",
      "11:27:25 - cmdstanpy - INFO - Chain [1] start processing\n"
     ]
    },
    {
     "name": "stdout",
     "output_type": "stream",
     "text": [
      "=== Metrics ===\n",
      "{'district': 'NASHIK', 'rmse': 13.680144162431697, 'forecast_periods': 6}\n",
      "\n",
      "=== Forecast Data ===\n",
      "  district       date  actual   forecast\n",
      "0   NASHIK 2020-10-01      96  79.803891\n",
      "1   NASHIK 2020-11-01      87  78.357527\n",
      "2   NASHIK 2020-12-01      83  82.264968\n",
      "3   NASHIK 2021-01-01      66  93.823498\n",
      "4   NASHIK 2021-02-01      62  65.206332\n",
      "5   NASHIK 2021-03-01      64  64.950737\n"
     ]
    },
    {
     "name": "stderr",
     "output_type": "stream",
     "text": [
      "11:27:25 - cmdstanpy - INFO - Chain [1] done processing\n",
      "11:27:25 - cmdstanpy - INFO - Chain [1] start processing\n"
     ]
    },
    {
     "name": "stdout",
     "output_type": "stream",
     "text": [
      "=== Metrics ===\n",
      "{'district': 'OSMANABAD', 'rmse': 5.778875170897348, 'forecast_periods': 6}\n",
      "\n",
      "=== Forecast Data ===\n",
      "    district       date  actual   forecast\n",
      "0  OSMANABAD 2020-10-01      17  14.301703\n",
      "1  OSMANABAD 2020-11-01      19  10.723914\n",
      "2  OSMANABAD 2020-12-01      14  22.440095\n",
      "3  OSMANABAD 2021-01-01      16  19.974566\n",
      "4  OSMANABAD 2021-02-01      12  11.331218\n",
      "5  OSMANABAD 2021-03-01      14  20.092481\n"
     ]
    },
    {
     "name": "stderr",
     "output_type": "stream",
     "text": [
      "11:27:25 - cmdstanpy - INFO - Chain [1] done processing\n",
      "11:27:26 - cmdstanpy - INFO - Chain [1] start processing\n"
     ]
    },
    {
     "name": "stdout",
     "output_type": "stream",
     "text": [
      "=== Metrics ===\n",
      "{'district': 'PALGHAR', 'rmse': 7.589275425045352, 'forecast_periods': 6}\n",
      "\n",
      "=== Forecast Data ===\n",
      "  district       date  actual   forecast\n",
      "0  PALGHAR 2020-10-01      48  45.363906\n",
      "1  PALGHAR 2020-11-01      42  34.544483\n",
      "2  PALGHAR 2020-12-01      26  38.817630\n",
      "3  PALGHAR 2021-01-01      26  33.917037\n",
      "4  PALGHAR 2021-02-01      28  32.426446\n",
      "5  PALGHAR 2021-03-01      22  28.040229\n"
     ]
    },
    {
     "name": "stderr",
     "output_type": "stream",
     "text": [
      "11:27:26 - cmdstanpy - INFO - Chain [1] done processing\n",
      "11:27:26 - cmdstanpy - INFO - Chain [1] start processing\n"
     ]
    },
    {
     "name": "stdout",
     "output_type": "stream",
     "text": [
      "=== Metrics ===\n",
      "{'district': 'PARBHANI', 'rmse': 7.303915628117626, 'forecast_periods': 6}\n",
      "\n",
      "=== Forecast Data ===\n",
      "   district       date  actual   forecast\n",
      "0  PARBHANI 2020-10-01      12   8.480651\n",
      "1  PARBHANI 2020-11-01      21   5.083627\n",
      "2  PARBHANI 2020-12-01      16  12.872609\n",
      "3  PARBHANI 2021-01-01       8  12.248655\n",
      "4  PARBHANI 2021-02-01      11  12.139963\n",
      "5  PARBHANI 2021-03-01      13   7.976534\n"
     ]
    },
    {
     "name": "stderr",
     "output_type": "stream",
     "text": [
      "11:27:26 - cmdstanpy - INFO - Chain [1] done processing\n",
      "11:27:27 - cmdstanpy - INFO - Chain [1] start processing\n"
     ]
    },
    {
     "name": "stdout",
     "output_type": "stream",
     "text": [
      "=== Metrics ===\n",
      "{'district': 'PUNE', 'rmse': 25.72905354332163, 'forecast_periods': 6}\n",
      "\n",
      "=== Forecast Data ===\n",
      "  district       date  actual    forecast\n",
      "0     PUNE 2020-10-01      58   13.947134\n",
      "1     PUNE 2020-11-01      98  107.392846\n",
      "2     PUNE 2020-12-01      61   63.279731\n",
      "3     PUNE 2021-01-01      56   52.564482\n",
      "4     PUNE 2021-02-01      68   24.367826\n",
      "5     PUNE 2021-03-01      33   37.717840\n"
     ]
    },
    {
     "name": "stderr",
     "output_type": "stream",
     "text": [
      "11:27:27 - cmdstanpy - INFO - Chain [1] done processing\n",
      "11:27:27 - cmdstanpy - INFO - Chain [1] start processing\n"
     ]
    },
    {
     "name": "stdout",
     "output_type": "stream",
     "text": [
      "=== Metrics ===\n",
      "{'district': 'RAIGAD', 'rmse': 14.804661458602721, 'forecast_periods': 6}\n",
      "\n",
      "=== Forecast Data ===\n",
      "  district       date  actual   forecast\n",
      "0   RAIGAD 2020-10-01      32   7.122374\n",
      "1   RAIGAD 2020-11-01      11  27.887329\n",
      "2   RAIGAD 2020-12-01      25  13.159966\n",
      "3   RAIGAD 2021-01-01      20  23.815113\n",
      "4   RAIGAD 2021-02-01      16  11.729086\n",
      "5   RAIGAD 2021-03-01      19   3.572504\n"
     ]
    },
    {
     "name": "stderr",
     "output_type": "stream",
     "text": [
      "11:27:27 - cmdstanpy - INFO - Chain [1] done processing\n",
      "11:27:28 - cmdstanpy - INFO - Chain [1] start processing\n"
     ]
    },
    {
     "name": "stdout",
     "output_type": "stream",
     "text": [
      "=== Metrics ===\n",
      "{'district': 'RATNAGIRI', 'rmse': 6.118276863679722, 'forecast_periods': 6}\n",
      "\n",
      "=== Forecast Data ===\n",
      "    district       date  actual   forecast\n",
      "0  RATNAGIRI 2020-10-01      11   9.566267\n",
      "1  RATNAGIRI 2020-11-01      19  10.286916\n",
      "2  RATNAGIRI 2020-12-01      10   9.622702\n",
      "3  RATNAGIRI 2021-01-01      10  20.625808\n",
      "4  RATNAGIRI 2021-02-01      11  16.584277\n",
      "5  RATNAGIRI 2021-03-01      13  14.546656\n"
     ]
    },
    {
     "name": "stderr",
     "output_type": "stream",
     "text": [
      "11:27:28 - cmdstanpy - INFO - Chain [1] done processing\n",
      "11:27:28 - cmdstanpy - INFO - Chain [1] start processing\n"
     ]
    },
    {
     "name": "stdout",
     "output_type": "stream",
     "text": [
      "=== Metrics ===\n",
      "{'district': 'SANGLI', 'rmse': 16.1882734316251, 'forecast_periods': 6}\n",
      "\n",
      "=== Forecast Data ===\n",
      "  district       date  actual   forecast\n",
      "0   SANGLI 2020-10-01      28  47.568310\n",
      "1   SANGLI 2020-11-01      34  25.816271\n",
      "2   SANGLI 2020-12-01      24  31.672225\n",
      "3   SANGLI 2021-01-01      38  10.587254\n",
      "4   SANGLI 2021-02-01      16  33.592207\n",
      "5   SANGLI 2021-03-01      24  25.631436\n"
     ]
    },
    {
     "name": "stderr",
     "output_type": "stream",
     "text": [
      "11:27:28 - cmdstanpy - INFO - Chain [1] done processing\n",
      "11:27:29 - cmdstanpy - INFO - Chain [1] start processing\n"
     ]
    },
    {
     "name": "stdout",
     "output_type": "stream",
     "text": [
      "=== Metrics ===\n",
      "{'district': 'SATARA', 'rmse': 12.305945459247, 'forecast_periods': 6}\n",
      "\n",
      "=== Forecast Data ===\n",
      "  district       date  actual   forecast\n",
      "0   SATARA 2020-10-01      39  49.797103\n",
      "1   SATARA 2020-11-01      40  19.752657\n",
      "2   SATARA 2020-12-01      24  39.407765\n",
      "3   SATARA 2021-01-01      32  27.444312\n",
      "4   SATARA 2021-02-01      30  40.508781\n",
      "5   SATARA 2021-03-01      29  25.326115\n"
     ]
    },
    {
     "name": "stderr",
     "output_type": "stream",
     "text": [
      "11:27:29 - cmdstanpy - INFO - Chain [1] done processing\n",
      "11:27:29 - cmdstanpy - INFO - Chain [1] start processing\n"
     ]
    },
    {
     "name": "stdout",
     "output_type": "stream",
     "text": [
      "=== Metrics ===\n",
      "{'district': 'SINDHUDURG', 'rmse': 2.2791577123890785, 'forecast_periods': 6}\n",
      "\n",
      "=== Forecast Data ===\n",
      "     district       date  actual  forecast\n",
      "0  SINDHUDURG 2020-10-01       4  5.802923\n",
      "1  SINDHUDURG 2020-11-01       6  4.725267\n",
      "2  SINDHUDURG 2020-12-01       7  5.678338\n",
      "3  SINDHUDURG 2021-01-01       2  3.412064\n",
      "4  SINDHUDURG 2021-02-01       4  8.672023\n",
      "5  SINDHUDURG 2021-03-01       7  6.149485\n"
     ]
    },
    {
     "name": "stderr",
     "output_type": "stream",
     "text": [
      "11:27:29 - cmdstanpy - INFO - Chain [1] done processing\n",
      "11:27:30 - cmdstanpy - INFO - Chain [1] start processing\n"
     ]
    },
    {
     "name": "stdout",
     "output_type": "stream",
     "text": [
      "=== Metrics ===\n",
      "{'district': 'SOLAPUR', 'rmse': 25.89246303539674, 'forecast_periods': 6}\n",
      "\n",
      "=== Forecast Data ===\n",
      "  district       date  actual   forecast\n",
      "0  SOLAPUR 2020-10-01      18  39.130373\n",
      "1  SOLAPUR 2020-11-01      24  56.579819\n",
      "2  SOLAPUR 2020-12-01       8  45.872110\n",
      "3  SOLAPUR 2021-01-01      24  34.516194\n",
      "4  SOLAPUR 2021-02-01      12  38.430021\n",
      "5  SOLAPUR 2021-03-01      22  38.466556\n"
     ]
    },
    {
     "name": "stderr",
     "output_type": "stream",
     "text": [
      "11:27:30 - cmdstanpy - INFO - Chain [1] done processing\n",
      "11:27:30 - cmdstanpy - INFO - Chain [1] start processing\n"
     ]
    },
    {
     "name": "stdout",
     "output_type": "stream",
     "text": [
      "=== Metrics ===\n",
      "{'district': 'THANE', 'rmse': 38.72904591761244, 'forecast_periods': 6}\n",
      "\n",
      "=== Forecast Data ===\n",
      "  district       date  actual    forecast\n",
      "0    THANE 2020-10-01      68  134.248656\n",
      "1    THANE 2020-11-01      78   83.984842\n",
      "2    THANE 2020-12-01      56   97.996536\n",
      "3    THANE 2021-01-01      60   97.318624\n",
      "4    THANE 2021-02-01      50   67.256068\n",
      "5    THANE 2021-03-01      55   88.477912\n"
     ]
    },
    {
     "name": "stderr",
     "output_type": "stream",
     "text": [
      "11:27:30 - cmdstanpy - INFO - Chain [1] done processing\n",
      "11:27:31 - cmdstanpy - INFO - Chain [1] start processing\n"
     ]
    },
    {
     "name": "stdout",
     "output_type": "stream",
     "text": [
      "=== Metrics ===\n",
      "{'district': 'WARDHA', 'rmse': 4.3987006994767635, 'forecast_periods': 6}\n",
      "\n",
      "=== Forecast Data ===\n",
      "  district       date  actual   forecast\n",
      "0   WARDHA 2020-10-01      16  10.052221\n",
      "1   WARDHA 2020-11-01       7   4.463976\n",
      "2   WARDHA 2020-12-01      11   4.963890\n",
      "3   WARDHA 2021-01-01       8   6.798710\n",
      "4   WARDHA 2021-02-01       5  10.846409\n",
      "5   WARDHA 2021-03-01       5   6.491879\n"
     ]
    },
    {
     "name": "stderr",
     "output_type": "stream",
     "text": [
      "11:27:31 - cmdstanpy - INFO - Chain [1] done processing\n",
      "11:27:31 - cmdstanpy - INFO - Chain [1] start processing\n"
     ]
    },
    {
     "name": "stdout",
     "output_type": "stream",
     "text": [
      "=== Metrics ===\n",
      "{'district': 'WASHIM', 'rmse': 4.481030634257142, 'forecast_periods': 6}\n",
      "\n",
      "=== Forecast Data ===\n",
      "  district       date  actual   forecast\n",
      "0   WASHIM 2020-10-01      10  12.496171\n",
      "1   WASHIM 2020-11-01       5  14.475459\n",
      "2   WASHIM 2020-12-01      10   7.031953\n",
      "3   WASHIM 2021-01-01      11   8.209661\n",
      "4   WASHIM 2021-02-01       8   9.343034\n",
      "5   WASHIM 2021-03-01       3   5.462435\n"
     ]
    },
    {
     "name": "stderr",
     "output_type": "stream",
     "text": [
      "11:27:31 - cmdstanpy - INFO - Chain [1] done processing\n"
     ]
    },
    {
     "name": "stdout",
     "output_type": "stream",
     "text": [
      "=== Metrics ===\n",
      "{'district': 'YAVATMAL', 'rmse': 8.32178547053916, 'forecast_periods': 6}\n",
      "\n",
      "=== Forecast Data ===\n",
      "   district       date  actual   forecast\n",
      "0  YAVATMAL 2020-10-01      23  10.817041\n",
      "1  YAVATMAL 2020-11-01       6   6.888234\n",
      "2  YAVATMAL 2020-12-01       2   4.251806\n",
      "3  YAVATMAL 2021-01-01       5  17.213325\n",
      "4  YAVATMAL 2021-02-01       4  -0.990159\n",
      "5  YAVATMAL 2021-03-01       6  15.336038\n",
      "⚠️ Skipping MUMBAI SUBURBAN: Series too short (12 points) for 6-step forecast.\n",
      "=== Metrics ===\n",
      "\n",
      "=== Forecast Data ===\n",
      "None\n"
     ]
    },
    {
     "data": {
      "text/plain": [
       "{}"
      ]
     },
     "execution_count": 4,
     "metadata": {},
     "output_type": "execute_result"
    }
   ],
   "source": [
    "districts = data['district'].unique()\n",
    "rmse_values = []\n",
    "\n",
    "# Usage Example\n",
    "\n",
    "\n",
    "def run_for_each_district():\n",
    "    results = {}\n",
    "    \n",
    "    for district in districts:\n",
    "        district_data = data[data['district'] == district]\n",
    "        ts = district_data[\"I40\"].asfreq('MS')\n",
    "        \n",
    "        metrics, forecast = prophet_forecast(\n",
    "            series=ts,\n",
    "            district_name=district,\n",
    "            forecast_periods=6,  # Forecast the last year\n",
    "            yearly_seasonality='auto',\n",
    "            weekly_seasonality=False,\n",
    "            daily_seasonality=False\n",
    "        )\n",
    "\n",
    "        \n",
    "    \n",
    "        # Show results\n",
    "        print(\"=== Metrics ===\")\n",
    "        if metrics:\n",
    "            print(metrics)\n",
    "        print(\"\\n=== Forecast Data ===\")\n",
    "        print(forecast)\n",
    "    \n",
    "    return results\n",
    "run_for_each_district()"
   ]
  },
  {
   "cell_type": "code",
   "execution_count": 5,
   "id": "1cd18243",
   "metadata": {},
   "outputs": [
    {
     "data": {
      "text/plain": [
       "array(['AHMEDNAGAR', 'AKOLA', 'AMRAVATI', 'AURANGABAD', 'BEED',\n",
       "       'BHANDARA', 'BULDHANA', 'CHANDRAPUR', 'DHULE', 'GADCHIROLI',\n",
       "       'GONDIA', 'HINGOLI', 'JALGAON', 'JALNA', 'KOLHAPUR', 'LATUR',\n",
       "       'MUMBAI', 'NAGPUR', 'NANDED', 'NANDURBAR', 'NASHIK', 'OSMANABAD',\n",
       "       'PALGHAR', 'PARBHANI', 'PUNE', 'RAIGAD', 'RATNAGIRI', 'SANGLI',\n",
       "       'SATARA', 'SINDHUDURG', 'SOLAPUR', 'THANE', 'WARDHA', 'WASHIM',\n",
       "       'YAVATMAL', 'MUMBAI SUBURBAN'], dtype=object)"
      ]
     },
     "execution_count": 5,
     "metadata": {},
     "output_type": "execute_result"
    }
   ],
   "source": [
    "districts"
   ]
  },
  {
   "cell_type": "code",
   "execution_count": null,
   "id": "bfd763bb",
   "metadata": {},
   "outputs": [],
   "source": []
  }
 ],
 "metadata": {
  "kernelspec": {
   "display_name": "Python 3",
   "language": "python",
   "name": "python3"
  },
  "language_info": {
   "codemirror_mode": {
    "name": "ipython",
    "version": 3
   },
   "file_extension": ".py",
   "mimetype": "text/x-python",
   "name": "python",
   "nbconvert_exporter": "python",
   "pygments_lexer": "ipython3",
   "version": "3.11.0"
  }
 },
 "nbformat": 4,
 "nbformat_minor": 5
}
