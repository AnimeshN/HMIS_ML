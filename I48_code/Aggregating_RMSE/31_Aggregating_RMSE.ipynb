{
 "cells": [
  {
   "cell_type": "code",
   "execution_count": 1,
   "id": "5bfb68de",
   "metadata": {},
   "outputs": [],
   "source": [
    "import os\n",
    "import pandas as pd"
   ]
  },
  {
   "cell_type": "code",
   "execution_count": 2,
   "id": "6f2f9773",
   "metadata": {},
   "outputs": [],
   "source": [
    "folder_path = 'Forecasts'  # Replace with your folder path\n",
    "csv_files = [f for f in os.listdir(folder_path) if f.endswith('.csv')]\n"
   ]
  },
  {
   "cell_type": "code",
   "execution_count": 3,
   "id": "7ffc5c9b",
   "metadata": {},
   "outputs": [],
   "source": [
    "districts = ['AHMEDNAGAR', 'AKOLA', 'AMRAVATI', 'AURANGABAD', 'BEED',\n",
    "       'BHANDARA', 'BULDHANA', 'CHANDRAPUR', 'DHULE', 'GADCHIROLI',\n",
    "       'GONDIA', 'HINGOLI', 'JALGAON', 'JALNA', 'KOLHAPUR', 'LATUR',\n",
    "       'MUMBAI', 'NAGPUR', 'NANDED', 'NANDURBAR', 'NASHIK', 'OSMANABAD',\n",
    "       'PALGHAR', 'PARBHANI', 'PUNE', 'RAIGAD', 'RATNAGIRI', 'SANGLI',\n",
    "       'SATARA', 'SINDHUDURG', 'SOLAPUR', 'THANE', 'WARDHA', 'WASHIM',\n",
    "       'YAVATMAL', 'MUMBAI SUBURBAN']"
   ]
  },
  {
   "cell_type": "code",
   "execution_count": 4,
   "id": "90986c49",
   "metadata": {},
   "outputs": [
    {
     "name": "stderr",
     "output_type": "stream",
     "text": [
      "C:\\Users\\nauti\\AppData\\Local\\Temp\\ipykernel_41336\\2311738704.py:13: SettingWithCopyWarning: \n",
      "A value is trying to be set on a copy of a slice from a DataFrame.\n",
      "Try using .loc[row_indexer,col_indexer] = value instead\n",
      "\n",
      "See the caveats in the documentation: https://pandas.pydata.org/pandas-docs/stable/user_guide/indexing.html#returning-a-view-versus-a-copy\n",
      "  df_req['model'] = model\n",
      "C:\\Users\\nauti\\AppData\\Local\\Temp\\ipykernel_41336\\2311738704.py:13: SettingWithCopyWarning: \n",
      "A value is trying to be set on a copy of a slice from a DataFrame.\n",
      "Try using .loc[row_indexer,col_indexer] = value instead\n",
      "\n",
      "See the caveats in the documentation: https://pandas.pydata.org/pandas-docs/stable/user_guide/indexing.html#returning-a-view-versus-a-copy\n",
      "  df_req['model'] = model\n"
     ]
    }
   ],
   "source": [
    "dfs = []  # list to collect all df_req\n",
    "\n",
    "for f in csv_files:\n",
    "    df = pd.read_csv(f\"{folder_path}/{f}\")\n",
    "    model = f.split('_')[0]\n",
    "    \n",
    "    try:\n",
    "        df_req = df[['district', 'date', 'actual', 'forecast']]\n",
    "    except KeyError:\n",
    "        if model == 'bayesian':\n",
    "            df_req = df[['district', 'date', 'actual', 'forecast_mean']]\n",
    "            df_req = df_req.rename(columns={'forecast_mean': 'forecast'})  # optional: standardize column name\n",
    "    df_req['model'] = model \n",
    "    dfs.append(df_req)  # collect the processed df_req\n",
    "\n",
    "# After the loop, concatenate all collected dfs\n",
    "final_df = pd.concat(dfs, ignore_index=True)\n",
    "\n",
    "            \n",
    "        \n",
    "    # print(df_req.shape)"
   ]
  },
  {
   "cell_type": "code",
   "execution_count": 5,
   "id": "325054e8",
   "metadata": {},
   "outputs": [
    {
     "data": {
      "text/plain": [
       "Index(['district', 'date', 'actual', 'forecast', 'model'], dtype='object')"
      ]
     },
     "execution_count": 5,
     "metadata": {},
     "output_type": "execute_result"
    }
   ],
   "source": [
    "final_df.columns"
   ]
  },
  {
   "cell_type": "code",
   "execution_count": 6,
   "id": "440fc723",
   "metadata": {},
   "outputs": [],
   "source": [
    "final_df = final_df[['model','district', 'date', 'actual', 'forecast']]"
   ]
  },
  {
   "cell_type": "code",
   "execution_count": 7,
   "id": "e6d914c9",
   "metadata": {},
   "outputs": [],
   "source": [
    "final_df['model'] = final_df['model'].str.upper()  # Convert district names to uppercase"
   ]
  },
  {
   "cell_type": "code",
   "execution_count": 8,
   "id": "3512af5e",
   "metadata": {},
   "outputs": [
    {
     "data": {
      "text/plain": [
       "Index(['model', 'district', 'date', 'actual', 'forecast'], dtype='object')"
      ]
     },
     "execution_count": 8,
     "metadata": {},
     "output_type": "execute_result"
    }
   ],
   "source": [
    "final_df.columns"
   ]
  },
  {
   "cell_type": "code",
   "execution_count": 9,
   "id": "35b29be9",
   "metadata": {},
   "outputs": [
    {
     "name": "stdout",
     "output_type": "stream",
     "text": [
      "      district       model       RMSE\n",
      "1   AHMEDNAGAR       ARIMA  15.129452\n",
      "17  AHMEDNAGAR       TBATS  15.505437\n",
      "6   AHMEDNAGAR         EXP  15.746770\n",
      "2   AHMEDNAGAR    BAYESIAN  15.812603\n",
      "4   AHMEDNAGAR  ELASTICNET  16.187799\n"
     ]
    }
   ],
   "source": [
    "import numpy as np\n",
    "import pandas as pd\n",
    "\n",
    "# Assuming 'final_df' already loaded, with columns: ['district', 'date', 'actual', 'forecast', 'model']\n",
    "\n",
    "# Empty list to collect results\n",
    "results = []\n",
    "\n",
    "districts = final_df['district'].unique()\n",
    "models = final_df['model'].unique()\n",
    "\n",
    "for district in districts:\n",
    "    for model in models:\n",
    "        temp_df = final_df[(final_df['district'] == district) & (final_df['model'] == model)]\n",
    "        if not temp_df.empty:\n",
    "            rmse = np.sqrt(((temp_df['forecast'] - temp_df['actual'])**2).mean())\n",
    "            results.append({\n",
    "                'district': district,\n",
    "                'model': model,\n",
    "                'RMSE': rmse\n",
    "            })\n",
    "\n",
    "# Create DataFrame\n",
    "rmse_df = pd.DataFrame(results)\n",
    "\n",
    "# Sort if you want\n",
    "rmse_df = rmse_df.sort_values(by=['district', 'RMSE'])\n",
    "\n",
    "# See top results\n",
    "print(rmse_df.head())\n"
   ]
  },
  {
   "cell_type": "code",
   "execution_count": 10,
   "id": "0238ed0f",
   "metadata": {},
   "outputs": [
    {
     "data": {
      "application/vnd.microsoft.datawrangler.viewer.v0+json": {
       "columns": [
        {
         "name": "index",
         "rawType": "int64",
         "type": "integer"
        },
        {
         "name": "district",
         "rawType": "object",
         "type": "string"
        },
        {
         "name": "model",
         "rawType": "object",
         "type": "string"
        },
        {
         "name": "RMSE",
         "rawType": "float64",
         "type": "float"
        }
       ],
       "conversionMethod": "pd.DataFrame",
       "ref": "3c521262-4c09-4ee6-8b32-8459d6392dc7",
       "rows": [
        [
         "644",
         "THANE",
         "RF",
         "10.941328813480615"
        ],
        [
         "648",
         "THANE",
         "XGBOOST",
         "11.472098278431273"
        ],
        [
         "638",
         "THANE",
         "GB",
         "11.93359694155136"
        ],
        [
         "640",
         "THANE",
         "KNN",
         "13.508374827350274"
        ],
        [
         "633",
         "THANE",
         "BAYESIAN",
         "14.221094673904137"
        ],
        [
         "646",
         "THANE",
         "SARIMA",
         "14.80625007064356"
        ],
        [
         "636",
         "THANE",
         "ET",
         "16.41837877892927"
        ],
        [
         "635",
         "THANE",
         "ELASTICNET",
         "17.21644512072644"
        ],
        [
         "642",
         "THANE",
         "LINEAR",
         "17.322602758305916"
        ],
        [
         "641",
         "THANE",
         "LASSO",
         "17.705484544486083"
        ],
        [
         "634",
         "THANE",
         "DT",
         "18.410427096759967"
        ],
        [
         "645",
         "THANE",
         "RIDGE",
         "18.49132454763797"
        ],
        [
         "647",
         "THANE",
         "TBATS",
         "21.271827428103496"
        ],
        [
         "637",
         "THANE",
         "EXP",
         "21.296687857039593"
        ],
        [
         "632",
         "THANE",
         "ARIMA",
         "22.827098678794314"
        ],
        [
         "639",
         "THANE",
         "HUBER",
         "22.972121641423076"
        ],
        [
         "643",
         "THANE",
         "PROPHET",
         "38.72904591761244"
        ]
       ],
       "shape": {
        "columns": 3,
        "rows": 17
       }
      },
      "text/html": [
       "<div>\n",
       "<style scoped>\n",
       "    .dataframe tbody tr th:only-of-type {\n",
       "        vertical-align: middle;\n",
       "    }\n",
       "\n",
       "    .dataframe tbody tr th {\n",
       "        vertical-align: top;\n",
       "    }\n",
       "\n",
       "    .dataframe thead th {\n",
       "        text-align: right;\n",
       "    }\n",
       "</style>\n",
       "<table border=\"1\" class=\"dataframe\">\n",
       "  <thead>\n",
       "    <tr style=\"text-align: right;\">\n",
       "      <th></th>\n",
       "      <th>district</th>\n",
       "      <th>model</th>\n",
       "      <th>RMSE</th>\n",
       "    </tr>\n",
       "  </thead>\n",
       "  <tbody>\n",
       "    <tr>\n",
       "      <th>644</th>\n",
       "      <td>THANE</td>\n",
       "      <td>RF</td>\n",
       "      <td>10.941329</td>\n",
       "    </tr>\n",
       "    <tr>\n",
       "      <th>648</th>\n",
       "      <td>THANE</td>\n",
       "      <td>XGBOOST</td>\n",
       "      <td>11.472098</td>\n",
       "    </tr>\n",
       "    <tr>\n",
       "      <th>638</th>\n",
       "      <td>THANE</td>\n",
       "      <td>GB</td>\n",
       "      <td>11.933597</td>\n",
       "    </tr>\n",
       "    <tr>\n",
       "      <th>640</th>\n",
       "      <td>THANE</td>\n",
       "      <td>KNN</td>\n",
       "      <td>13.508375</td>\n",
       "    </tr>\n",
       "    <tr>\n",
       "      <th>633</th>\n",
       "      <td>THANE</td>\n",
       "      <td>BAYESIAN</td>\n",
       "      <td>14.221095</td>\n",
       "    </tr>\n",
       "    <tr>\n",
       "      <th>646</th>\n",
       "      <td>THANE</td>\n",
       "      <td>SARIMA</td>\n",
       "      <td>14.806250</td>\n",
       "    </tr>\n",
       "    <tr>\n",
       "      <th>636</th>\n",
       "      <td>THANE</td>\n",
       "      <td>ET</td>\n",
       "      <td>16.418379</td>\n",
       "    </tr>\n",
       "    <tr>\n",
       "      <th>635</th>\n",
       "      <td>THANE</td>\n",
       "      <td>ELASTICNET</td>\n",
       "      <td>17.216445</td>\n",
       "    </tr>\n",
       "    <tr>\n",
       "      <th>642</th>\n",
       "      <td>THANE</td>\n",
       "      <td>LINEAR</td>\n",
       "      <td>17.322603</td>\n",
       "    </tr>\n",
       "    <tr>\n",
       "      <th>641</th>\n",
       "      <td>THANE</td>\n",
       "      <td>LASSO</td>\n",
       "      <td>17.705485</td>\n",
       "    </tr>\n",
       "    <tr>\n",
       "      <th>634</th>\n",
       "      <td>THANE</td>\n",
       "      <td>DT</td>\n",
       "      <td>18.410427</td>\n",
       "    </tr>\n",
       "    <tr>\n",
       "      <th>645</th>\n",
       "      <td>THANE</td>\n",
       "      <td>RIDGE</td>\n",
       "      <td>18.491325</td>\n",
       "    </tr>\n",
       "    <tr>\n",
       "      <th>647</th>\n",
       "      <td>THANE</td>\n",
       "      <td>TBATS</td>\n",
       "      <td>21.271827</td>\n",
       "    </tr>\n",
       "    <tr>\n",
       "      <th>637</th>\n",
       "      <td>THANE</td>\n",
       "      <td>EXP</td>\n",
       "      <td>21.296688</td>\n",
       "    </tr>\n",
       "    <tr>\n",
       "      <th>632</th>\n",
       "      <td>THANE</td>\n",
       "      <td>ARIMA</td>\n",
       "      <td>22.827099</td>\n",
       "    </tr>\n",
       "    <tr>\n",
       "      <th>639</th>\n",
       "      <td>THANE</td>\n",
       "      <td>HUBER</td>\n",
       "      <td>22.972122</td>\n",
       "    </tr>\n",
       "    <tr>\n",
       "      <th>643</th>\n",
       "      <td>THANE</td>\n",
       "      <td>PROPHET</td>\n",
       "      <td>38.729046</td>\n",
       "    </tr>\n",
       "  </tbody>\n",
       "</table>\n",
       "</div>"
      ],
      "text/plain": [
       "    district       model       RMSE\n",
       "644    THANE          RF  10.941329\n",
       "648    THANE     XGBOOST  11.472098\n",
       "638    THANE          GB  11.933597\n",
       "640    THANE         KNN  13.508375\n",
       "633    THANE    BAYESIAN  14.221095\n",
       "646    THANE      SARIMA  14.806250\n",
       "636    THANE          ET  16.418379\n",
       "635    THANE  ELASTICNET  17.216445\n",
       "642    THANE      LINEAR  17.322603\n",
       "641    THANE       LASSO  17.705485\n",
       "634    THANE          DT  18.410427\n",
       "645    THANE       RIDGE  18.491325\n",
       "647    THANE       TBATS  21.271827\n",
       "637    THANE         EXP  21.296688\n",
       "632    THANE       ARIMA  22.827099\n",
       "639    THANE       HUBER  22.972122\n",
       "643    THANE     PROPHET  38.729046"
      ]
     },
     "execution_count": 10,
     "metadata": {},
     "output_type": "execute_result"
    }
   ],
   "source": [
    "rmse_df[rmse_df.district == \"THANE\"].sort_values(by='RMSE', ascending=True)"
   ]
  },
  {
   "cell_type": "code",
   "execution_count": 11,
   "id": "e76dd629",
   "metadata": {},
   "outputs": [
    {
     "data": {
      "text/plain": [
       "array(['ANN', 'ARIMA', 'BAYESIAN', 'DT', 'ELASTICNET', 'ET', 'EXP', 'GB',\n",
       "       'HUBER', 'KNN', 'LASSO', 'LINEAR', 'LSTM', 'PROPHET', 'RF',\n",
       "       'RIDGE', 'SARIMA', 'TBATS', 'XGBOOST'], dtype=object)"
      ]
     },
     "execution_count": 11,
     "metadata": {},
     "output_type": "execute_result"
    }
   ],
   "source": [
    "final_df['model'].unique()"
   ]
  },
  {
   "cell_type": "code",
   "execution_count": null,
   "id": "a8a0da0c",
   "metadata": {},
   "outputs": [],
   "source": []
  },
  {
   "cell_type": "code",
   "execution_count": 12,
   "id": "9e606c8c",
   "metadata": {},
   "outputs": [
    {
     "name": "stdout",
     "output_type": "stream",
     "text": [
      "model                  ANN      ARIMA   BAYESIAN         DT  ELASTICNET  \\\n",
      "district                                                                  \n",
      "AHMEDNAGAR       22.172191  15.129452  15.812603  20.357996   16.187799   \n",
      "AKOLA            13.246209   8.658511  11.008634  11.100983   10.188539   \n",
      "AMRAVATI         20.110462  18.018413  17.324720  21.698651   17.981397   \n",
      "AURANGABAD             NaN  14.539093  15.362882  36.089026   15.122201   \n",
      "BEED             13.173882   8.959206   8.098236  14.492909    7.644393   \n",
      "BHANDARA          3.621990   4.698549   4.649879   4.331396    4.630915   \n",
      "BULDHANA               NaN   5.461617   8.461511   6.033855    9.847896   \n",
      "CHANDRAPUR       14.910383  13.504074  14.586615  17.311605   14.263178   \n",
      "DHULE             9.215523  19.530972  12.637071   8.401389   13.480603   \n",
      "GADCHIROLI       10.019171  10.804322   9.225120   7.220514    9.361654   \n",
      "GONDIA            9.066511   7.288154   7.087232   8.046934    7.195237   \n",
      "HINGOLI           5.555481   4.328048   3.721333   6.776172    3.991515   \n",
      "JALGAON          17.573338  13.283692  10.481543  11.315725   10.107893   \n",
      "JALNA             7.072441   5.773352   6.326275   6.707303    6.247413   \n",
      "KOLHAPUR         12.454680   7.460513   7.748103  12.954260    7.546380   \n",
      "LATUR            20.804432  15.071106  19.379418  16.556819   16.987755   \n",
      "MUMBAI                 NaN  28.622121  14.421965  39.176861   22.592465   \n",
      "MUMBAI SUBURBAN        NaN  21.664098   5.430291   2.828427    2.107364   \n",
      "NAGPUR           18.308828  21.103560  15.311633  20.340810   16.471669   \n",
      "NANDED                 NaN   9.886470  16.823654  34.371982   13.311280   \n",
      "NANDURBAR         9.505526  11.726903   9.280757  10.793461    9.065029   \n",
      "NASHIK           17.650423  19.143320  15.865218  19.349388   16.328382   \n",
      "OSMANABAD         7.564222   6.475899   6.069095   9.074824    6.368029   \n",
      "PALGHAR                NaN   9.433048  10.681327  17.627644   10.546623   \n",
      "PARBHANI         10.456358   7.683860   8.595500   8.944962    8.971609   \n",
      "PUNE                   NaN  15.381943  30.127722  83.276321   48.060263   \n",
      "RAIGAD            8.908100   7.574998   8.658585   6.991093    7.979311   \n",
      "RATNAGIRI         6.545051   5.958408   5.979400   6.303327    6.470791   \n",
      "SANGLI            9.865658   8.234393   8.378880  10.093649    8.272416   \n",
      "SATARA            9.979604   7.110935   6.886838   8.994460    7.040821   \n",
      "SINDHUDURG        3.212586   2.635077   2.615488   3.306099    2.764697   \n",
      "SOLAPUR                NaN  26.444329  46.571985  32.006377   45.015942   \n",
      "THANE                  NaN  22.827099  14.221095  18.410427   17.216445   \n",
      "WARDHA            5.454831   3.084118   3.631208   3.715272    3.566065   \n",
      "WASHIM            3.662648   4.062309   4.205410   4.272823    4.300689   \n",
      "YAVATMAL          6.661442   6.743906   6.683218   6.573519    6.670737   \n",
      "\n",
      "model                   ET        EXP         GB      HUBER        KNN  \\\n",
      "district                                                                 \n",
      "AHMEDNAGAR       18.156512  15.746770  18.675721  18.124588  18.338960   \n",
      "AKOLA            11.288508   9.123854  15.135380   9.059014  10.775273   \n",
      "AMRAVATI         16.412041  18.419143  19.265727  18.304991  15.780883   \n",
      "AURANGABAD       24.465833  13.761024  12.929618  14.981617  15.076121   \n",
      "BEED             12.754083  10.556182  10.443663   7.618740  10.059767   \n",
      "BHANDARA          4.733487   4.706819   5.094373   4.224697   4.090252   \n",
      "BULDHANA          6.537199   6.660641   4.881088   7.584588   5.982122   \n",
      "CHANDRAPUR       16.574094  13.069718  14.325028  12.600500  13.386673   \n",
      "DHULE             8.475430  22.618992  14.430181  13.200732  15.802419   \n",
      "GADCHIROLI        9.276196  13.185114  10.406601   8.559979  10.476020   \n",
      "GONDIA            6.204739  10.262148   7.236740   6.648324   6.902062   \n",
      "HINGOLI           5.123973   4.756426   3.597139   4.033123   3.872098   \n",
      "JALGAON          14.774289  15.106551  11.842224  10.218157  15.502467   \n",
      "JALNA             6.123820   5.139343   6.161636   6.144949   5.577119   \n",
      "KOLHAPUR         11.677548   7.723258   9.986999   7.747516  11.804050   \n",
      "LATUR            15.220893  16.355685  15.062114  19.367652  15.129314   \n",
      "MUMBAI           25.814766  29.320891  21.793618  18.230852  15.560940   \n",
      "MUMBAI SUBURBAN   4.140000  21.663956  12.670305   8.218117        NaN   \n",
      "NAGPUR           12.726807  16.879135  14.943680  17.521415  20.138103   \n",
      "NANDED           23.861742   9.888448  17.052798  13.474848   9.953641   \n",
      "NANDURBAR         8.884784  13.009235  10.616853   9.140144   9.399892   \n",
      "NASHIK           15.878418  19.972943  18.045641  16.042243  16.138502   \n",
      "OSMANABAD         7.444877   6.487320   6.712772   5.142602   6.793849   \n",
      "PALGHAR          13.802179   9.403873  10.525127  12.155571  10.411031   \n",
      "PARBHANI          8.577436   6.820048   9.306772   9.735522   8.173278   \n",
      "PUNE             46.164946  15.368853  91.554321  44.050655  66.578747   \n",
      "RAIGAD            6.910381   8.393771  12.554847   9.116054   7.735245   \n",
      "RATNAGIRI         6.806615   5.862311   6.318391   5.719087   6.170942   \n",
      "SANGLI            9.105061   8.007260   8.115951   8.254090   9.115005   \n",
      "SATARA            7.529322   7.644600   7.286271   5.884576   6.746293   \n",
      "SINDHUDURG        2.625414   2.635077   2.777081   3.077831   2.535617   \n",
      "SOLAPUR          41.689484  24.035576  34.515163  45.998701  28.253148   \n",
      "THANE            16.418379  21.296688  11.933597  22.972122  13.508375   \n",
      "WARDHA            3.197607   3.769438   3.456076   3.965626   3.454775   \n",
      "WASHIM            4.015007   4.133104   4.140492   4.653926   4.382438   \n",
      "YAVATMAL          5.558273   5.999371   6.420601   6.877693   7.788279   \n",
      "\n",
      "model                LASSO     LINEAR       LSTM    PROPHET         RF  \\\n",
      "district                                                                 \n",
      "AHMEDNAGAR       16.593827  17.326589  17.864346  27.327659  18.572926   \n",
      "AKOLA            10.143111   9.307148  10.153137  15.161541  10.111420   \n",
      "AMRAVATI         16.431703  18.403094  19.058925  15.103523  17.255602   \n",
      "AURANGABAD       16.313862  15.152805        NaN  18.383754  18.324962   \n",
      "BEED              8.392269   7.644339   9.531146  25.027182  10.609611   \n",
      "BHANDARA          5.014245   4.152846   4.489181   8.611950   5.200526   \n",
      "BULDHANA          7.237943  10.861012        NaN  13.218005   6.029538   \n",
      "CHANDRAPUR       14.057513  12.990630  13.997263  14.651556  17.272486   \n",
      "DHULE            12.309312  13.556639  11.814270  15.937492   9.029334   \n",
      "GADCHIROLI        8.996723   8.368714  11.011259  10.391169   8.789053   \n",
      "GONDIA            5.755539   6.626647   7.756543   8.463970   6.541360   \n",
      "HINGOLI           3.663499   4.177311   4.536266   8.820630   4.796461   \n",
      "JALGAON           9.917006  10.064882   9.698700  11.470661  12.085697   \n",
      "JALNA             6.007966   6.342173   5.855421   8.894430   6.264406   \n",
      "KOLHAPUR          7.570897   7.747126   8.692778  13.800606  10.489408   \n",
      "LATUR            15.039492  19.486094  16.513533  11.768391  15.596757   \n",
      "MUMBAI           15.630041  23.104731        NaN  34.571116  18.046228   \n",
      "MUMBAI SUBURBAN        NaN   2.137691        NaN        NaN  11.716761   \n",
      "NAGPUR           16.822285  16.878969  14.066842  26.710420  15.630633   \n",
      "NANDED           12.524215  13.816517        NaN  17.021768  17.932024   \n",
      "NANDURBAR         8.377209   9.065023  10.552229  11.771978   9.376264   \n",
      "NASHIK           14.369985  16.343854  16.233714  13.680144  15.270656   \n",
      "OSMANABAD         6.904495   5.906876   7.593484   5.778875   7.604188   \n",
      "PALGHAR          10.430798  12.300742        NaN   7.589275  10.983591   \n",
      "PARBHANI          8.599609   9.417901   7.852515   7.303916   8.168241   \n",
      "PUNE             48.272076  49.177784        NaN  25.729054  79.819237   \n",
      "RAIGAD            7.929797   8.566701   8.369539  14.804661   6.264076   \n",
      "RATNAGIRI         6.598272   5.778223   6.336752   6.118277   6.067842   \n",
      "SANGLI            8.878131   8.278960   8.298433  16.188273   9.721800   \n",
      "SATARA            5.807458   6.177046   6.880472  12.305945   6.622704   \n",
      "SINDHUDURG        2.703315   3.051089   2.821759   2.279158   2.766853   \n",
      "SOLAPUR          44.876587  48.289015        NaN  25.892463  34.982535   \n",
      "THANE            17.705485  17.322603        NaN  38.729046  10.941329   \n",
      "WARDHA            3.555797   3.777699   3.855565   4.398701   3.059992   \n",
      "WASHIM            4.279409   4.444859   4.146122   4.481031   4.288310   \n",
      "YAVATMAL          7.591400   6.867230   7.221711   8.321785   5.674561   \n",
      "\n",
      "model                RIDGE     SARIMA      TBATS    XGBOOST  \n",
      "district                                                     \n",
      "AHMEDNAGAR       17.741361  44.655707  15.505437  19.845641  \n",
      "AKOLA             9.787856   7.486620   7.909961  12.157114  \n",
      "AMRAVATI         16.813449  18.424580  18.852219  17.263913  \n",
      "AURANGABAD       17.214690  13.379974  13.874933  22.522848  \n",
      "BEED              8.250240   6.259098  11.555177  11.311683  \n",
      "BHANDARA          3.915104  10.944105   5.292560   5.054288  \n",
      "BULDHANA         10.608720   4.185732   6.814179   6.263017  \n",
      "CHANDRAPUR       12.753373  24.948774  13.878325  16.667934  \n",
      "DHULE            12.514971  25.975183  22.347387   8.869662  \n",
      "GADCHIROLI        8.095776  15.792317  10.357995   8.939430  \n",
      "GONDIA            5.783593   6.080569  10.277773   6.582258  \n",
      "HINGOLI           4.163083   6.808063   4.430382   6.321507  \n",
      "JALGAON          10.171483   8.682596  15.110049  15.776233  \n",
      "JALNA             6.195857   5.901063   5.139870   7.172412  \n",
      "KOLHAPUR          8.065967  13.695313   7.730465  11.542225  \n",
      "LATUR            21.588793  28.188352  15.149825  15.390190  \n",
      "MUMBAI           16.002939  79.276412  45.297522  42.147137  \n",
      "MUMBAI SUBURBAN        NaN        NaN  22.125937        NaN  \n",
      "NAGPUR           17.202744  19.742798  20.622659  11.932834  \n",
      "NANDED           17.316582   9.886470  10.078454  23.564272  \n",
      "NANDURBAR         8.383733  10.599240  11.948668   9.250211  \n",
      "NASHIK           13.877319  19.198619  19.838930  16.341154  \n",
      "OSMANABAD         7.174169   6.475899   6.486947   6.635976  \n",
      "PALGHAR          17.460516   9.593615   9.543143  16.250355  \n",
      "PARBHANI          8.452358   7.195012   6.841699   8.315247  \n",
      "PUNE             51.440046  15.381943  39.403136  72.595926  \n",
      "RAIGAD            9.015407   7.574998   8.471186   7.832076  \n",
      "RATNAGIRI         6.348528  11.233881   5.884242   6.703971  \n",
      "SANGLI           10.515005  24.073515   9.437454   9.477642  \n",
      "SATARA            5.500248   6.664890   7.436639   6.651128  \n",
      "SINDHUDURG        2.762357   6.640783   2.625102   3.124647  \n",
      "SOLAPUR          53.180831  24.271382  23.850503  46.092195  \n",
      "THANE            18.491325  14.806250  21.271827  11.472098  \n",
      "WARDHA            3.771499   8.683317   3.767895   2.974991  \n",
      "WASHIM            4.245955   9.813465   4.029325   3.882599  \n",
      "YAVATMAL          7.691609   6.883276   5.912422   6.145332  \n"
     ]
    }
   ],
   "source": [
    "pivot_df = rmse_df.pivot(index='district', columns='model', values='RMSE')\n",
    "print(pivot_df)"
   ]
  },
  {
   "cell_type": "code",
   "execution_count": 13,
   "id": "0b8e3614",
   "metadata": {},
   "outputs": [],
   "source": [
    "pivot_df.to_csv('I40_rmse_pivot.csv', index=True)"
   ]
  },
  {
   "cell_type": "code",
   "execution_count": 14,
   "id": "070882f8",
   "metadata": {},
   "outputs": [],
   "source": [
    "# Get the best model for each district (lowest RMSE)\n",
    "best_models = rmse_df.loc[rmse_df.groupby('district')['RMSE'].idxmin()]\n",
    "\n",
    "# Display the result\n",
    "best_models[['district', 'model', 'RMSE']].to_csv('I40_best_models.csv', index=False)"
   ]
  },
  {
   "cell_type": "code",
   "execution_count": null,
   "id": "c24f0232",
   "metadata": {},
   "outputs": [],
   "source": []
  }
 ],
 "metadata": {
  "kernelspec": {
   "display_name": "Python 3",
   "language": "python",
   "name": "python3"
  },
  "language_info": {
   "codemirror_mode": {
    "name": "ipython",
    "version": 3
   },
   "file_extension": ".py",
   "mimetype": "text/x-python",
   "name": "python",
   "nbconvert_exporter": "python",
   "pygments_lexer": "ipython3",
   "version": "3.11.0"
  }
 },
 "nbformat": 4,
 "nbformat_minor": 5
}
