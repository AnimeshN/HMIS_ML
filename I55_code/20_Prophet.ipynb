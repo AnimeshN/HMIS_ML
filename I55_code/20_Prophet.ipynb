{
 "cells": [
  {
   "cell_type": "code",
   "execution_count": 1,
   "id": "caea4b94",
   "metadata": {},
   "outputs": [],
   "source": [
    "import os\n",
    "import numpy as np\n",
    "import pandas as pd\n",
    "import matplotlib.pyplot as plt\n",
    "from prophet import Prophet\n",
    "from sklearn.metrics import mean_squared_error"
   ]
  },
  {
   "cell_type": "code",
   "execution_count": 2,
   "id": "c5a44b4b",
   "metadata": {},
   "outputs": [],
   "source": [
    "data = pd.read_csv(\"../data/HMIS_DATA_CORRECTED_17_21/mh_dist17_21_with_IDs_date_correction.csv\")\n",
    "data = data[(data['indicator_type'] == 'Total [(A+B) or (C+D)]')]\n",
    "data['date'] = pd.to_datetime(data['date'])\n",
    "data = data.set_index('date')\n",
    "data.index = pd.DatetimeIndex(data.index)"
   ]
  },
  {
   "cell_type": "code",
   "execution_count": 3,
   "id": "b2834c17",
   "metadata": {},
   "outputs": [],
   "source": [
    "def prophet_forecast(\n",
    "    series,\n",
    "    district_name,\n",
    "    forecast_periods=12,\n",
    "    yearly_seasonality='auto',\n",
    "    weekly_seasonality=False,\n",
    "    daily_seasonality=False,\n",
    "    changepoint_prior_scale=0.05,\n",
    "    seasonality_prior_scale=10.0,\n",
    "    holidays=None,\n",
    "    plot_forecast=True\n",
    "):\n",
    "    \"\"\"\n",
    "    Prophet time series forecasting with error handling and RMSE calculation.\n",
    "    Returns (metrics, forecast_df) or (None, None) on error.\n",
    "    \"\"\"\n",
    "    try:\n",
    "        # 0. Directory setup\n",
    "        os.makedirs('Prophet_Forecasts', exist_ok=True)\n",
    "\n",
    "        # 1. Prepare DataFrame for Prophet\n",
    "        df = pd.DataFrame({'ds': series.index, 'y': series.values})\n",
    "        df = df.dropna()\n",
    "        if len(df) < forecast_periods + 12:\n",
    "            raise ValueError(f\"Series too short ({len(df)} points) for {forecast_periods}-step forecast.\")\n",
    "\n",
    "        # 2. Train/test split\n",
    "        train = df.iloc[:-forecast_periods]\n",
    "        test = df.iloc[-forecast_periods:]\n",
    "\n",
    "        # 3. Model setup\n",
    "        model = Prophet(\n",
    "            yearly_seasonality=yearly_seasonality,\n",
    "            weekly_seasonality=weekly_seasonality,\n",
    "            daily_seasonality=daily_seasonality,\n",
    "            changepoint_prior_scale=changepoint_prior_scale,\n",
    "            seasonality_prior_scale=seasonality_prior_scale,\n",
    "            holidays=holidays\n",
    "        )\n",
    "        model.fit(train)\n",
    "\n",
    "        # 4. Forecast\n",
    "        future = model.make_future_dataframe(periods=forecast_periods, freq='MS')\n",
    "        forecast = model.predict(future)\n",
    "\n",
    "        # 5. Extract forecasted values for test period\n",
    "        forecast_test = forecast.set_index('ds').loc[test['ds']]\n",
    "        y_pred = forecast_test['yhat'].values\n",
    "        y_test = test['y'].values\n",
    "\n",
    "        # 6. Metrics\n",
    "        rmse = np.sqrt(mean_squared_error(y_test, y_pred))\n",
    "        metrics = {\n",
    "            'district': district_name,\n",
    "            'rmse': rmse,\n",
    "            'forecast_periods': forecast_periods\n",
    "        }\n",
    "\n",
    "        # 7. Save forecast DataFrame\n",
    "        forecast_df = pd.DataFrame({\n",
    "            'district': district_name,\n",
    "            'date': test['ds'].values,\n",
    "            'actual': y_test,\n",
    "            'forecast': y_pred\n",
    "        })\n",
    "        forecast_df.to_csv(\n",
    "            os.path.join('Prophet_Forecasts', f'{district_name}_forecast.csv'),\n",
    "            index=False\n",
    "        )\n",
    "\n",
    "        # 8. Plotting\n",
    "        if plot_forecast:\n",
    "            plt.figure(figsize=(12, 6))\n",
    "            plt.plot(df['ds'], df['y'], label='Original')\n",
    "            plt.plot(forecast_df['date'], forecast_df['forecast'], label='Prophet Forecast', color='crimson')\n",
    "            plt.scatter(forecast_df['date'], forecast_df['actual'], label='Actual (Test)', color='black')\n",
    "            plt.title(f'{district_name} Prophet Forecast (RMSE: {rmse:.2f})')\n",
    "            plt.legend()\n",
    "            plt.savefig(os.path.join('Prophet_Forecasts', f'{district_name}_forecast_plot.png'))\n",
    "            plt.close()\n",
    "\n",
    "        return metrics, forecast_df\n",
    "\n",
    "    except Exception as e:\n",
    "        print(f\"⚠️ Skipping {district_name}: {str(e)}\")\n",
    "        return None, None"
   ]
  },
  {
   "cell_type": "code",
   "execution_count": 4,
   "id": "d6311f06",
   "metadata": {},
   "outputs": [
    {
     "name": "stderr",
     "output_type": "stream",
     "text": [
      "12:14:09 - cmdstanpy - INFO - Chain [1] start processing\n",
      "12:14:09 - cmdstanpy - INFO - Chain [1] done processing\n",
      "12:14:10 - cmdstanpy - INFO - Chain [1] start processing\n"
     ]
    },
    {
     "name": "stdout",
     "output_type": "stream",
     "text": [
      "=== Metrics ===\n",
      "{'district': 'AHMEDNAGAR', 'rmse': 106.6501375384711, 'forecast_periods': 6}\n",
      "\n",
      "=== Forecast Data ===\n",
      "     district       date  actual    forecast\n",
      "0  AHMEDNAGAR 2020-10-01     343  482.805534\n",
      "1  AHMEDNAGAR 2020-11-01     468  423.752666\n",
      "2  AHMEDNAGAR 2020-12-01     305  452.589230\n",
      "3  AHMEDNAGAR 2021-01-01     372  449.668904\n",
      "4  AHMEDNAGAR 2021-02-01     301  218.303959\n",
      "5  AHMEDNAGAR 2021-03-01     316  425.947361\n"
     ]
    },
    {
     "name": "stderr",
     "output_type": "stream",
     "text": [
      "12:14:10 - cmdstanpy - INFO - Chain [1] done processing\n",
      "12:14:11 - cmdstanpy - INFO - Chain [1] start processing\n"
     ]
    },
    {
     "name": "stdout",
     "output_type": "stream",
     "text": [
      "=== Metrics ===\n",
      "{'district': 'AKOLA', 'rmse': 156.37399207386676, 'forecast_periods': 6}\n",
      "\n",
      "=== Forecast Data ===\n",
      "  district       date  actual    forecast\n",
      "0    AKOLA 2020-10-01     493  636.332823\n",
      "1    AKOLA 2020-11-01     514  758.265970\n",
      "2    AKOLA 2020-12-01     450  302.838632\n",
      "3    AKOLA 2021-01-01     481  288.561529\n",
      "4    AKOLA 2021-02-01     416  497.974632\n",
      "5    AKOLA 2021-03-01     363  396.134821\n"
     ]
    },
    {
     "name": "stderr",
     "output_type": "stream",
     "text": [
      "12:14:11 - cmdstanpy - INFO - Chain [1] done processing\n",
      "12:14:12 - cmdstanpy - INFO - Chain [1] start processing\n"
     ]
    },
    {
     "name": "stdout",
     "output_type": "stream",
     "text": [
      "=== Metrics ===\n",
      "{'district': 'AMRAVATI', 'rmse': 400.23160036395007, 'forecast_periods': 6}\n",
      "\n",
      "=== Forecast Data ===\n",
      "   district       date  actual     forecast\n",
      "0  AMRAVATI 2020-10-01     819  1678.957293\n",
      "1  AMRAVATI 2020-11-01     609   437.222143\n",
      "2  AMRAVATI 2020-12-01     634   451.702797\n",
      "3  AMRAVATI 2021-01-01     472   339.191007\n",
      "4  AMRAVATI 2021-02-01     753   377.651510\n",
      "5  AMRAVATI 2021-03-01     457   474.911935\n"
     ]
    },
    {
     "name": "stderr",
     "output_type": "stream",
     "text": [
      "12:14:12 - cmdstanpy - INFO - Chain [1] done processing\n",
      "12:14:12 - cmdstanpy - INFO - Chain [1] start processing\n"
     ]
    },
    {
     "name": "stdout",
     "output_type": "stream",
     "text": [
      "=== Metrics ===\n",
      "{'district': 'AURANGABAD', 'rmse': 194.37668875397003, 'forecast_periods': 6}\n",
      "\n",
      "=== Forecast Data ===\n",
      "     district       date  actual    forecast\n",
      "0  AURANGABAD 2020-10-01     889  817.846579\n",
      "1  AURANGABAD 2020-11-01     837  391.295946\n",
      "2  AURANGABAD 2020-12-01     522  498.600970\n",
      "3  AURANGABAD 2021-01-01     685  547.167567\n",
      "4  AURANGABAD 2021-02-01     477  530.545170\n",
      "5  AURANGABAD 2021-03-01     489  512.801059\n"
     ]
    },
    {
     "name": "stderr",
     "output_type": "stream",
     "text": [
      "12:14:13 - cmdstanpy - INFO - Chain [1] done processing\n",
      "12:14:13 - cmdstanpy - INFO - Chain [1] start processing\n"
     ]
    },
    {
     "name": "stdout",
     "output_type": "stream",
     "text": [
      "=== Metrics ===\n",
      "{'district': 'BEED', 'rmse': 310.44790842604453, 'forecast_periods': 6}\n",
      "\n",
      "=== Forecast Data ===\n",
      "  district       date  actual     forecast\n",
      "0     BEED 2020-10-01     495  1125.884462\n",
      "1     BEED 2020-11-01     472   321.383994\n",
      "2     BEED 2020-12-01     561   252.198285\n",
      "3     BEED 2021-01-01     439   631.731763\n",
      "4     BEED 2021-02-01     414   310.047699\n",
      "5     BEED 2021-03-01     439   558.402368\n"
     ]
    },
    {
     "name": "stderr",
     "output_type": "stream",
     "text": [
      "12:14:14 - cmdstanpy - INFO - Chain [1] done processing\n",
      "12:14:14 - cmdstanpy - INFO - Chain [1] start processing\n"
     ]
    },
    {
     "name": "stdout",
     "output_type": "stream",
     "text": [
      "=== Metrics ===\n",
      "{'district': 'BHANDARA', 'rmse': 80.70222803738089, 'forecast_periods': 6}\n",
      "\n",
      "=== Forecast Data ===\n",
      "   district       date  actual    forecast\n",
      "0  BHANDARA 2020-10-01     397  336.622188\n",
      "1  BHANDARA 2020-11-01     285  415.853638\n",
      "2  BHANDARA 2020-12-01     316  193.108517\n",
      "3  BHANDARA 2021-01-01     194  239.967515\n",
      "4  BHANDARA 2021-02-01     173  204.091965\n",
      "5  BHANDARA 2021-03-01     225  236.265153\n"
     ]
    },
    {
     "name": "stderr",
     "output_type": "stream",
     "text": [
      "12:14:14 - cmdstanpy - INFO - Chain [1] done processing\n",
      "12:14:15 - cmdstanpy - INFO - Chain [1] start processing\n"
     ]
    },
    {
     "name": "stdout",
     "output_type": "stream",
     "text": [
      "=== Metrics ===\n",
      "{'district': 'BULDHANA', 'rmse': 62.14800743773779, 'forecast_periods': 6}\n",
      "\n",
      "=== Forecast Data ===\n",
      "   district       date  actual    forecast\n",
      "0  BULDHANA 2020-10-01     280  274.712185\n",
      "1  BULDHANA 2020-11-01     328  265.423828\n",
      "2  BULDHANA 2020-12-01     268  176.564683\n",
      "3  BULDHANA 2021-01-01     168  250.087176\n",
      "4  BULDHANA 2021-02-01     139  198.299828\n",
      "5  BULDHANA 2021-03-01     195  219.805633\n"
     ]
    },
    {
     "name": "stderr",
     "output_type": "stream",
     "text": [
      "12:14:15 - cmdstanpy - INFO - Chain [1] done processing\n",
      "12:14:15 - cmdstanpy - INFO - Chain [1] start processing\n"
     ]
    },
    {
     "name": "stdout",
     "output_type": "stream",
     "text": [
      "=== Metrics ===\n",
      "{'district': 'CHANDRAPUR', 'rmse': 76.723385470598, 'forecast_periods': 6}\n",
      "\n",
      "=== Forecast Data ===\n",
      "     district       date  actual    forecast\n",
      "0  CHANDRAPUR 2020-10-01     628  750.447835\n",
      "1  CHANDRAPUR 2020-11-01     562  490.850288\n",
      "2  CHANDRAPUR 2020-12-01     467  452.554548\n",
      "3  CHANDRAPUR 2021-01-01     385  271.752516\n",
      "4  CHANDRAPUR 2021-02-01     422  374.799842\n",
      "5  CHANDRAPUR 2021-03-01     385  386.262868\n"
     ]
    },
    {
     "name": "stderr",
     "output_type": "stream",
     "text": [
      "12:14:16 - cmdstanpy - INFO - Chain [1] done processing\n",
      "12:14:16 - cmdstanpy - INFO - Chain [1] start processing\n"
     ]
    },
    {
     "name": "stdout",
     "output_type": "stream",
     "text": [
      "=== Metrics ===\n",
      "{'district': 'DHULE', 'rmse': 173.2620541688867, 'forecast_periods': 6}\n",
      "\n",
      "=== Forecast Data ===\n",
      "  district       date  actual    forecast\n",
      "0    DHULE 2020-10-01     167  387.123922\n",
      "1    DHULE 2020-11-01     356  149.701990\n",
      "2    DHULE 2020-12-01     294  211.899727\n",
      "3    DHULE 2021-01-01     398  160.109222\n",
      "4    DHULE 2021-02-01     333  173.279384\n",
      "5    DHULE 2021-03-01     368  351.817459\n"
     ]
    },
    {
     "name": "stderr",
     "output_type": "stream",
     "text": [
      "12:14:17 - cmdstanpy - INFO - Chain [1] done processing\n",
      "12:14:17 - cmdstanpy - INFO - Chain [1] start processing\n"
     ]
    },
    {
     "name": "stdout",
     "output_type": "stream",
     "text": [
      "=== Metrics ===\n",
      "{'district': 'GADCHIROLI', 'rmse': 62.61081819021534, 'forecast_periods': 6}\n",
      "\n",
      "=== Forecast Data ===\n",
      "     district       date  actual    forecast\n",
      "0  GADCHIROLI 2020-10-01     431  486.663194\n",
      "1  GADCHIROLI 2020-11-01     434  386.019970\n",
      "2  GADCHIROLI 2020-12-01     399  351.753207\n",
      "3  GADCHIROLI 2021-01-01     360  381.865012\n",
      "4  GADCHIROLI 2021-02-01     235  359.079846\n",
      "5  GADCHIROLI 2021-03-01     272  275.750513\n"
     ]
    },
    {
     "name": "stderr",
     "output_type": "stream",
     "text": [
      "12:14:18 - cmdstanpy - INFO - Chain [1] done processing\n",
      "12:14:18 - cmdstanpy - INFO - Chain [1] start processing\n"
     ]
    },
    {
     "name": "stdout",
     "output_type": "stream",
     "text": [
      "=== Metrics ===\n",
      "{'district': 'GONDIA', 'rmse': 40.64717646206007, 'forecast_periods': 6}\n",
      "\n",
      "=== Forecast Data ===\n",
      "  district       date  actual    forecast\n",
      "0   GONDIA 2020-10-01     335  396.151382\n",
      "1   GONDIA 2020-11-01     425  424.247847\n",
      "2   GONDIA 2020-12-01     365  305.197159\n",
      "3   GONDIA 2021-01-01     314  364.010362\n",
      "4   GONDIA 2021-02-01     254  257.396281\n",
      "5   GONDIA 2021-03-01     336  326.826691\n"
     ]
    },
    {
     "name": "stderr",
     "output_type": "stream",
     "text": [
      "12:14:18 - cmdstanpy - INFO - Chain [1] done processing\n",
      "12:14:19 - cmdstanpy - INFO - Chain [1] start processing\n"
     ]
    },
    {
     "name": "stdout",
     "output_type": "stream",
     "text": [
      "=== Metrics ===\n",
      "{'district': 'HINGOLI', 'rmse': 93.82287440465291, 'forecast_periods': 6}\n",
      "\n",
      "=== Forecast Data ===\n",
      "  district       date  actual    forecast\n",
      "0  HINGOLI 2020-10-01     164  156.801792\n",
      "1  HINGOLI 2020-11-01     125   62.856558\n",
      "2  HINGOLI 2020-12-01      79  242.789449\n",
      "3  HINGOLI 2021-01-01     296  171.443876\n",
      "4  HINGOLI 2021-02-01     102   24.647635\n",
      "5  HINGOLI 2021-03-01     126  150.045143\n"
     ]
    },
    {
     "name": "stderr",
     "output_type": "stream",
     "text": [
      "12:14:19 - cmdstanpy - INFO - Chain [1] done processing\n",
      "12:14:19 - cmdstanpy - INFO - Chain [1] start processing\n"
     ]
    },
    {
     "name": "stdout",
     "output_type": "stream",
     "text": [
      "=== Metrics ===\n",
      "{'district': 'JALGAON', 'rmse': 164.97288818919108, 'forecast_periods': 6}\n",
      "\n",
      "=== Forecast Data ===\n",
      "  district       date  actual    forecast\n",
      "0  JALGAON 2020-10-01     415  551.332991\n",
      "1  JALGAON 2020-11-01     469  270.460909\n",
      "2  JALGAON 2020-12-01     593  331.592190\n",
      "3  JALGAON 2021-01-01     340  309.230072\n",
      "4  JALGAON 2021-02-01     239  286.238372\n",
      "5  JALGAON 2021-03-01     243  426.792199\n"
     ]
    },
    {
     "name": "stderr",
     "output_type": "stream",
     "text": [
      "12:14:19 - cmdstanpy - INFO - Chain [1] done processing\n",
      "12:14:20 - cmdstanpy - INFO - Chain [1] start processing\n"
     ]
    },
    {
     "name": "stdout",
     "output_type": "stream",
     "text": [
      "=== Metrics ===\n",
      "{'district': 'JALNA', 'rmse': 197.39093678704927, 'forecast_periods': 6}\n",
      "\n",
      "=== Forecast Data ===\n",
      "  district       date  actual    forecast\n",
      "0    JALNA 2020-10-01     226  173.314507\n",
      "1    JALNA 2020-11-01     211  532.681316\n",
      "2    JALNA 2020-12-01     163  502.842852\n",
      "3    JALNA 2021-01-01     184  188.882673\n",
      "4    JALNA 2021-02-01     166  210.717265\n",
      "5    JALNA 2021-03-01     149  249.039108\n"
     ]
    },
    {
     "name": "stderr",
     "output_type": "stream",
     "text": [
      "12:14:20 - cmdstanpy - INFO - Chain [1] done processing\n",
      "12:14:20 - cmdstanpy - INFO - Chain [1] start processing\n"
     ]
    },
    {
     "name": "stdout",
     "output_type": "stream",
     "text": [
      "=== Metrics ===\n",
      "{'district': 'KOLHAPUR', 'rmse': 139.77128242749967, 'forecast_periods': 6}\n",
      "\n",
      "=== Forecast Data ===\n",
      "   district       date  actual    forecast\n",
      "0  KOLHAPUR 2020-10-01     332  478.963591\n",
      "1  KOLHAPUR 2020-11-01     381  372.816476\n",
      "2  KOLHAPUR 2020-12-01     365  483.579270\n",
      "3  KOLHAPUR 2021-01-01     395  437.919784\n",
      "4  KOLHAPUR 2021-02-01     621  339.793175\n",
      "5  KOLHAPUR 2021-03-01     408  431.882460\n"
     ]
    },
    {
     "name": "stderr",
     "output_type": "stream",
     "text": [
      "12:14:20 - cmdstanpy - INFO - Chain [1] done processing\n",
      "12:14:21 - cmdstanpy - INFO - Chain [1] start processing\n"
     ]
    },
    {
     "name": "stdout",
     "output_type": "stream",
     "text": [
      "=== Metrics ===\n",
      "{'district': 'LATUR', 'rmse': 129.37282362103704, 'forecast_periods': 6}\n",
      "\n",
      "=== Forecast Data ===\n",
      "  district       date  actual    forecast\n",
      "0    LATUR 2020-10-01     448  341.904598\n",
      "1    LATUR 2020-11-01     462  328.383674\n",
      "2    LATUR 2020-12-01     367  340.625667\n",
      "3    LATUR 2021-01-01     570  352.370142\n",
      "4    LATUR 2021-02-01     322  431.512312\n",
      "5    LATUR 2021-03-01     401  294.872243\n"
     ]
    },
    {
     "name": "stderr",
     "output_type": "stream",
     "text": [
      "12:14:21 - cmdstanpy - INFO - Chain [1] done processing\n",
      "12:14:22 - cmdstanpy - INFO - Chain [1] start processing\n"
     ]
    },
    {
     "name": "stdout",
     "output_type": "stream",
     "text": [
      "=== Metrics ===\n",
      "{'district': 'MUMBAI', 'rmse': 839.7326216228543, 'forecast_periods': 6}\n",
      "\n",
      "=== Forecast Data ===\n",
      "  district       date  actual     forecast\n",
      "0   MUMBAI 2020-10-01     763  2100.714937\n",
      "1   MUMBAI 2020-11-01     583  1667.102454\n",
      "2   MUMBAI 2020-12-01     934  1165.036955\n",
      "3   MUMBAI 2021-01-01     474  1032.632331\n",
      "4   MUMBAI 2021-02-01     543  1059.347687\n",
      "5   MUMBAI 2021-03-01     484  1280.293150\n"
     ]
    },
    {
     "name": "stderr",
     "output_type": "stream",
     "text": [
      "12:14:22 - cmdstanpy - INFO - Chain [1] done processing\n",
      "12:14:22 - cmdstanpy - INFO - Chain [1] start processing\n"
     ]
    },
    {
     "name": "stdout",
     "output_type": "stream",
     "text": [
      "=== Metrics ===\n",
      "{'district': 'NAGPUR', 'rmse': 290.4775844874021, 'forecast_periods': 6}\n",
      "\n",
      "=== Forecast Data ===\n",
      "  district       date  actual     forecast\n",
      "0   NAGPUR 2020-10-01     603  1146.599296\n",
      "1   NAGPUR 2020-11-01     560   801.481782\n",
      "2   NAGPUR 2020-12-01     819   857.843563\n",
      "3   NAGPUR 2021-01-01     599   849.256696\n",
      "4   NAGPUR 2021-02-01     374   657.373589\n",
      "5   NAGPUR 2021-03-01     416   505.509158\n"
     ]
    },
    {
     "name": "stderr",
     "output_type": "stream",
     "text": [
      "12:14:22 - cmdstanpy - INFO - Chain [1] done processing\n",
      "12:14:23 - cmdstanpy - INFO - Chain [1] start processing\n"
     ]
    },
    {
     "name": "stdout",
     "output_type": "stream",
     "text": [
      "=== Metrics ===\n",
      "{'district': 'NANDED', 'rmse': 135.8404733144762, 'forecast_periods': 6}\n",
      "\n",
      "=== Forecast Data ===\n",
      "  district       date  actual    forecast\n",
      "0   NANDED 2020-10-01     391  601.665380\n",
      "1   NANDED 2020-11-01     412  264.018355\n",
      "2   NANDED 2020-12-01     334  310.339710\n",
      "3   NANDED 2021-01-01     287  341.759331\n",
      "4   NANDED 2021-02-01     220  412.780424\n",
      "5   NANDED 2021-03-01     285  345.947928\n"
     ]
    },
    {
     "name": "stderr",
     "output_type": "stream",
     "text": [
      "12:14:23 - cmdstanpy - INFO - Chain [1] done processing\n",
      "12:14:24 - cmdstanpy - INFO - Chain [1] start processing\n"
     ]
    },
    {
     "name": "stdout",
     "output_type": "stream",
     "text": [
      "=== Metrics ===\n",
      "{'district': 'NANDURBAR', 'rmse': 83.58735033075683, 'forecast_periods': 6}\n",
      "\n",
      "=== Forecast Data ===\n",
      "    district       date  actual    forecast\n",
      "0  NANDURBAR 2020-10-01     568  696.688143\n",
      "1  NANDURBAR 2020-11-01     511  461.874774\n",
      "2  NANDURBAR 2020-12-01     505  489.406202\n",
      "3  NANDURBAR 2021-01-01     342  386.311508\n",
      "4  NANDURBAR 2021-02-01     363  254.256482\n",
      "5  NANDURBAR 2021-03-01     354  448.420950\n"
     ]
    },
    {
     "name": "stderr",
     "output_type": "stream",
     "text": [
      "12:14:24 - cmdstanpy - INFO - Chain [1] done processing\n",
      "12:14:24 - cmdstanpy - INFO - Chain [1] start processing\n"
     ]
    },
    {
     "name": "stdout",
     "output_type": "stream",
     "text": [
      "=== Metrics ===\n",
      "{'district': 'NASHIK', 'rmse': 79.7734131875089, 'forecast_periods': 6}\n",
      "\n",
      "=== Forecast Data ===\n",
      "  district       date  actual     forecast\n",
      "0   NASHIK 2020-10-01    1264  1332.631543\n",
      "1   NASHIK 2020-11-01    1037  1000.017896\n",
      "2   NASHIK 2020-12-01     976   833.880527\n",
      "3   NASHIK 2021-01-01     882   882.804580\n",
      "4   NASHIK 2021-02-01     909  1006.577146\n",
      "5   NASHIK 2021-03-01    1000   951.164268\n"
     ]
    },
    {
     "name": "stderr",
     "output_type": "stream",
     "text": [
      "12:14:24 - cmdstanpy - INFO - Chain [1] done processing\n",
      "12:14:25 - cmdstanpy - INFO - Chain [1] start processing\n"
     ]
    },
    {
     "name": "stdout",
     "output_type": "stream",
     "text": [
      "=== Metrics ===\n",
      "{'district': 'OSMANABAD', 'rmse': 23.155860064610145, 'forecast_periods': 6}\n",
      "\n",
      "=== Forecast Data ===\n",
      "    district       date  actual    forecast\n",
      "0  OSMANABAD 2020-10-01     248  227.337847\n",
      "1  OSMANABAD 2020-11-01     189  183.888931\n",
      "2  OSMANABAD 2020-12-01     200  203.424106\n",
      "3  OSMANABAD 2021-01-01     138  183.213244\n",
      "4  OSMANABAD 2021-02-01     133  159.355124\n",
      "5  OSMANABAD 2021-03-01     169  172.682541\n"
     ]
    },
    {
     "name": "stderr",
     "output_type": "stream",
     "text": [
      "12:14:25 - cmdstanpy - INFO - Chain [1] done processing\n",
      "12:14:25 - cmdstanpy - INFO - Chain [1] start processing\n"
     ]
    },
    {
     "name": "stdout",
     "output_type": "stream",
     "text": [
      "=== Metrics ===\n",
      "{'district': 'PALGHAR', 'rmse': 170.5264888553059, 'forecast_periods': 6}\n",
      "\n",
      "=== Forecast Data ===\n",
      "  district       date  actual    forecast\n",
      "0  PALGHAR 2020-10-01    1020  907.426234\n",
      "1  PALGHAR 2020-11-01    1006  721.636738\n",
      "2  PALGHAR 2020-12-01     948  687.648799\n",
      "3  PALGHAR 2021-01-01     784  876.049307\n",
      "4  PALGHAR 2021-02-01     589  615.490658\n",
      "5  PALGHAR 2021-03-01     678  614.890528\n"
     ]
    },
    {
     "name": "stderr",
     "output_type": "stream",
     "text": [
      "12:14:26 - cmdstanpy - INFO - Chain [1] done processing\n",
      "12:14:26 - cmdstanpy - INFO - Chain [1] start processing\n"
     ]
    },
    {
     "name": "stdout",
     "output_type": "stream",
     "text": [
      "=== Metrics ===\n",
      "{'district': 'PARBHANI', 'rmse': 42.66379000686876, 'forecast_periods': 6}\n",
      "\n",
      "=== Forecast Data ===\n",
      "   district       date  actual    forecast\n",
      "0  PARBHANI 2020-10-01     315  295.079389\n",
      "1  PARBHANI 2020-11-01     205  216.498113\n",
      "2  PARBHANI 2020-12-01     179  221.448415\n",
      "3  PARBHANI 2021-01-01     287  196.737805\n",
      "4  PARBHANI 2021-02-01     196  197.285234\n",
      "5  PARBHANI 2021-03-01     212  190.991123\n"
     ]
    },
    {
     "name": "stderr",
     "output_type": "stream",
     "text": [
      "12:14:26 - cmdstanpy - INFO - Chain [1] done processing\n",
      "12:14:27 - cmdstanpy - INFO - Chain [1] start processing\n"
     ]
    },
    {
     "name": "stdout",
     "output_type": "stream",
     "text": [
      "=== Metrics ===\n",
      "{'district': 'PUNE', 'rmse': 535.2524760248847, 'forecast_periods': 6}\n",
      "\n",
      "=== Forecast Data ===\n",
      "  district       date  actual     forecast\n",
      "0     PUNE 2020-10-01    1349  2197.360604\n",
      "1     PUNE 2020-11-01    1578  1690.678253\n",
      "2     PUNE 2020-12-01    1364  2035.420307\n",
      "3     PUNE 2021-01-01    1384  1440.486184\n",
      "4     PUNE 2021-02-01    1070  1632.666378\n",
      "5     PUNE 2021-03-01    1211  1675.725516\n"
     ]
    },
    {
     "name": "stderr",
     "output_type": "stream",
     "text": [
      "12:14:27 - cmdstanpy - INFO - Chain [1] done processing\n",
      "12:14:27 - cmdstanpy - INFO - Chain [1] start processing\n"
     ]
    },
    {
     "name": "stdout",
     "output_type": "stream",
     "text": [
      "=== Metrics ===\n",
      "{'district': 'RAIGAD', 'rmse': 54.941081612640595, 'forecast_periods': 6}\n",
      "\n",
      "=== Forecast Data ===\n",
      "  district       date  actual    forecast\n",
      "0   RAIGAD 2020-10-01     491  422.293383\n",
      "1   RAIGAD 2020-11-01     465  410.936011\n",
      "2   RAIGAD 2020-12-01     444  374.947924\n",
      "3   RAIGAD 2021-01-01     377  387.789012\n",
      "4   RAIGAD 2021-02-01     298  305.895542\n",
      "5   RAIGAD 2021-03-01     261  335.301338\n"
     ]
    },
    {
     "name": "stderr",
     "output_type": "stream",
     "text": [
      "12:14:27 - cmdstanpy - INFO - Chain [1] done processing\n",
      "12:14:28 - cmdstanpy - INFO - Chain [1] start processing\n"
     ]
    },
    {
     "name": "stdout",
     "output_type": "stream",
     "text": [
      "=== Metrics ===\n",
      "{'district': 'RATNAGIRI', 'rmse': 68.05068958705064, 'forecast_periods': 6}\n",
      "\n",
      "=== Forecast Data ===\n",
      "    district       date  actual    forecast\n",
      "0  RATNAGIRI 2020-10-01     253  271.058515\n",
      "1  RATNAGIRI 2020-11-01     257  254.380960\n",
      "2  RATNAGIRI 2020-12-01     209  246.841081\n",
      "3  RATNAGIRI 2021-01-01     184  305.160177\n",
      "4  RATNAGIRI 2021-02-01     197  202.605735\n",
      "5  RATNAGIRI 2021-03-01     151  257.344951\n"
     ]
    },
    {
     "name": "stderr",
     "output_type": "stream",
     "text": [
      "12:14:28 - cmdstanpy - INFO - Chain [1] done processing\n",
      "12:14:28 - cmdstanpy - INFO - Chain [1] start processing\n"
     ]
    },
    {
     "name": "stdout",
     "output_type": "stream",
     "text": [
      "=== Metrics ===\n",
      "{'district': 'SANGLI', 'rmse': 300.6581405666083, 'forecast_periods': 6}\n",
      "\n",
      "=== Forecast Data ===\n",
      "  district       date  actual    forecast\n",
      "0   SANGLI 2020-10-01     373  821.608054\n",
      "1   SANGLI 2020-11-01     410  645.105860\n",
      "2   SANGLI 2020-12-01     432  506.080903\n",
      "3   SANGLI 2021-01-01     300  614.696290\n",
      "4   SANGLI 2021-02-01     294  643.484338\n",
      "5   SANGLI 2021-03-01     339  582.283611\n"
     ]
    },
    {
     "name": "stderr",
     "output_type": "stream",
     "text": [
      "12:14:29 - cmdstanpy - INFO - Chain [1] done processing\n",
      "12:14:29 - cmdstanpy - INFO - Chain [1] start processing\n"
     ]
    },
    {
     "name": "stdout",
     "output_type": "stream",
     "text": [
      "=== Metrics ===\n",
      "{'district': 'SATARA', 'rmse': 165.68781791479967, 'forecast_periods': 6}\n",
      "\n",
      "=== Forecast Data ===\n",
      "  district       date  actual    forecast\n",
      "0   SATARA 2020-10-01     494  615.978643\n",
      "1   SATARA 2020-11-01     518  482.222099\n",
      "2   SATARA 2020-12-01     814  466.398884\n",
      "3   SATARA 2021-01-01     577  440.632257\n",
      "4   SATARA 2021-02-01     423  365.956737\n",
      "5   SATARA 2021-03-01     401  477.676200\n"
     ]
    },
    {
     "name": "stderr",
     "output_type": "stream",
     "text": [
      "12:14:29 - cmdstanpy - INFO - Chain [1] done processing\n",
      "12:14:30 - cmdstanpy - INFO - Chain [1] start processing\n"
     ]
    },
    {
     "name": "stdout",
     "output_type": "stream",
     "text": [
      "=== Metrics ===\n",
      "{'district': 'SINDHUDURG', 'rmse': 21.942750176560896, 'forecast_periods': 6}\n",
      "\n",
      "=== Forecast Data ===\n",
      "     district       date  actual    forecast\n",
      "0  SINDHUDURG 2020-10-01     144  125.074494\n",
      "1  SINDHUDURG 2020-11-01     117  136.137492\n",
      "2  SINDHUDURG 2020-12-01     117  140.060542\n",
      "3  SINDHUDURG 2021-01-01      86   97.853478\n",
      "4  SINDHUDURG 2021-02-01      90   83.103601\n",
      "5  SINDHUDURG 2021-03-01      89  127.008334\n"
     ]
    },
    {
     "name": "stderr",
     "output_type": "stream",
     "text": [
      "12:14:30 - cmdstanpy - INFO - Chain [1] done processing\n",
      "12:14:30 - cmdstanpy - INFO - Chain [1] start processing\n"
     ]
    },
    {
     "name": "stdout",
     "output_type": "stream",
     "text": [
      "=== Metrics ===\n",
      "{'district': 'SOLAPUR', 'rmse': 174.77163854639127, 'forecast_periods': 6}\n",
      "\n",
      "=== Forecast Data ===\n",
      "  district       date  actual    forecast\n",
      "0  SOLAPUR 2020-10-01     535  820.273124\n",
      "1  SOLAPUR 2020-11-01     622  634.937863\n",
      "2  SOLAPUR 2020-12-01     481  470.250844\n",
      "3  SOLAPUR 2021-01-01     416  547.784259\n",
      "4  SOLAPUR 2021-02-01     453  732.775261\n",
      "5  SOLAPUR 2021-03-01     595  672.238449\n"
     ]
    },
    {
     "name": "stderr",
     "output_type": "stream",
     "text": [
      "12:14:31 - cmdstanpy - INFO - Chain [1] done processing\n",
      "12:14:31 - cmdstanpy - INFO - Chain [1] start processing\n"
     ]
    },
    {
     "name": "stdout",
     "output_type": "stream",
     "text": [
      "=== Metrics ===\n",
      "{'district': 'THANE', 'rmse': 315.6065334415665, 'forecast_periods': 6}\n",
      "\n",
      "=== Forecast Data ===\n",
      "  district       date  actual     forecast\n",
      "0    THANE 2020-10-01    1156  1387.450202\n",
      "1    THANE 2020-11-01     848  1524.620795\n",
      "2    THANE 2020-12-01    1031   971.619402\n",
      "3    THANE 2021-01-01     949   765.997246\n",
      "4    THANE 2021-02-01     620   665.984198\n",
      "5    THANE 2021-03-01     686   903.093061\n"
     ]
    },
    {
     "name": "stderr",
     "output_type": "stream",
     "text": [
      "12:14:31 - cmdstanpy - INFO - Chain [1] done processing\n",
      "12:14:32 - cmdstanpy - INFO - Chain [1] start processing\n"
     ]
    },
    {
     "name": "stdout",
     "output_type": "stream",
     "text": [
      "=== Metrics ===\n",
      "{'district': 'WARDHA', 'rmse': 56.47026437550319, 'forecast_periods': 6}\n",
      "\n",
      "=== Forecast Data ===\n",
      "  district       date  actual    forecast\n",
      "0   WARDHA 2020-10-01     241  256.379481\n",
      "1   WARDHA 2020-11-01     231  206.683436\n",
      "2   WARDHA 2020-12-01     310  189.110606\n",
      "3   WARDHA 2021-01-01     166  216.197013\n",
      "4   WARDHA 2021-02-01     150  146.574811\n",
      "5   WARDHA 2021-03-01     125  159.055883\n"
     ]
    },
    {
     "name": "stderr",
     "output_type": "stream",
     "text": [
      "12:14:32 - cmdstanpy - INFO - Chain [1] done processing\n",
      "12:14:32 - cmdstanpy - INFO - Chain [1] start processing\n"
     ]
    },
    {
     "name": "stdout",
     "output_type": "stream",
     "text": [
      "=== Metrics ===\n",
      "{'district': 'WASHIM', 'rmse': 34.83117651237075, 'forecast_periods': 6}\n",
      "\n",
      "=== Forecast Data ===\n",
      "  district       date  actual    forecast\n",
      "0   WASHIM 2020-10-01     113  125.591575\n",
      "1   WASHIM 2020-11-01     154  100.959112\n",
      "2   WASHIM 2020-12-01     123  166.693059\n",
      "3   WASHIM 2021-01-01     105  131.821740\n",
      "4   WASHIM 2021-02-01     100   61.441754\n",
      "5   WASHIM 2021-03-01      99   85.138033\n"
     ]
    },
    {
     "name": "stderr",
     "output_type": "stream",
     "text": [
      "12:14:32 - cmdstanpy - INFO - Chain [1] done processing\n"
     ]
    },
    {
     "name": "stdout",
     "output_type": "stream",
     "text": [
      "=== Metrics ===\n",
      "{'district': 'YAVATMAL', 'rmse': 61.44487250223455, 'forecast_periods': 6}\n",
      "\n",
      "=== Forecast Data ===\n",
      "   district       date  actual    forecast\n",
      "0  YAVATMAL 2020-10-01     182  252.315408\n",
      "1  YAVATMAL 2020-11-01     174  233.365683\n",
      "2  YAVATMAL 2020-12-01     163  191.676978\n",
      "3  YAVATMAL 2021-01-01     146  196.666520\n",
      "4  YAVATMAL 2021-02-01     140  179.917871\n",
      "5  YAVATMAL 2021-03-01     161  256.923884\n",
      "⚠️ Skipping MUMBAI SUBURBAN: Series too short (12 points) for 6-step forecast.\n",
      "=== Metrics ===\n",
      "\n",
      "=== Forecast Data ===\n",
      "None\n"
     ]
    },
    {
     "data": {
      "text/plain": [
       "{}"
      ]
     },
     "execution_count": 4,
     "metadata": {},
     "output_type": "execute_result"
    }
   ],
   "source": [
    "districts = data['district'].unique()\n",
    "rmse_values = []\n",
    "\n",
    "# Usage Example\n",
    "\n",
    "\n",
    "def run_for_each_district():\n",
    "    results = {}\n",
    "    \n",
    "    for district in districts:\n",
    "        district_data = data[data['district'] == district]\n",
    "        ts = district_data[\"I48\"].asfreq('MS')\n",
    "        \n",
    "        metrics, forecast = prophet_forecast(\n",
    "            series=ts,\n",
    "            district_name=district,\n",
    "            forecast_periods=6,  # Forecast the last year\n",
    "            yearly_seasonality='auto',\n",
    "            weekly_seasonality=False,\n",
    "            daily_seasonality=False\n",
    "        )\n",
    "\n",
    "        \n",
    "    \n",
    "        # Show results\n",
    "        print(\"=== Metrics ===\")\n",
    "        if metrics:\n",
    "            print(metrics)\n",
    "        print(\"\\n=== Forecast Data ===\")\n",
    "        print(forecast)\n",
    "    \n",
    "    return results\n",
    "run_for_each_district()"
   ]
  },
  {
   "cell_type": "code",
   "execution_count": 5,
   "id": "1cd18243",
   "metadata": {},
   "outputs": [
    {
     "data": {
      "text/plain": [
       "array(['AHMEDNAGAR', 'AKOLA', 'AMRAVATI', 'AURANGABAD', 'BEED',\n",
       "       'BHANDARA', 'BULDHANA', 'CHANDRAPUR', 'DHULE', 'GADCHIROLI',\n",
       "       'GONDIA', 'HINGOLI', 'JALGAON', 'JALNA', 'KOLHAPUR', 'LATUR',\n",
       "       'MUMBAI', 'NAGPUR', 'NANDED', 'NANDURBAR', 'NASHIK', 'OSMANABAD',\n",
       "       'PALGHAR', 'PARBHANI', 'PUNE', 'RAIGAD', 'RATNAGIRI', 'SANGLI',\n",
       "       'SATARA', 'SINDHUDURG', 'SOLAPUR', 'THANE', 'WARDHA', 'WASHIM',\n",
       "       'YAVATMAL', 'MUMBAI SUBURBAN'], dtype=object)"
      ]
     },
     "execution_count": 5,
     "metadata": {},
     "output_type": "execute_result"
    }
   ],
   "source": [
    "districts"
   ]
  },
  {
   "cell_type": "code",
   "execution_count": null,
   "id": "bfd763bb",
   "metadata": {},
   "outputs": [],
   "source": []
  }
 ],
 "metadata": {
  "kernelspec": {
   "display_name": "Python 3",
   "language": "python",
   "name": "python3"
  },
  "language_info": {
   "codemirror_mode": {
    "name": "ipython",
    "version": 3
   },
   "file_extension": ".py",
   "mimetype": "text/x-python",
   "name": "python",
   "nbconvert_exporter": "python",
   "pygments_lexer": "ipython3",
   "version": "3.11.0"
  }
 },
 "nbformat": 4,
 "nbformat_minor": 5
}
