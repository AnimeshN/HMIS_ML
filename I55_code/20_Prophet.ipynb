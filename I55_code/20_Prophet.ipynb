{
 "cells": [
  {
   "cell_type": "code",
   "execution_count": 1,
   "id": "caea4b94",
   "metadata": {},
   "outputs": [],
   "source": [
    "import os\n",
    "import numpy as np\n",
    "import pandas as pd\n",
    "import matplotlib.pyplot as plt\n",
    "from prophet import Prophet\n",
    "from sklearn.metrics import mean_squared_error"
   ]
  },
  {
   "cell_type": "code",
   "execution_count": 2,
   "id": "c5a44b4b",
   "metadata": {},
   "outputs": [],
   "source": [
    "data = pd.read_csv(\"../data/HMIS_DATA_CORRECTED_17_21/mh_dist17_21_with_IDs_date_correction.csv\")\n",
    "data = data[(data['indicator_type'] == 'Total [(A+B) or (C+D)]')]\n",
    "data['date'] = pd.to_datetime(data['date'])\n",
    "data = data.set_index('date')\n",
    "data.index = pd.DatetimeIndex(data.index)"
   ]
  },
  {
   "cell_type": "code",
   "execution_count": 3,
   "id": "b2834c17",
   "metadata": {},
   "outputs": [],
   "source": [
    "def prophet_forecast(\n",
    "    series,\n",
    "    district_name,\n",
    "    forecast_periods=12,\n",
    "    yearly_seasonality='auto',\n",
    "    weekly_seasonality=False,\n",
    "    daily_seasonality=False,\n",
    "    changepoint_prior_scale=0.05,\n",
    "    seasonality_prior_scale=10.0,\n",
    "    holidays=None,\n",
    "    plot_forecast=True\n",
    "):\n",
    "    \"\"\"\n",
    "    Prophet time series forecasting with error handling and RMSE calculation.\n",
    "    Returns (metrics, forecast_df) or (None, None) on error.\n",
    "    \"\"\"\n",
    "    try:\n",
    "        # 0. Directory setup\n",
    "        os.makedirs('Prophet_Forecasts', exist_ok=True)\n",
    "\n",
    "        # 1. Prepare DataFrame for Prophet\n",
    "        df = pd.DataFrame({'ds': series.index, 'y': series.values})\n",
    "        df = df.dropna()\n",
    "        if len(df) < forecast_periods + 12:\n",
    "            raise ValueError(f\"Series too short ({len(df)} points) for {forecast_periods}-step forecast.\")\n",
    "\n",
    "        # 2. Train/test split\n",
    "        train = df.iloc[:-forecast_periods]\n",
    "        test = df.iloc[-forecast_periods:]\n",
    "\n",
    "        # 3. Model setup\n",
    "        model = Prophet(\n",
    "            yearly_seasonality=yearly_seasonality,\n",
    "            weekly_seasonality=weekly_seasonality,\n",
    "            daily_seasonality=daily_seasonality,\n",
    "            changepoint_prior_scale=changepoint_prior_scale,\n",
    "            seasonality_prior_scale=seasonality_prior_scale,\n",
    "            holidays=holidays\n",
    "        )\n",
    "        model.fit(train)\n",
    "\n",
    "        # 4. Forecast\n",
    "        future = model.make_future_dataframe(periods=forecast_periods, freq='MS')\n",
    "        forecast = model.predict(future)\n",
    "\n",
    "        # 5. Extract forecasted values for test period\n",
    "        forecast_test = forecast.set_index('ds').loc[test['ds']]\n",
    "        y_pred = forecast_test['yhat'].values\n",
    "        y_test = test['y'].values\n",
    "\n",
    "        # 6. Metrics\n",
    "        rmse = np.sqrt(mean_squared_error(y_test, y_pred))\n",
    "        metrics = {\n",
    "            'district': district_name,\n",
    "            'rmse': rmse,\n",
    "            'forecast_periods': forecast_periods\n",
    "        }\n",
    "\n",
    "        # 7. Save forecast DataFrame\n",
    "        forecast_df = pd.DataFrame({\n",
    "            'district': district_name,\n",
    "            'date': test['ds'].values,\n",
    "            'actual': y_test,\n",
    "            'forecast': y_pred\n",
    "        })\n",
    "        forecast_df.to_csv(\n",
    "            os.path.join('Prophet_Forecasts', f'{district_name}_forecast.csv'),\n",
    "            index=False\n",
    "        )\n",
    "\n",
    "        # 8. Plotting\n",
    "        if plot_forecast:\n",
    "            plt.figure(figsize=(12, 6))\n",
    "            plt.plot(df['ds'], df['y'], label='Original')\n",
    "            plt.plot(forecast_df['date'], forecast_df['forecast'], label='Prophet Forecast', color='crimson')\n",
    "            plt.scatter(forecast_df['date'], forecast_df['actual'], label='Actual (Test)', color='black')\n",
    "            plt.title(f'{district_name} Prophet Forecast (RMSE: {rmse:.2f})')\n",
    "            plt.legend()\n",
    "            plt.savefig(os.path.join('Prophet_Forecasts', f'{district_name}_forecast_plot.png'))\n",
    "            plt.close()\n",
    "\n",
    "        return metrics, forecast_df\n",
    "\n",
    "    except Exception as e:\n",
    "        print(f\"⚠️ Skipping {district_name}: {str(e)}\")\n",
    "        return None, None"
   ]
  },
  {
   "cell_type": "code",
   "execution_count": 4,
   "id": "d6311f06",
   "metadata": {},
   "outputs": [
    {
     "name": "stderr",
     "output_type": "stream",
     "text": [
      "16:00:43 - cmdstanpy - INFO - Chain [1] start processing\n",
      "16:00:44 - cmdstanpy - INFO - Chain [1] done processing\n",
      "16:00:44 - cmdstanpy - INFO - Chain [1] start processing\n"
     ]
    },
    {
     "name": "stdout",
     "output_type": "stream",
     "text": [
      "=== Metrics ===\n",
      "{'district': 'AHMEDNAGAR', 'rmse': 2307.7065807141907, 'forecast_periods': 6}\n",
      "\n",
      "=== Forecast Data ===\n",
      "     district       date  actual     forecast\n",
      "0  AHMEDNAGAR 2020-10-01    6799  5849.173853\n",
      "1  AHMEDNAGAR 2020-11-01    5248  5782.043775\n",
      "2  AHMEDNAGAR 2020-12-01    4923  5542.589475\n",
      "3  AHMEDNAGAR 2021-01-01    4542  9218.391484\n",
      "4  AHMEDNAGAR 2021-02-01    4301  6484.628788\n",
      "5  AHMEDNAGAR 2021-03-01    3941  5876.180198\n"
     ]
    },
    {
     "name": "stderr",
     "output_type": "stream",
     "text": [
      "16:00:44 - cmdstanpy - INFO - Chain [1] done processing\n",
      "16:00:44 - cmdstanpy - INFO - Chain [1] start processing\n"
     ]
    },
    {
     "name": "stdout",
     "output_type": "stream",
     "text": [
      "=== Metrics ===\n",
      "{'district': 'AKOLA', 'rmse': 1134.5717133680312, 'forecast_periods': 6}\n",
      "\n",
      "=== Forecast Data ===\n",
      "  district       date  actual     forecast\n",
      "0    AKOLA 2020-10-01    2342  3473.345130\n",
      "1    AKOLA 2020-11-01    2550  2534.169979\n",
      "2    AKOLA 2020-12-01    2513  1952.443898\n",
      "3    AKOLA 2021-01-01    2215  2928.316723\n",
      "4    AKOLA 2021-02-01    1967  1083.963959\n",
      "5    AKOLA 2021-03-01    2265  4465.120202\n"
     ]
    },
    {
     "name": "stderr",
     "output_type": "stream",
     "text": [
      "16:00:44 - cmdstanpy - INFO - Chain [1] done processing\n",
      "16:00:45 - cmdstanpy - INFO - Chain [1] start processing\n"
     ]
    },
    {
     "name": "stdout",
     "output_type": "stream",
     "text": [
      "=== Metrics ===\n",
      "{'district': 'AMRAVATI', 'rmse': 590.3419421336738, 'forecast_periods': 6}\n",
      "\n",
      "=== Forecast Data ===\n",
      "   district       date  actual     forecast\n",
      "0  AMRAVATI 2020-10-01    3505  2810.074427\n",
      "1  AMRAVATI 2020-11-01    3484  2630.879623\n",
      "2  AMRAVATI 2020-12-01    3227  3045.584230\n",
      "3  AMRAVATI 2021-01-01    2783  2876.941082\n",
      "4  AMRAVATI 2021-02-01    2216  3122.960630\n",
      "5  AMRAVATI 2021-03-01    2626  2752.378514\n"
     ]
    },
    {
     "name": "stderr",
     "output_type": "stream",
     "text": [
      "16:00:45 - cmdstanpy - INFO - Chain [1] done processing\n",
      "16:00:45 - cmdstanpy - INFO - Chain [1] start processing\n"
     ]
    },
    {
     "name": "stdout",
     "output_type": "stream",
     "text": [
      "=== Metrics ===\n",
      "{'district': 'AURANGABAD', 'rmse': 476.6071065309574, 'forecast_periods': 6}\n",
      "\n",
      "=== Forecast Data ===\n",
      "     district       date  actual     forecast\n",
      "0  AURANGABAD 2020-10-01    6041  6324.680736\n",
      "1  AURANGABAD 2020-11-01    6010  5706.937164\n",
      "2  AURANGABAD 2020-12-01    6373  5466.643143\n",
      "3  AURANGABAD 2021-01-01    6136  6350.310166\n",
      "4  AURANGABAD 2021-02-01    5864  5304.221144\n",
      "5  AURANGABAD 2021-03-01    5897  5797.802246\n"
     ]
    },
    {
     "name": "stderr",
     "output_type": "stream",
     "text": [
      "16:00:45 - cmdstanpy - INFO - Chain [1] done processing\n",
      "16:00:45 - cmdstanpy - INFO - Chain [1] start processing\n"
     ]
    },
    {
     "name": "stdout",
     "output_type": "stream",
     "text": [
      "=== Metrics ===\n",
      "{'district': 'BEED', 'rmse': 658.8394118615939, 'forecast_periods': 6}\n",
      "\n",
      "=== Forecast Data ===\n",
      "  district       date  actual     forecast\n",
      "0     BEED 2020-10-01    3112  3895.692927\n",
      "1     BEED 2020-11-01    2812  1931.603660\n",
      "2     BEED 2020-12-01    2752  2161.341979\n",
      "3     BEED 2021-01-01    2275  2657.497741\n",
      "4     BEED 2021-02-01    2079  2842.337143\n",
      "5     BEED 2021-03-01    2382  2752.511660\n"
     ]
    },
    {
     "name": "stderr",
     "output_type": "stream",
     "text": [
      "16:00:46 - cmdstanpy - INFO - Chain [1] done processing\n",
      "16:00:46 - cmdstanpy - INFO - Chain [1] start processing\n"
     ]
    },
    {
     "name": "stdout",
     "output_type": "stream",
     "text": [
      "=== Metrics ===\n",
      "{'district': 'BHANDARA', 'rmse': 240.7377330147034, 'forecast_periods': 6}\n",
      "\n",
      "=== Forecast Data ===\n",
      "   district       date  actual     forecast\n",
      "0  BHANDARA 2020-10-01    1524  1628.302969\n",
      "1  BHANDARA 2020-11-01    1320  1291.989948\n",
      "2  BHANDARA 2020-12-01    1448  1414.183535\n",
      "3  BHANDARA 2021-01-01    1100  1290.330956\n",
      "4  BHANDARA 2021-02-01     954  1451.308548\n",
      "5  BHANDARA 2021-03-01    1076  1302.669464\n"
     ]
    },
    {
     "name": "stderr",
     "output_type": "stream",
     "text": [
      "16:00:46 - cmdstanpy - INFO - Chain [1] done processing\n",
      "16:00:46 - cmdstanpy - INFO - Chain [1] start processing\n"
     ]
    },
    {
     "name": "stdout",
     "output_type": "stream",
     "text": [
      "=== Metrics ===\n",
      "{'district': 'BULDHANA', 'rmse': 302.0281604572532, 'forecast_periods': 6}\n",
      "\n",
      "=== Forecast Data ===\n",
      "   district       date  actual     forecast\n",
      "0  BULDHANA 2020-10-01    1664  1099.181377\n",
      "1  BULDHANA 2020-11-01    1582  1407.254443\n",
      "2  BULDHANA 2020-12-01    1464  1455.410502\n",
      "3  BULDHANA 2021-01-01    1211  1503.710518\n",
      "4  BULDHANA 2021-02-01    1338  1354.705302\n",
      "5  BULDHANA 2021-03-01    1567  1232.728137\n"
     ]
    },
    {
     "name": "stderr",
     "output_type": "stream",
     "text": [
      "16:00:46 - cmdstanpy - INFO - Chain [1] done processing\n",
      "16:00:47 - cmdstanpy - INFO - Chain [1] start processing\n"
     ]
    },
    {
     "name": "stdout",
     "output_type": "stream",
     "text": [
      "=== Metrics ===\n",
      "{'district': 'CHANDRAPUR', 'rmse': 300.77530373100427, 'forecast_periods': 6}\n",
      "\n",
      "=== Forecast Data ===\n",
      "     district       date  actual     forecast\n",
      "0  CHANDRAPUR 2020-10-01    2760  2449.032870\n",
      "1  CHANDRAPUR 2020-11-01    2186  2328.128878\n",
      "2  CHANDRAPUR 2020-12-01    1946  1967.788763\n",
      "3  CHANDRAPUR 2021-01-01    1652  1870.239687\n",
      "4  CHANDRAPUR 2021-02-01    1528  2101.703545\n",
      "5  CHANDRAPUR 2021-03-01    1680  1900.577553\n"
     ]
    },
    {
     "name": "stderr",
     "output_type": "stream",
     "text": [
      "16:00:47 - cmdstanpy - INFO - Chain [1] done processing\n",
      "16:00:47 - cmdstanpy - INFO - Chain [1] start processing\n"
     ]
    },
    {
     "name": "stdout",
     "output_type": "stream",
     "text": [
      "=== Metrics ===\n",
      "{'district': 'DHULE', 'rmse': 330.6828197973424, 'forecast_periods': 6}\n",
      "\n",
      "=== Forecast Data ===\n",
      "  district       date  actual     forecast\n",
      "0    DHULE 2020-10-01    2028  1350.420055\n",
      "1    DHULE 2020-11-01    1809  1801.233661\n",
      "2    DHULE 2020-12-01    1803  2005.690633\n",
      "3    DHULE 2021-01-01    1700  1327.784234\n",
      "4    DHULE 2021-02-01    1662  1585.828968\n",
      "5    DHULE 2021-03-01    1633  1525.753693\n"
     ]
    },
    {
     "name": "stderr",
     "output_type": "stream",
     "text": [
      "16:00:47 - cmdstanpy - INFO - Chain [1] done processing\n",
      "16:00:48 - cmdstanpy - INFO - Chain [1] start processing\n"
     ]
    },
    {
     "name": "stdout",
     "output_type": "stream",
     "text": [
      "=== Metrics ===\n",
      "{'district': 'GADCHIROLI', 'rmse': 200.33044875967016, 'forecast_periods': 6}\n",
      "\n",
      "=== Forecast Data ===\n",
      "     district       date  actual     forecast\n",
      "0  GADCHIROLI 2020-10-01    1751  2013.911861\n",
      "1  GADCHIROLI 2020-11-01    1807  1756.291703\n",
      "2  GADCHIROLI 2020-12-01    1797  1435.332691\n",
      "3  GADCHIROLI 2021-01-01    1553  1389.867627\n",
      "4  GADCHIROLI 2021-02-01    1320  1382.352925\n",
      "5  GADCHIROLI 2021-03-01    1502  1413.702473\n"
     ]
    },
    {
     "name": "stderr",
     "output_type": "stream",
     "text": [
      "16:00:48 - cmdstanpy - INFO - Chain [1] done processing\n",
      "16:00:48 - cmdstanpy - INFO - Chain [1] start processing\n"
     ]
    },
    {
     "name": "stdout",
     "output_type": "stream",
     "text": [
      "=== Metrics ===\n",
      "{'district': 'GONDIA', 'rmse': 186.65200368968897, 'forecast_periods': 6}\n",
      "\n",
      "=== Forecast Data ===\n",
      "  district       date  actual     forecast\n",
      "0   GONDIA 2020-10-01    1065  1112.024365\n",
      "1   GONDIA 2020-11-01     934  1033.995367\n",
      "2   GONDIA 2020-12-01     990   931.284748\n",
      "3   GONDIA 2021-01-01     953   764.503139\n",
      "4   GONDIA 2021-02-01    1090   767.516086\n",
      "5   GONDIA 2021-03-01    1022   789.946048\n"
     ]
    },
    {
     "name": "stderr",
     "output_type": "stream",
     "text": [
      "16:00:48 - cmdstanpy - INFO - Chain [1] done processing\n",
      "16:00:49 - cmdstanpy - INFO - Chain [1] start processing\n"
     ]
    },
    {
     "name": "stdout",
     "output_type": "stream",
     "text": [
      "=== Metrics ===\n",
      "{'district': 'HINGOLI', 'rmse': 113.30213148229582, 'forecast_periods': 6}\n",
      "\n",
      "=== Forecast Data ===\n",
      "  district       date  actual     forecast\n",
      "0  HINGOLI 2020-10-01    1229  1200.106060\n",
      "1  HINGOLI 2020-11-01    1073  1168.508693\n",
      "2  HINGOLI 2020-12-01     996  1008.026365\n",
      "3  HINGOLI 2021-01-01     848   836.607088\n",
      "4  HINGOLI 2021-02-01     788  1044.395175\n",
      "5  HINGOLI 2021-03-01     890   922.473841\n"
     ]
    },
    {
     "name": "stderr",
     "output_type": "stream",
     "text": [
      "16:00:49 - cmdstanpy - INFO - Chain [1] done processing\n",
      "16:00:49 - cmdstanpy - INFO - Chain [1] start processing\n"
     ]
    },
    {
     "name": "stdout",
     "output_type": "stream",
     "text": [
      "=== Metrics ===\n",
      "{'district': 'JALGAON', 'rmse': 2113.665873006927, 'forecast_periods': 6}\n",
      "\n",
      "=== Forecast Data ===\n",
      "  district       date  actual     forecast\n",
      "0  JALGAON 2020-10-01    4900  4357.005141\n",
      "1  JALGAON 2020-11-01    4163  4715.731638\n",
      "2  JALGAON 2020-12-01    6939  5343.111902\n",
      "3  JALGAON 2021-01-01    3425  6088.981014\n",
      "4  JALGAON 2021-02-01    3322  6522.879214\n",
      "5  JALGAON 2021-03-01    2919  5432.138167\n"
     ]
    },
    {
     "name": "stderr",
     "output_type": "stream",
     "text": [
      "16:00:49 - cmdstanpy - INFO - Chain [1] done processing\n",
      "16:00:49 - cmdstanpy - INFO - Chain [1] start processing\n"
     ]
    },
    {
     "name": "stdout",
     "output_type": "stream",
     "text": [
      "=== Metrics ===\n",
      "{'district': 'JALNA', 'rmse': 641.4862936531551, 'forecast_periods': 6}\n",
      "\n",
      "=== Forecast Data ===\n",
      "  district       date  actual     forecast\n",
      "0    JALNA 2020-10-01    2115   675.442131\n",
      "1    JALNA 2020-11-01    1968  1524.091523\n",
      "2    JALNA 2020-12-01    1879  1715.105734\n",
      "3    JALNA 2021-01-01     936  1267.722760\n",
      "4    JALNA 2021-02-01     997  1111.307294\n",
      "5    JALNA 2021-03-01     830  1052.887679\n"
     ]
    },
    {
     "name": "stderr",
     "output_type": "stream",
     "text": [
      "16:00:49 - cmdstanpy - INFO - Chain [1] done processing\n",
      "16:00:50 - cmdstanpy - INFO - Chain [1] start processing\n"
     ]
    },
    {
     "name": "stdout",
     "output_type": "stream",
     "text": [
      "=== Metrics ===\n",
      "{'district': 'KOLHAPUR', 'rmse': 1073.2958431660186, 'forecast_periods': 6}\n",
      "\n",
      "=== Forecast Data ===\n",
      "   district       date  actual     forecast\n",
      "0  KOLHAPUR 2020-10-01    6246  3879.330874\n",
      "1  KOLHAPUR 2020-11-01    5778  4835.189581\n",
      "2  KOLHAPUR 2020-12-01    5687  5244.409049\n",
      "3  KOLHAPUR 2021-01-01    5502  5640.161040\n",
      "4  KOLHAPUR 2021-02-01    5141  5030.059080\n",
      "5  KOLHAPUR 2021-03-01    4987  4545.993816\n"
     ]
    },
    {
     "name": "stderr",
     "output_type": "stream",
     "text": [
      "16:00:50 - cmdstanpy - INFO - Chain [1] done processing\n",
      "16:00:50 - cmdstanpy - INFO - Chain [1] start processing\n"
     ]
    },
    {
     "name": "stdout",
     "output_type": "stream",
     "text": [
      "=== Metrics ===\n",
      "{'district': 'LATUR', 'rmse': 258.78915022183287, 'forecast_periods': 6}\n",
      "\n",
      "=== Forecast Data ===\n",
      "  district       date  actual     forecast\n",
      "0    LATUR 2020-10-01    3978  4199.755791\n",
      "1    LATUR 2020-11-01    3652  3855.462064\n",
      "2    LATUR 2020-12-01    3509  3258.380950\n",
      "3    LATUR 2021-01-01    3108  3452.042915\n",
      "4    LATUR 2021-02-01    3476  3689.157675\n",
      "5    LATUR 2021-03-01    3449  3158.058643\n"
     ]
    },
    {
     "name": "stderr",
     "output_type": "stream",
     "text": [
      "16:00:50 - cmdstanpy - INFO - Chain [1] done processing\n",
      "16:00:50 - cmdstanpy - INFO - Chain [1] start processing\n"
     ]
    },
    {
     "name": "stdout",
     "output_type": "stream",
     "text": [
      "=== Metrics ===\n",
      "{'district': 'MUMBAI', 'rmse': 3980.1329223911657, 'forecast_periods': 6}\n",
      "\n",
      "=== Forecast Data ===\n",
      "  district       date  actual     forecast\n",
      "0   MUMBAI 2020-10-01    3638  9707.188016\n",
      "1   MUMBAI 2020-11-01    4551  7743.444283\n",
      "2   MUMBAI 2020-12-01    3083  6494.257832\n",
      "3   MUMBAI 2021-01-01    2294  5562.311939\n",
      "4   MUMBAI 2021-02-01    2517  6139.007715\n",
      "5   MUMBAI 2021-03-01    2688  6235.466981\n"
     ]
    },
    {
     "name": "stderr",
     "output_type": "stream",
     "text": [
      "16:00:51 - cmdstanpy - INFO - Chain [1] done processing\n",
      "16:00:51 - cmdstanpy - INFO - Chain [1] start processing\n"
     ]
    },
    {
     "name": "stdout",
     "output_type": "stream",
     "text": [
      "=== Metrics ===\n",
      "{'district': 'NAGPUR', 'rmse': 270.8910919430042, 'forecast_periods': 6}\n",
      "\n",
      "=== Forecast Data ===\n",
      "  district       date  actual     forecast\n",
      "0   NAGPUR 2020-10-01    2712  2896.860761\n",
      "1   NAGPUR 2020-11-01    2889  2321.449351\n",
      "2   NAGPUR 2020-12-01    2822  2617.160405\n",
      "3   NAGPUR 2021-01-01    2046  1927.982080\n",
      "4   NAGPUR 2021-02-01    2416  2286.233137\n",
      "5   NAGPUR 2021-03-01    2031  2137.196674\n"
     ]
    },
    {
     "name": "stderr",
     "output_type": "stream",
     "text": [
      "16:00:51 - cmdstanpy - INFO - Chain [1] done processing\n",
      "16:00:51 - cmdstanpy - INFO - Chain [1] start processing\n"
     ]
    },
    {
     "name": "stdout",
     "output_type": "stream",
     "text": [
      "=== Metrics ===\n",
      "{'district': 'NANDED', 'rmse': 1069.801148161748, 'forecast_periods': 6}\n",
      "\n",
      "=== Forecast Data ===\n",
      "  district       date  actual     forecast\n",
      "0   NANDED 2020-10-01    4756  3710.866780\n",
      "1   NANDED 2020-11-01    4347  2616.859092\n",
      "2   NANDED 2020-12-01    4200  3053.870515\n",
      "3   NANDED 2021-01-01    2250  2925.090535\n",
      "4   NANDED 2021-02-01    2131  2985.279649\n",
      "5   NANDED 2021-03-01    3287  2755.961186\n"
     ]
    },
    {
     "name": "stderr",
     "output_type": "stream",
     "text": [
      "16:00:51 - cmdstanpy - INFO - Chain [1] done processing\n",
      "16:00:52 - cmdstanpy - INFO - Chain [1] start processing\n"
     ]
    },
    {
     "name": "stdout",
     "output_type": "stream",
     "text": [
      "=== Metrics ===\n",
      "{'district': 'NANDURBAR', 'rmse': 274.06373259910816, 'forecast_periods': 6}\n",
      "\n",
      "=== Forecast Data ===\n",
      "    district       date  actual     forecast\n",
      "0  NANDURBAR 2020-10-01    2593  2755.906020\n",
      "1  NANDURBAR 2020-11-01    2566  2176.890641\n",
      "2  NANDURBAR 2020-12-01    2217  2340.605339\n",
      "3  NANDURBAR 2021-01-01    1855  1987.769790\n",
      "4  NANDURBAR 2021-02-01    1625  2037.251132\n",
      "5  NANDURBAR 2021-03-01    1865  2129.318028\n"
     ]
    },
    {
     "name": "stderr",
     "output_type": "stream",
     "text": [
      "16:00:52 - cmdstanpy - INFO - Chain [1] done processing\n",
      "16:00:52 - cmdstanpy - INFO - Chain [1] start processing\n"
     ]
    },
    {
     "name": "stdout",
     "output_type": "stream",
     "text": [
      "=== Metrics ===\n",
      "{'district': 'NASHIK', 'rmse': 1277.39695864873, 'forecast_periods': 6}\n",
      "\n",
      "=== Forecast Data ===\n",
      "  district       date  actual     forecast\n",
      "0   NASHIK 2020-10-01    7227  7129.495845\n",
      "1   NASHIK 2020-11-01    6907  6867.077403\n",
      "2   NASHIK 2020-12-01    6679  7993.430855\n",
      "3   NASHIK 2021-01-01    6820  8136.323656\n",
      "4   NASHIK 2021-02-01    6552  8347.678349\n",
      "5   NASHIK 2021-03-01    5827  7586.107698\n"
     ]
    },
    {
     "name": "stderr",
     "output_type": "stream",
     "text": [
      "16:00:52 - cmdstanpy - INFO - Chain [1] done processing\n",
      "16:00:52 - cmdstanpy - INFO - Chain [1] start processing\n"
     ]
    },
    {
     "name": "stdout",
     "output_type": "stream",
     "text": [
      "=== Metrics ===\n",
      "{'district': 'OSMANABAD', 'rmse': 396.60696314913787, 'forecast_periods': 6}\n",
      "\n",
      "=== Forecast Data ===\n",
      "    district       date  actual     forecast\n",
      "0  OSMANABAD 2020-10-01    2081  1272.022525\n",
      "1  OSMANABAD 2020-11-01    1981  1703.493835\n",
      "2  OSMANABAD 2020-12-01    1981  1798.499582\n",
      "3  OSMANABAD 2021-01-01    1830  1676.491708\n",
      "4  OSMANABAD 2021-02-01    1598  1567.737253\n",
      "5  OSMANABAD 2021-03-01    1712  2105.117338\n"
     ]
    },
    {
     "name": "stderr",
     "output_type": "stream",
     "text": [
      "16:00:53 - cmdstanpy - INFO - Chain [1] done processing\n",
      "16:00:53 - cmdstanpy - INFO - Chain [1] start processing\n"
     ]
    },
    {
     "name": "stdout",
     "output_type": "stream",
     "text": [
      "=== Metrics ===\n",
      "{'district': 'PALGHAR', 'rmse': 704.5474703196696, 'forecast_periods': 6}\n",
      "\n",
      "=== Forecast Data ===\n",
      "  district       date  actual     forecast\n",
      "0  PALGHAR 2020-10-01    5385  4615.918624\n",
      "1  PALGHAR 2020-11-01    5076  4671.450156\n",
      "2  PALGHAR 2020-12-01    4708  5405.872651\n",
      "3  PALGHAR 2021-01-01    4568  4543.292418\n",
      "4  PALGHAR 2021-02-01    3787  5033.908665\n",
      "5  PALGHAR 2021-03-01    4420  4845.156637\n"
     ]
    },
    {
     "name": "stderr",
     "output_type": "stream",
     "text": [
      "16:00:53 - cmdstanpy - INFO - Chain [1] done processing\n",
      "16:00:53 - cmdstanpy - INFO - Chain [1] start processing\n"
     ]
    },
    {
     "name": "stdout",
     "output_type": "stream",
     "text": [
      "=== Metrics ===\n",
      "{'district': 'PARBHANI', 'rmse': 691.053529180717, 'forecast_periods': 6}\n",
      "\n",
      "=== Forecast Data ===\n",
      "   district       date  actual     forecast\n",
      "0  PARBHANI 2020-10-01    1984   773.084890\n",
      "1  PARBHANI 2020-11-01     868  1899.752792\n",
      "2  PARBHANI 2020-12-01    1740  1611.759592\n",
      "3  PARBHANI 2021-01-01    1755  1358.037368\n",
      "4  PARBHANI 2021-02-01    1299   994.890258\n",
      "5  PARBHANI 2021-03-01    1630  1369.245357\n"
     ]
    },
    {
     "name": "stderr",
     "output_type": "stream",
     "text": [
      "16:00:53 - cmdstanpy - INFO - Chain [1] done processing\n",
      "16:00:54 - cmdstanpy - INFO - Chain [1] start processing\n"
     ]
    },
    {
     "name": "stdout",
     "output_type": "stream",
     "text": [
      "=== Metrics ===\n",
      "{'district': 'PUNE', 'rmse': 1062.3913281900966, 'forecast_periods': 6}\n",
      "\n",
      "=== Forecast Data ===\n",
      "  district       date  actual      forecast\n",
      "0     PUNE 2020-10-01   14381  15318.817897\n",
      "1     PUNE 2020-11-01   14329  13296.505528\n",
      "2     PUNE 2020-12-01   13462  13724.660562\n",
      "3     PUNE 2021-01-01   13048  14169.362069\n",
      "4     PUNE 2021-02-01   11303  11821.163742\n",
      "5     PUNE 2021-03-01   13097  11299.343849\n"
     ]
    },
    {
     "name": "stderr",
     "output_type": "stream",
     "text": [
      "16:00:54 - cmdstanpy - INFO - Chain [1] done processing\n",
      "16:00:54 - cmdstanpy - INFO - Chain [1] start processing\n"
     ]
    },
    {
     "name": "stdout",
     "output_type": "stream",
     "text": [
      "=== Metrics ===\n",
      "{'district': 'RAIGAD', 'rmse': 675.0664261351492, 'forecast_periods': 6}\n",
      "\n",
      "=== Forecast Data ===\n",
      "  district       date  actual     forecast\n",
      "0   RAIGAD 2020-10-01    3615  2825.165168\n",
      "1   RAIGAD 2020-11-01    3367  3270.784423\n",
      "2   RAIGAD 2020-12-01    3787  2557.018622\n",
      "3   RAIGAD 2021-01-01    3511  3281.058339\n",
      "4   RAIGAD 2021-02-01    3272  3916.351586\n",
      "5   RAIGAD 2021-03-01    3167  3513.807229\n"
     ]
    },
    {
     "name": "stderr",
     "output_type": "stream",
     "text": [
      "16:00:54 - cmdstanpy - INFO - Chain [1] done processing\n",
      "16:00:54 - cmdstanpy - INFO - Chain [1] start processing\n"
     ]
    },
    {
     "name": "stdout",
     "output_type": "stream",
     "text": [
      "=== Metrics ===\n",
      "{'district': 'RATNAGIRI', 'rmse': 327.1887173597828, 'forecast_periods': 6}\n",
      "\n",
      "=== Forecast Data ===\n",
      "    district       date  actual     forecast\n",
      "0  RATNAGIRI 2020-10-01    1658  1550.734879\n",
      "1  RATNAGIRI 2020-11-01    1155  1195.366389\n",
      "2  RATNAGIRI 2020-12-01    1683  1597.331549\n",
      "3  RATNAGIRI 2021-01-01    1239  1616.438218\n",
      "4  RATNAGIRI 2021-02-01    1047  1618.191755\n",
      "5  RATNAGIRI 2021-03-01    1037  1428.306499\n"
     ]
    },
    {
     "name": "stderr",
     "output_type": "stream",
     "text": [
      "16:00:55 - cmdstanpy - INFO - Chain [1] done processing\n",
      "16:00:55 - cmdstanpy - INFO - Chain [1] start processing\n"
     ]
    },
    {
     "name": "stdout",
     "output_type": "stream",
     "text": [
      "=== Metrics ===\n",
      "{'district': 'SANGLI', 'rmse': 1086.0874985690762, 'forecast_periods': 6}\n",
      "\n",
      "=== Forecast Data ===\n",
      "  district       date  actual     forecast\n",
      "0   SANGLI 2020-10-01    2330  2829.999115\n",
      "1   SANGLI 2020-11-01    3203  3641.317430\n",
      "2   SANGLI 2020-12-01    2586  2881.836416\n",
      "3   SANGLI 2021-01-01    1822  3616.244776\n",
      "4   SANGLI 2021-02-01    1718  3536.153665\n",
      "5   SANGLI 2021-03-01    2696  2847.257364\n"
     ]
    },
    {
     "name": "stderr",
     "output_type": "stream",
     "text": [
      "16:00:55 - cmdstanpy - INFO - Chain [1] done processing\n",
      "16:00:56 - cmdstanpy - INFO - Chain [1] start processing\n"
     ]
    },
    {
     "name": "stdout",
     "output_type": "stream",
     "text": [
      "=== Metrics ===\n",
      "{'district': 'SATARA', 'rmse': 1213.7556730394363, 'forecast_periods': 6}\n",
      "\n",
      "=== Forecast Data ===\n",
      "  district       date  actual     forecast\n",
      "0   SATARA 2020-10-01    2412  4014.426353\n",
      "1   SATARA 2020-11-01    2455  3433.028860\n",
      "2   SATARA 2020-12-01    2576  3109.226187\n",
      "3   SATARA 2021-01-01    2272  3413.205669\n",
      "4   SATARA 2021-02-01    1962  3165.649993\n",
      "5   SATARA 2021-03-01    2076  3585.785576\n"
     ]
    },
    {
     "name": "stderr",
     "output_type": "stream",
     "text": [
      "16:00:56 - cmdstanpy - INFO - Chain [1] done processing\n",
      "16:00:56 - cmdstanpy - INFO - Chain [1] start processing\n"
     ]
    },
    {
     "name": "stdout",
     "output_type": "stream",
     "text": [
      "=== Metrics ===\n",
      "{'district': 'SINDHUDURG', 'rmse': 215.55903021393866, 'forecast_periods': 6}\n",
      "\n",
      "=== Forecast Data ===\n",
      "     district       date  actual    forecast\n",
      "0  SINDHUDURG 2020-10-01     435  239.968766\n",
      "1  SINDHUDURG 2020-11-01     458  368.756663\n",
      "2  SINDHUDURG 2020-12-01     456  319.920673\n",
      "3  SINDHUDURG 2021-01-01     456   61.268229\n",
      "4  SINDHUDURG 2021-02-01     391  213.215925\n",
      "5  SINDHUDURG 2021-03-01     339  175.126005\n"
     ]
    },
    {
     "name": "stderr",
     "output_type": "stream",
     "text": [
      "16:00:56 - cmdstanpy - INFO - Chain [1] done processing\n",
      "16:00:57 - cmdstanpy - INFO - Chain [1] start processing\n"
     ]
    },
    {
     "name": "stdout",
     "output_type": "stream",
     "text": [
      "=== Metrics ===\n",
      "{'district': 'SOLAPUR', 'rmse': 1792.9395662735674, 'forecast_periods': 6}\n",
      "\n",
      "=== Forecast Data ===\n",
      "  district       date  actual     forecast\n",
      "0  SOLAPUR 2020-10-01    2463  3728.236373\n",
      "1  SOLAPUR 2020-11-01    3694  2941.800279\n",
      "2  SOLAPUR 2020-12-01    6427  2770.451015\n",
      "3  SOLAPUR 2021-01-01    4111  2290.186878\n",
      "4  SOLAPUR 2021-02-01    2035  2503.025280\n",
      "5  SOLAPUR 2021-03-01    2190  2655.196368\n"
     ]
    },
    {
     "name": "stderr",
     "output_type": "stream",
     "text": [
      "16:00:57 - cmdstanpy - INFO - Chain [1] done processing\n",
      "16:00:57 - cmdstanpy - INFO - Chain [1] start processing\n"
     ]
    },
    {
     "name": "stdout",
     "output_type": "stream",
     "text": [
      "=== Metrics ===\n",
      "{'district': 'THANE', 'rmse': 3897.438478926347, 'forecast_periods': 6}\n",
      "\n",
      "=== Forecast Data ===\n",
      "  district       date  actual      forecast\n",
      "0    THANE 2020-10-01   12242   5127.806748\n",
      "1    THANE 2020-11-01    7730  13096.255812\n",
      "2    THANE 2020-12-01   12598  14243.859739\n",
      "3    THANE 2021-01-01    8749   9819.198063\n",
      "4    THANE 2021-02-01    9308   7003.319840\n",
      "5    THANE 2021-03-01   12833  11231.130997\n"
     ]
    },
    {
     "name": "stderr",
     "output_type": "stream",
     "text": [
      "16:00:58 - cmdstanpy - INFO - Chain [1] done processing\n",
      "16:00:58 - cmdstanpy - INFO - Chain [1] start processing\n"
     ]
    },
    {
     "name": "stdout",
     "output_type": "stream",
     "text": [
      "=== Metrics ===\n",
      "{'district': 'WARDHA', 'rmse': 421.8613809511082, 'forecast_periods': 6}\n",
      "\n",
      "=== Forecast Data ===\n",
      "  district       date  actual     forecast\n",
      "0   WARDHA 2020-10-01    1425  1478.522556\n",
      "1   WARDHA 2020-11-01    1342  1772.158964\n",
      "2   WARDHA 2020-12-01    1209  1641.619800\n",
      "3   WARDHA 2021-01-01    1027  1362.285869\n",
      "4   WARDHA 2021-02-01    1006  1585.365786\n",
      "5   WARDHA 2021-03-01    1105  1599.630701\n"
     ]
    },
    {
     "name": "stderr",
     "output_type": "stream",
     "text": [
      "16:00:58 - cmdstanpy - INFO - Chain [1] done processing\n",
      "16:00:59 - cmdstanpy - INFO - Chain [1] start processing\n"
     ]
    },
    {
     "name": "stdout",
     "output_type": "stream",
     "text": [
      "=== Metrics ===\n",
      "{'district': 'WASHIM', 'rmse': 223.77965709169757, 'forecast_periods': 6}\n",
      "\n",
      "=== Forecast Data ===\n",
      "  district       date  actual    forecast\n",
      "0   WASHIM 2020-10-01     696  752.543315\n",
      "1   WASHIM 2020-11-01     627  593.676085\n",
      "2   WASHIM 2020-12-01     616  803.549319\n",
      "3   WASHIM 2021-01-01     509  720.131293\n",
      "4   WASHIM 2021-02-01     477  861.270341\n",
      "5   WASHIM 2021-03-01     521  783.186030\n"
     ]
    },
    {
     "name": "stderr",
     "output_type": "stream",
     "text": [
      "16:00:59 - cmdstanpy - INFO - Chain [1] done processing\n"
     ]
    },
    {
     "name": "stdout",
     "output_type": "stream",
     "text": [
      "=== Metrics ===\n",
      "{'district': 'YAVATMAL', 'rmse': 1251.0779732487774, 'forecast_periods': 6}\n",
      "\n",
      "=== Forecast Data ===\n",
      "   district       date  actual     forecast\n",
      "0  YAVATMAL 2020-10-01    3708  4538.350681\n",
      "1  YAVATMAL 2020-11-01    3219  4007.932485\n",
      "2  YAVATMAL 2020-12-01    3613  1762.432797\n",
      "3  YAVATMAL 2021-01-01    3199  3752.219947\n",
      "4  YAVATMAL 2021-02-01    2808  4889.926163\n",
      "5  YAVATMAL 2021-03-01    3435  3554.214173\n",
      "⚠️ Skipping MUMBAI SUBURBAN: Series too short (12 points) for 6-step forecast.\n",
      "=== Metrics ===\n",
      "\n",
      "=== Forecast Data ===\n",
      "None\n"
     ]
    },
    {
     "data": {
      "text/plain": [
       "{}"
      ]
     },
     "execution_count": 4,
     "metadata": {},
     "output_type": "execute_result"
    }
   ],
   "source": [
    "districts = data['district'].unique()\n",
    "rmse_values = []\n",
    "\n",
    "# Usage Example\n",
    "\n",
    "\n",
    "def run_for_each_district():\n",
    "    results = {}\n",
    "    \n",
    "    for district in districts:\n",
    "        district_data = data[data['district'] == district]\n",
    "        ts = district_data[\"I55\"].asfreq('MS')\n",
    "        \n",
    "        metrics, forecast = prophet_forecast(\n",
    "            series=ts,\n",
    "            district_name=district,\n",
    "            forecast_periods=6,  # Forecast the last year\n",
    "            yearly_seasonality='auto',\n",
    "            weekly_seasonality=False,\n",
    "            daily_seasonality=False\n",
    "        )\n",
    "\n",
    "        \n",
    "    \n",
    "        # Show results\n",
    "        print(\"=== Metrics ===\")\n",
    "        if metrics:\n",
    "            print(metrics)\n",
    "        print(\"\\n=== Forecast Data ===\")\n",
    "        print(forecast)\n",
    "    \n",
    "    return results\n",
    "run_for_each_district()"
   ]
  },
  {
   "cell_type": "code",
   "execution_count": 5,
   "id": "1cd18243",
   "metadata": {},
   "outputs": [
    {
     "data": {
      "text/plain": [
       "array(['AHMEDNAGAR', 'AKOLA', 'AMRAVATI', 'AURANGABAD', 'BEED',\n",
       "       'BHANDARA', 'BULDHANA', 'CHANDRAPUR', 'DHULE', 'GADCHIROLI',\n",
       "       'GONDIA', 'HINGOLI', 'JALGAON', 'JALNA', 'KOLHAPUR', 'LATUR',\n",
       "       'MUMBAI', 'NAGPUR', 'NANDED', 'NANDURBAR', 'NASHIK', 'OSMANABAD',\n",
       "       'PALGHAR', 'PARBHANI', 'PUNE', 'RAIGAD', 'RATNAGIRI', 'SANGLI',\n",
       "       'SATARA', 'SINDHUDURG', 'SOLAPUR', 'THANE', 'WARDHA', 'WASHIM',\n",
       "       'YAVATMAL', 'MUMBAI SUBURBAN'], dtype=object)"
      ]
     },
     "execution_count": 5,
     "metadata": {},
     "output_type": "execute_result"
    }
   ],
   "source": [
    "districts"
   ]
  },
  {
   "cell_type": "code",
   "execution_count": null,
   "id": "bfd763bb",
   "metadata": {},
   "outputs": [],
   "source": []
  }
 ],
 "metadata": {
  "kernelspec": {
   "display_name": "Python 3",
   "language": "python",
   "name": "python3"
  },
  "language_info": {
   "codemirror_mode": {
    "name": "ipython",
    "version": 3
   },
   "file_extension": ".py",
   "mimetype": "text/x-python",
   "name": "python",
   "nbconvert_exporter": "python",
   "pygments_lexer": "ipython3",
   "version": "3.11.0"
  }
 },
 "nbformat": 4,
 "nbformat_minor": 5
}
