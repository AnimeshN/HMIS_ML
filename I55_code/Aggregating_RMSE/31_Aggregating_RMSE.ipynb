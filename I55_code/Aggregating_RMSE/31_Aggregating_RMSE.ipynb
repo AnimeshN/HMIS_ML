{
 "cells": [
  {
   "cell_type": "code",
   "execution_count": 1,
   "id": "5bfb68de",
   "metadata": {},
   "outputs": [],
   "source": [
    "import os\n",
    "import pandas as pd"
   ]
  },
  {
   "cell_type": "code",
   "execution_count": 2,
   "id": "6f2f9773",
   "metadata": {},
   "outputs": [],
   "source": [
    "folder_path = 'Forecasts'  # Replace with your folder path\n",
    "csv_files = [f for f in os.listdir(folder_path) if f.endswith('.csv')]\n"
   ]
  },
  {
   "cell_type": "code",
   "execution_count": 3,
   "id": "7ffc5c9b",
   "metadata": {},
   "outputs": [],
   "source": [
    "districts = ['AHMEDNAGAR', 'AKOLA', 'AMRAVATI', 'AURANGABAD', 'BEED',\n",
    "       'BHANDARA', 'BULDHANA', 'CHANDRAPUR', 'DHULE', 'GADCHIROLI',\n",
    "       'GONDIA', 'HINGOLI', 'JALGAON', 'JALNA', 'KOLHAPUR', 'LATUR',\n",
    "       'MUMBAI', 'NAGPUR', 'NANDED', 'NANDURBAR', 'NASHIK', 'OSMANABAD',\n",
    "       'PALGHAR', 'PARBHANI', 'PUNE', 'RAIGAD', 'RATNAGIRI', 'SANGLI',\n",
    "       'SATARA', 'SINDHUDURG', 'SOLAPUR', 'THANE', 'WARDHA', 'WASHIM',\n",
    "       'YAVATMAL', 'MUMBAI SUBURBAN']"
   ]
  },
  {
   "cell_type": "code",
   "execution_count": 4,
   "id": "90986c49",
   "metadata": {},
   "outputs": [
    {
     "name": "stderr",
     "output_type": "stream",
     "text": [
      "C:\\Users\\nauti\\AppData\\Local\\Temp\\ipykernel_46796\\2311738704.py:13: SettingWithCopyWarning: \n",
      "A value is trying to be set on a copy of a slice from a DataFrame.\n",
      "Try using .loc[row_indexer,col_indexer] = value instead\n",
      "\n",
      "See the caveats in the documentation: https://pandas.pydata.org/pandas-docs/stable/user_guide/indexing.html#returning-a-view-versus-a-copy\n",
      "  df_req['model'] = model\n",
      "C:\\Users\\nauti\\AppData\\Local\\Temp\\ipykernel_46796\\2311738704.py:13: SettingWithCopyWarning: \n",
      "A value is trying to be set on a copy of a slice from a DataFrame.\n",
      "Try using .loc[row_indexer,col_indexer] = value instead\n",
      "\n",
      "See the caveats in the documentation: https://pandas.pydata.org/pandas-docs/stable/user_guide/indexing.html#returning-a-view-versus-a-copy\n",
      "  df_req['model'] = model\n"
     ]
    }
   ],
   "source": [
    "dfs = []  # list to collect all df_req\n",
    "\n",
    "for f in csv_files:\n",
    "    df = pd.read_csv(f\"{folder_path}/{f}\")\n",
    "    model = f.split('_')[0]\n",
    "    \n",
    "    try:\n",
    "        df_req = df[['district', 'date', 'actual', 'forecast']]\n",
    "    except KeyError:\n",
    "        if model == 'bayesian':\n",
    "            df_req = df[['district', 'date', 'actual', 'forecast_mean']]\n",
    "            df_req = df_req.rename(columns={'forecast_mean': 'forecast'})  # optional: standardize column name\n",
    "    df_req['model'] = model \n",
    "    dfs.append(df_req)  # collect the processed df_req\n",
    "\n",
    "# After the loop, concatenate all collected dfs\n",
    "final_df = pd.concat(dfs, ignore_index=True)\n",
    "\n",
    "            \n",
    "        \n",
    "    # print(df_req.shape)"
   ]
  },
  {
   "cell_type": "code",
   "execution_count": 5,
   "id": "325054e8",
   "metadata": {},
   "outputs": [
    {
     "data": {
      "text/plain": [
       "Index(['district', 'date', 'actual', 'forecast', 'model'], dtype='object')"
      ]
     },
     "execution_count": 5,
     "metadata": {},
     "output_type": "execute_result"
    }
   ],
   "source": [
    "final_df.columns"
   ]
  },
  {
   "cell_type": "code",
   "execution_count": 6,
   "id": "440fc723",
   "metadata": {},
   "outputs": [],
   "source": [
    "final_df = final_df[['model','district', 'date', 'actual', 'forecast']]"
   ]
  },
  {
   "cell_type": "code",
   "execution_count": 7,
   "id": "e6d914c9",
   "metadata": {},
   "outputs": [],
   "source": [
    "final_df['model'] = final_df['model'].str.upper()  # Convert district names to uppercase"
   ]
  },
  {
   "cell_type": "code",
   "execution_count": 8,
   "id": "3512af5e",
   "metadata": {},
   "outputs": [
    {
     "data": {
      "text/plain": [
       "Index(['model', 'district', 'date', 'actual', 'forecast'], dtype='object')"
      ]
     },
     "execution_count": 8,
     "metadata": {},
     "output_type": "execute_result"
    }
   ],
   "source": [
    "final_df.columns"
   ]
  },
  {
   "cell_type": "code",
   "execution_count": 9,
   "id": "35b29be9",
   "metadata": {},
   "outputs": [
    {
     "name": "stdout",
     "output_type": "stream",
     "text": [
      "      district   model       RMSE\n",
      "17  AHMEDNAGAR  SARIMA  47.241465\n",
      "18  AHMEDNAGAR   TBATS  55.725705\n",
      "6   AHMEDNAGAR     EXP  58.619809\n",
      "13  AHMEDNAGAR    LSTM  64.807089\n",
      "5   AHMEDNAGAR      ET  75.739043\n"
     ]
    }
   ],
   "source": [
    "import numpy as np\n",
    "import pandas as pd\n",
    "\n",
    "# Assuming 'final_df' already loaded, with columns: ['district', 'date', 'actual', 'forecast', 'model']\n",
    "\n",
    "# Empty list to collect results\n",
    "results = []\n",
    "\n",
    "districts = final_df['district'].unique()\n",
    "models = final_df['model'].unique()\n",
    "\n",
    "for district in districts:\n",
    "    for model in models:\n",
    "        temp_df = final_df[(final_df['district'] == district) & (final_df['model'] == model)]\n",
    "        if not temp_df.empty:\n",
    "            rmse = np.sqrt(((temp_df['forecast'] - temp_df['actual'])**2).mean())\n",
    "            results.append({\n",
    "                'district': district,\n",
    "                'model': model,\n",
    "                'RMSE': rmse\n",
    "            })\n",
    "\n",
    "# Create DataFrame\n",
    "rmse_df = pd.DataFrame(results)\n",
    "\n",
    "# Sort if you want\n",
    "rmse_df = rmse_df.sort_values(by=['district', 'RMSE'])\n",
    "\n",
    "# See top results\n",
    "print(rmse_df.head())\n"
   ]
  },
  {
   "cell_type": "code",
   "execution_count": 10,
   "id": "0238ed0f",
   "metadata": {},
   "outputs": [
    {
     "data": {
      "application/vnd.microsoft.datawrangler.viewer.v0+json": {
       "columns": [
        {
         "name": "index",
         "rawType": "int64",
         "type": "integer"
        },
        {
         "name": "district",
         "rawType": "object",
         "type": "string"
        },
        {
         "name": "model",
         "rawType": "object",
         "type": "string"
        },
        {
         "name": "RMSE",
         "rawType": "float64",
         "type": "float"
        }
       ],
       "conversionMethod": "pd.DataFrame",
       "ref": "d955550b-659b-4eac-953e-4ea61b1072c8",
       "rows": [
        [
         "681",
         "THANE",
         "SARIMA",
         "147.5334858567144"
        ],
        [
         "671",
         "THANE",
         "EXP",
         "171.08002167005407"
        ],
        [
         "682",
         "THANE",
         "TBATS",
         "171.70011831884318"
        ],
        [
         "683",
         "THANE",
         "XGBOOST",
         "188.33431413141037"
        ],
        [
         "670",
         "THANE",
         "ET",
         "222.27662190262936"
        ],
        [
         "680",
         "THANE",
         "RIDGE",
         "237.73146064486946"
        ],
        [
         "675",
         "THANE",
         "LASSO",
         "237.76074818711507"
        ],
        [
         "669",
         "THANE",
         "ELASTICNET",
         "242.09517349096356"
        ],
        [
         "677",
         "THANE",
         "LINEAR",
         "242.1274463101242"
        ],
        [
         "668",
         "THANE",
         "DT",
         "243.37526526515256"
        ],
        [
         "673",
         "THANE",
         "HUBER",
         "253.22391385868804"
        ],
        [
         "667",
         "THANE",
         "BAYESIAN",
         "262.59854302472775"
        ],
        [
         "672",
         "THANE",
         "GB",
         "281.5715227223398"
        ],
        [
         "679",
         "THANE",
         "RF",
         "312.6117827140664"
        ],
        [
         "678",
         "THANE",
         "PROPHET",
         "315.6065334415665"
        ],
        [
         "666",
         "THANE",
         "ARIMA",
         "357.61848058753486"
        ],
        [
         "676",
         "THANE",
         "LGBM",
         "375.4523795405953"
        ],
        [
         "674",
         "THANE",
         "KNN",
         "382.3953831846467"
        ]
       ],
       "shape": {
        "columns": 3,
        "rows": 18
       }
      },
      "text/html": [
       "<div>\n",
       "<style scoped>\n",
       "    .dataframe tbody tr th:only-of-type {\n",
       "        vertical-align: middle;\n",
       "    }\n",
       "\n",
       "    .dataframe tbody tr th {\n",
       "        vertical-align: top;\n",
       "    }\n",
       "\n",
       "    .dataframe thead th {\n",
       "        text-align: right;\n",
       "    }\n",
       "</style>\n",
       "<table border=\"1\" class=\"dataframe\">\n",
       "  <thead>\n",
       "    <tr style=\"text-align: right;\">\n",
       "      <th></th>\n",
       "      <th>district</th>\n",
       "      <th>model</th>\n",
       "      <th>RMSE</th>\n",
       "    </tr>\n",
       "  </thead>\n",
       "  <tbody>\n",
       "    <tr>\n",
       "      <th>681</th>\n",
       "      <td>THANE</td>\n",
       "      <td>SARIMA</td>\n",
       "      <td>147.533486</td>\n",
       "    </tr>\n",
       "    <tr>\n",
       "      <th>671</th>\n",
       "      <td>THANE</td>\n",
       "      <td>EXP</td>\n",
       "      <td>171.080022</td>\n",
       "    </tr>\n",
       "    <tr>\n",
       "      <th>682</th>\n",
       "      <td>THANE</td>\n",
       "      <td>TBATS</td>\n",
       "      <td>171.700118</td>\n",
       "    </tr>\n",
       "    <tr>\n",
       "      <th>683</th>\n",
       "      <td>THANE</td>\n",
       "      <td>XGBOOST</td>\n",
       "      <td>188.334314</td>\n",
       "    </tr>\n",
       "    <tr>\n",
       "      <th>670</th>\n",
       "      <td>THANE</td>\n",
       "      <td>ET</td>\n",
       "      <td>222.276622</td>\n",
       "    </tr>\n",
       "    <tr>\n",
       "      <th>680</th>\n",
       "      <td>THANE</td>\n",
       "      <td>RIDGE</td>\n",
       "      <td>237.731461</td>\n",
       "    </tr>\n",
       "    <tr>\n",
       "      <th>675</th>\n",
       "      <td>THANE</td>\n",
       "      <td>LASSO</td>\n",
       "      <td>237.760748</td>\n",
       "    </tr>\n",
       "    <tr>\n",
       "      <th>669</th>\n",
       "      <td>THANE</td>\n",
       "      <td>ELASTICNET</td>\n",
       "      <td>242.095173</td>\n",
       "    </tr>\n",
       "    <tr>\n",
       "      <th>677</th>\n",
       "      <td>THANE</td>\n",
       "      <td>LINEAR</td>\n",
       "      <td>242.127446</td>\n",
       "    </tr>\n",
       "    <tr>\n",
       "      <th>668</th>\n",
       "      <td>THANE</td>\n",
       "      <td>DT</td>\n",
       "      <td>243.375265</td>\n",
       "    </tr>\n",
       "    <tr>\n",
       "      <th>673</th>\n",
       "      <td>THANE</td>\n",
       "      <td>HUBER</td>\n",
       "      <td>253.223914</td>\n",
       "    </tr>\n",
       "    <tr>\n",
       "      <th>667</th>\n",
       "      <td>THANE</td>\n",
       "      <td>BAYESIAN</td>\n",
       "      <td>262.598543</td>\n",
       "    </tr>\n",
       "    <tr>\n",
       "      <th>672</th>\n",
       "      <td>THANE</td>\n",
       "      <td>GB</td>\n",
       "      <td>281.571523</td>\n",
       "    </tr>\n",
       "    <tr>\n",
       "      <th>679</th>\n",
       "      <td>THANE</td>\n",
       "      <td>RF</td>\n",
       "      <td>312.611783</td>\n",
       "    </tr>\n",
       "    <tr>\n",
       "      <th>678</th>\n",
       "      <td>THANE</td>\n",
       "      <td>PROPHET</td>\n",
       "      <td>315.606533</td>\n",
       "    </tr>\n",
       "    <tr>\n",
       "      <th>666</th>\n",
       "      <td>THANE</td>\n",
       "      <td>ARIMA</td>\n",
       "      <td>357.618481</td>\n",
       "    </tr>\n",
       "    <tr>\n",
       "      <th>676</th>\n",
       "      <td>THANE</td>\n",
       "      <td>LGBM</td>\n",
       "      <td>375.452380</td>\n",
       "    </tr>\n",
       "    <tr>\n",
       "      <th>674</th>\n",
       "      <td>THANE</td>\n",
       "      <td>KNN</td>\n",
       "      <td>382.395383</td>\n",
       "    </tr>\n",
       "  </tbody>\n",
       "</table>\n",
       "</div>"
      ],
      "text/plain": [
       "    district       model        RMSE\n",
       "681    THANE      SARIMA  147.533486\n",
       "671    THANE         EXP  171.080022\n",
       "682    THANE       TBATS  171.700118\n",
       "683    THANE     XGBOOST  188.334314\n",
       "670    THANE          ET  222.276622\n",
       "680    THANE       RIDGE  237.731461\n",
       "675    THANE       LASSO  237.760748\n",
       "669    THANE  ELASTICNET  242.095173\n",
       "677    THANE      LINEAR  242.127446\n",
       "668    THANE          DT  243.375265\n",
       "673    THANE       HUBER  253.223914\n",
       "667    THANE    BAYESIAN  262.598543\n",
       "672    THANE          GB  281.571523\n",
       "679    THANE          RF  312.611783\n",
       "678    THANE     PROPHET  315.606533\n",
       "666    THANE       ARIMA  357.618481\n",
       "676    THANE        LGBM  375.452380\n",
       "674    THANE         KNN  382.395383"
      ]
     },
     "execution_count": 10,
     "metadata": {},
     "output_type": "execute_result"
    }
   ],
   "source": [
    "rmse_df[rmse_df.district == \"THANE\"].sort_values(by='RMSE', ascending=True)"
   ]
  },
  {
   "cell_type": "code",
   "execution_count": 11,
   "id": "e76dd629",
   "metadata": {},
   "outputs": [
    {
     "data": {
      "text/plain": [
       "array(['ANN', 'ARIMA', 'BAYESIAN', 'DT', 'ELASTICNET', 'ET', 'EXP', 'GB',\n",
       "       'HUBER', 'KNN', 'LASSO', 'LGBM', 'LINEAR', 'LSTM', 'PROPHET', 'RF',\n",
       "       'RIDGE', 'SARIMA', 'TBATS', 'XGBOOST'], dtype=object)"
      ]
     },
     "execution_count": 11,
     "metadata": {},
     "output_type": "execute_result"
    }
   ],
   "source": [
    "final_df['model'].unique()"
   ]
  },
  {
   "cell_type": "code",
   "execution_count": null,
   "id": "a8a0da0c",
   "metadata": {},
   "outputs": [],
   "source": []
  },
  {
   "cell_type": "code",
   "execution_count": 12,
   "id": "9e606c8c",
   "metadata": {},
   "outputs": [
    {
     "name": "stdout",
     "output_type": "stream",
     "text": [
      "model                   ANN       ARIMA    BAYESIAN          DT  ELASTICNET  \\\n",
      "district                                                                      \n",
      "AHMEDNAGAR       108.881629   91.875613   93.433481   91.692174   86.459827   \n",
      "AKOLA            119.307028   73.872301   67.458159  139.676709   62.995440   \n",
      "AMRAVATI                NaN  148.886267  416.923628  315.672295  435.600109   \n",
      "AURANGABAD              NaN  175.506416  326.658386  662.820712  330.856543   \n",
      "BEED             116.844019  145.280463  111.555790   59.478769   71.464789   \n",
      "BHANDARA          79.661767   68.396394   53.240374   63.581333   55.437781   \n",
      "BULDHANA          48.689003   50.066425   44.563284   55.143964   43.753492   \n",
      "CHANDRAPUR              NaN   86.718562  214.025344  310.585575  220.911148   \n",
      "DHULE            151.888580  148.578780  119.714471   98.357404  108.183152   \n",
      "GADCHIROLI              NaN   47.939407  104.054289   99.369000   86.671298   \n",
      "GONDIA                  NaN   62.270707  132.880879   87.992577  158.271643   \n",
      "HINGOLI           99.700744   64.623680   79.588306   84.252350   91.081108   \n",
      "JALGAON          194.192052  112.536664  121.813514  110.768930  117.656811   \n",
      "JALNA            196.968283   90.936803   63.913608   61.423044   49.275592   \n",
      "KOLHAPUR         104.636811   85.042459   88.206163  125.288650   87.025077   \n",
      "LATUR            118.861554  148.356749  137.225104  118.389146  111.961949   \n",
      "MUMBAI                  NaN  600.779638  206.974270  559.750176  223.795814   \n",
      "MUMBAI SUBURBAN         NaN  203.211831  127.330114  218.235983  124.179007   \n",
      "NAGPUR           263.697858  222.470763  247.198871  139.086048  195.030911   \n",
      "NANDED            77.343484   71.747563   67.095649   56.837785   67.430162   \n",
      "NANDURBAR        103.544792   92.548903   62.146825   73.202748   55.492625   \n",
      "NASHIK           124.992268  120.950293   77.409445  140.136118   84.952205   \n",
      "OSMANABAD         48.027164   38.187369   37.883607   41.703764   37.256105   \n",
      "PALGHAR          175.026758  130.036062  130.486644  166.320618  132.514017   \n",
      "PARBHANI          64.473550   82.093969   61.197678   77.707002   66.763333   \n",
      "PUNE             275.588111  399.714202  239.027514  180.035465  400.317157   \n",
      "RAIGAD            83.517411   84.236062   72.505069   95.109562   67.762436   \n",
      "RATNAGIRI               NaN   70.609489  218.654555  171.940150  215.234584   \n",
      "SANGLI           124.385428   84.393726   82.663668   88.567744   77.788458   \n",
      "SATARA           132.269642  135.608161  127.205617  149.646032  124.286232   \n",
      "SINDHUDURG        26.108263   21.190730   22.228006   30.368880   21.071701   \n",
      "SOLAPUR          110.397044  100.725144   91.204540  144.708705   98.238574   \n",
      "THANE                   NaN  357.618481  262.598543  243.375265  242.095173   \n",
      "WARDHA            60.507998   52.214943   50.113593   60.690712   50.586119   \n",
      "WASHIM            28.605293   20.589641   21.858790   27.828783   21.172195   \n",
      "YAVATMAL          50.938594   45.941468   25.900866   43.840937   24.957413   \n",
      "\n",
      "model                    ET         EXP           GB       HUBER         KNN  \\\n",
      "district                                                                       \n",
      "AHMEDNAGAR        75.739043   58.619809   131.677070   81.647353   94.401264   \n",
      "AKOLA             65.038350   74.043272    87.290967   69.864608   79.687722   \n",
      "AMRAVATI         273.130104  182.958179   280.095079  440.577890  186.197163   \n",
      "AURANGABAD       530.879900  240.225587   336.921174  308.153376  337.703271   \n",
      "BEED              69.024560   50.760158   116.237134   65.345810   47.120742   \n",
      "BHANDARA          72.833749   86.794709    85.035162   54.653266   49.274469   \n",
      "BULDHANA          47.319176   65.667608    56.682372   43.236031   46.342973   \n",
      "CHANDRAPUR       175.293718   94.447052   247.205954  275.219855  123.011169   \n",
      "DHULE            121.932678  101.108669   141.271139  108.448410  149.404309   \n",
      "GADCHIROLI        68.257381  117.741242    87.930874   85.769389   60.615465   \n",
      "GONDIA           151.598114   74.959939   132.629129  129.921014   93.686263   \n",
      "HINGOLI           83.537757   62.893166    65.611369   89.690433   69.047652   \n",
      "JALGAON          125.032120  112.756933   122.639653  120.961342  135.812810   \n",
      "JALNA             66.724042  129.081845    48.092591   48.198386   53.344392   \n",
      "KOLHAPUR          89.996288   85.043020    92.940259   87.737851   85.209417   \n",
      "LATUR            109.938886  121.281866   151.813271  124.608016  146.701701   \n",
      "MUMBAI           346.490017  149.038952  1168.601862  223.382800  131.634140   \n",
      "MUMBAI SUBURBAN  236.500168  203.211802   179.413161  119.052013  187.913840   \n",
      "NAGPUR           267.217992  128.346931   145.525253  181.999659  221.427906   \n",
      "NANDED            54.085266   82.037978    59.197081   59.621099   65.636047   \n",
      "NANDURBAR         75.111596  143.319531    78.511379   55.540525   92.415829   \n",
      "NASHIK           117.862378  193.969085   102.304526   85.942027  131.025511   \n",
      "OSMANABAD         35.423362   38.580594    39.054742   39.597199   38.545523   \n",
      "PALGHAR          157.706987  143.966527   143.507386  150.508445  141.917778   \n",
      "PARBHANI          73.384787   98.587892    80.615678   71.952437   71.678810   \n",
      "PUNE             252.899236  140.101607   243.824354  257.741517  395.110923   \n",
      "RAIGAD            90.631737   99.205280    87.693429   55.687468   90.470285   \n",
      "RATNAGIRI        191.393368   70.554621   219.516448  208.983937  231.867803   \n",
      "SANGLI           109.143149   83.039245    95.473053   75.210537   97.663675   \n",
      "SATARA           123.557308  139.648674   133.558237  122.308760  122.474126   \n",
      "SINDHUDURG        25.138581   21.190740    21.864174   21.004754   23.431121   \n",
      "SOLAPUR           81.316334  204.290534   103.585627  124.283589  121.560703   \n",
      "THANE            222.276622  171.080022   281.571523  253.223914  382.395383   \n",
      "WARDHA            55.263763   58.219162    57.848776   50.241403   55.502222   \n",
      "WASHIM            20.881446   19.688431    20.453376   21.639198   25.014564   \n",
      "YAVATMAL          24.039976   42.576977    36.514733   25.049299   20.199390   \n",
      "\n",
      "model                 LASSO        LGBM      LINEAR        LSTM     PROPHET  \\\n",
      "district                                                                      \n",
      "AHMEDNAGAR        77.007590  130.292120   86.561445   64.807089  106.650138   \n",
      "AKOLA             58.271448   79.923930   62.948154   68.492475  156.373992   \n",
      "AMRAVATI         467.839755  962.382486  435.721334         NaN  400.231600   \n",
      "AURANGABAD       435.909873  220.018350  330.874347         NaN  194.376689   \n",
      "BEED              81.889402   49.773799   71.387530  142.631048  310.447908   \n",
      "BHANDARA          55.323869   90.195033   55.465238   58.377608   80.702228   \n",
      "BULDHANA          45.877890   51.044207   43.764661   63.937002   62.148007   \n",
      "CHANDRAPUR       237.841535  212.102418  221.263405         NaN   76.723385   \n",
      "DHULE            109.936043  107.828241  108.252030  106.722879  173.262054   \n",
      "GADCHIROLI       126.433423   82.666154   86.393003         NaN   62.610818   \n",
      "GONDIA           116.868595   56.694789  158.769357         NaN   40.647176   \n",
      "HINGOLI           91.359053   84.545685   91.391457   67.560201   93.822874   \n",
      "JALGAON          120.876841  115.739847  117.663791  128.405259  164.972888   \n",
      "JALNA             70.260128   60.690538   49.199566   55.078153  197.390937   \n",
      "KOLHAPUR          90.689411   87.437421   87.014977   91.618241  139.771282   \n",
      "LATUR            119.897061  105.733113  112.037045  105.519987  129.372824   \n",
      "MUMBAI           165.939101  452.840040  224.010195         NaN  839.732622   \n",
      "MUMBAI SUBURBAN         NaN  217.072952  124.143470         NaN         NaN   \n",
      "NAGPUR           241.847322  353.082757  195.032990  219.537936  290.477584   \n",
      "NANDED            67.508182  131.148627   67.430161   79.511389  135.840473   \n",
      "NANDURBAR         61.043282   79.381491   55.391402   76.161485   83.587350   \n",
      "NASHIK            81.474761  150.630858   84.925959  119.064731   79.773413   \n",
      "OSMANABAD         37.946797   47.314008   37.492386   36.196490   23.155860   \n",
      "PALGHAR          125.521664  162.738060  132.492257  137.679605  170.526489   \n",
      "PARBHANI          64.699157   89.776150   66.924359   63.014573   42.663790   \n",
      "PUNE             208.010978  732.058566  400.300426  235.676180  535.252476   \n",
      "RAIGAD            66.323567   76.717651   67.727457   79.889488   54.941082   \n",
      "RATNAGIRI        217.514525   75.687483  215.128066         NaN   68.050690   \n",
      "SANGLI            83.541127   64.930703   77.790383   98.646024  300.658141   \n",
      "SATARA           120.185001  135.856228  124.312497  141.972038  165.687818   \n",
      "SINDHUDURG        21.154175   20.596367   21.003867   21.109034   21.942750   \n",
      "SOLAPUR          104.619881  103.080380   98.270383   98.145595  174.771639   \n",
      "THANE            237.760748  375.452380  242.127446         NaN  315.606533   \n",
      "WARDHA            49.809316   74.295668   50.591603   57.860789   56.470264   \n",
      "WASHIM            26.392119   45.307206   21.184196   20.442027   34.831177   \n",
      "YAVATMAL          23.090619   31.188947   24.900824   31.726979   61.444873   \n",
      "\n",
      "model                    RF       RIDGE      SARIMA       TBATS     XGBOOST  \n",
      "district                                                                     \n",
      "AHMEDNAGAR        83.175733   76.959356   47.241465   55.725705   82.027491  \n",
      "AKOLA             88.487854   58.186014  432.914888   69.746354   71.936412  \n",
      "AMRAVATI         192.187358  468.016449  153.269696  230.151812  182.362092  \n",
      "AURANGABAD       417.007666  436.290519  274.625659  240.283369  525.390304  \n",
      "BEED              54.648766   81.853469  269.821014   50.735351   58.949494  \n",
      "BHANDARA          76.864851   55.703810   53.134603   86.031068   83.319426  \n",
      "BULDHANA          46.010277   45.967963   64.161004   52.076336   47.658296  \n",
      "CHANDRAPUR       156.665027  237.806253  252.338174   95.884905  191.255513  \n",
      "DHULE             98.586914  110.028687  271.779117  154.978503  117.895597  \n",
      "GADCHIROLI        78.353848  127.066264   43.414866   87.935095   76.524209  \n",
      "GONDIA           102.944196  117.178158   66.500074   76.309930  142.860571  \n",
      "HINGOLI           72.354446   92.269741  147.080729   95.863141   88.962694  \n",
      "JALGAON          120.230104  120.779969  112.536664  111.463868  121.524148  \n",
      "JALNA             61.666489   70.390942  251.519979   97.775081   65.910572  \n",
      "KOLHAPUR          89.398774   90.806019  198.852096   83.250951   89.760586  \n",
      "LATUR            108.662826  120.069824  402.312276  134.439581  113.236743  \n",
      "MUMBAI           334.665377  165.901132  994.727529  148.981581  378.803991  \n",
      "MUMBAI SUBURBAN  188.225911         NaN         NaN  197.430146         NaN  \n",
      "NAGPUR           173.488894  241.851652  155.595412  128.394969  247.523646  \n",
      "NANDED            45.487605   67.537647  114.527831   98.197319   62.882971  \n",
      "NANDURBAR         70.414831   61.180599   92.768210  143.770719   87.617892  \n",
      "NASHIK           109.966271   81.428352  233.024428  119.924286  126.734753  \n",
      "OSMANABAD         36.810336   38.381637  181.006900   40.188243   33.874980  \n",
      "PALGHAR          188.163293  125.297103  130.036062  143.250560  190.011976  \n",
      "PARBHANI          71.426008   65.064495  103.366404   76.100044   76.482497  \n",
      "PUNE             218.794495  207.955598  194.987603  316.707463  178.205910  \n",
      "RAIGAD            83.254430   66.353877   63.256899   76.664593   90.079577  \n",
      "RATNAGIRI        219.347929  217.604959   70.609489   70.561141  282.947771  \n",
      "SANGLI            96.745230   83.520427   84.393726   85.658120  110.047431  \n",
      "SATARA           122.560832  120.366117  144.481305  135.499597  122.080076  \n",
      "SINDHUDURG        24.515526   20.882616  113.542063   22.744487   29.267238  \n",
      "SOLAPUR           81.918194  104.785649   76.457072  120.000487   81.424560  \n",
      "THANE            312.611783  237.731461  147.533486  171.700118  188.334314  \n",
      "WARDHA            57.682100   49.745797   83.511747   73.971149   65.080997  \n",
      "WASHIM            25.071674   26.372547   50.212299   20.177757   23.990022  \n",
      "YAVATMAL          28.531404   22.877383   60.604816   30.457875   33.944509  \n"
     ]
    }
   ],
   "source": [
    "pivot_df = rmse_df.pivot(index='district', columns='model', values='RMSE')\n",
    "print(pivot_df)"
   ]
  },
  {
   "cell_type": "code",
   "execution_count": 13,
   "id": "0b8e3614",
   "metadata": {},
   "outputs": [],
   "source": [
    "pivot_df.to_csv('I48_rmse_pivot.csv', index=True)"
   ]
  },
  {
   "cell_type": "code",
   "execution_count": 14,
   "id": "070882f8",
   "metadata": {},
   "outputs": [],
   "source": [
    "# Get the best model for each district (lowest RMSE)\n",
    "best_models = rmse_df.loc[rmse_df.groupby('district')['RMSE'].idxmin()]\n",
    "\n",
    "# Display the result\n",
    "best_models[['district', 'model', 'RMSE']].to_csv('I48_best_models.csv', index=False)"
   ]
  },
  {
   "cell_type": "code",
   "execution_count": null,
   "id": "c24f0232",
   "metadata": {},
   "outputs": [],
   "source": []
  }
 ],
 "metadata": {
  "kernelspec": {
   "display_name": "Python 3",
   "language": "python",
   "name": "python3"
  },
  "language_info": {
   "codemirror_mode": {
    "name": "ipython",
    "version": 3
   },
   "file_extension": ".py",
   "mimetype": "text/x-python",
   "name": "python",
   "nbconvert_exporter": "python",
   "pygments_lexer": "ipython3",
   "version": "3.11.0"
  }
 },
 "nbformat": 4,
 "nbformat_minor": 5
}
