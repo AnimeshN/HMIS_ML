{
 "cells": [
  {
   "cell_type": "code",
   "execution_count": 1,
   "id": "5bfb68de",
   "metadata": {},
   "outputs": [],
   "source": [
    "import os\n",
    "import pandas as pd"
   ]
  },
  {
   "cell_type": "code",
   "execution_count": 2,
   "id": "6f2f9773",
   "metadata": {},
   "outputs": [],
   "source": [
    "folder_path = 'Forecasts'  # Replace with your folder path\n",
    "csv_files = [f for f in os.listdir(folder_path) if f.endswith('.csv')]\n"
   ]
  },
  {
   "cell_type": "code",
   "execution_count": 3,
   "id": "7ffc5c9b",
   "metadata": {},
   "outputs": [],
   "source": [
    "districts = ['AHMEDNAGAR', 'AKOLA', 'AMRAVATI', 'AURANGABAD', 'BEED',\n",
    "       'BHANDARA', 'BULDHANA', 'CHANDRAPUR', 'DHULE', 'GADCHIROLI',\n",
    "       'GONDIA', 'HINGOLI', 'JALGAON', 'JALNA', 'KOLHAPUR', 'LATUR',\n",
    "       'MUMBAI', 'NAGPUR', 'NANDED', 'NANDURBAR', 'NASHIK', 'OSMANABAD',\n",
    "       'PALGHAR', 'PARBHANI', 'PUNE', 'RAIGAD', 'RATNAGIRI', 'SANGLI',\n",
    "       'SATARA', 'SINDHUDURG', 'SOLAPUR', 'THANE', 'WARDHA', 'WASHIM',\n",
    "       'YAVATMAL', 'MUMBAI SUBURBAN']"
   ]
  },
  {
   "cell_type": "code",
   "execution_count": 4,
   "id": "90986c49",
   "metadata": {},
   "outputs": [
    {
     "name": "stderr",
     "output_type": "stream",
     "text": [
      "C:\\Users\\nauti\\AppData\\Local\\Temp\\ipykernel_18788\\2311738704.py:13: SettingWithCopyWarning: \n",
      "A value is trying to be set on a copy of a slice from a DataFrame.\n",
      "Try using .loc[row_indexer,col_indexer] = value instead\n",
      "\n",
      "See the caveats in the documentation: https://pandas.pydata.org/pandas-docs/stable/user_guide/indexing.html#returning-a-view-versus-a-copy\n",
      "  df_req['model'] = model\n",
      "C:\\Users\\nauti\\AppData\\Local\\Temp\\ipykernel_18788\\2311738704.py:13: SettingWithCopyWarning: \n",
      "A value is trying to be set on a copy of a slice from a DataFrame.\n",
      "Try using .loc[row_indexer,col_indexer] = value instead\n",
      "\n",
      "See the caveats in the documentation: https://pandas.pydata.org/pandas-docs/stable/user_guide/indexing.html#returning-a-view-versus-a-copy\n",
      "  df_req['model'] = model\n"
     ]
    }
   ],
   "source": [
    "dfs = []  # list to collect all df_req\n",
    "\n",
    "for f in csv_files:\n",
    "    df = pd.read_csv(f\"{folder_path}/{f}\")\n",
    "    model = f.split('_')[0]\n",
    "    \n",
    "    try:\n",
    "        df_req = df[['district', 'date', 'actual', 'forecast']]\n",
    "    except KeyError:\n",
    "        if model == 'bayesian':\n",
    "            df_req = df[['district', 'date', 'actual', 'forecast_mean']]\n",
    "            df_req = df_req.rename(columns={'forecast_mean': 'forecast'})  # optional: standardize column name\n",
    "    df_req['model'] = model \n",
    "    dfs.append(df_req)  # collect the processed df_req\n",
    "\n",
    "# After the loop, concatenate all collected dfs\n",
    "final_df = pd.concat(dfs, ignore_index=True)\n",
    "\n",
    "            \n",
    "        \n",
    "    # print(df_req.shape)"
   ]
  },
  {
   "cell_type": "code",
   "execution_count": 5,
   "id": "325054e8",
   "metadata": {},
   "outputs": [
    {
     "data": {
      "text/plain": [
       "Index(['district', 'date', 'actual', 'forecast', 'model'], dtype='object')"
      ]
     },
     "execution_count": 5,
     "metadata": {},
     "output_type": "execute_result"
    }
   ],
   "source": [
    "final_df.columns"
   ]
  },
  {
   "cell_type": "code",
   "execution_count": 6,
   "id": "440fc723",
   "metadata": {},
   "outputs": [],
   "source": [
    "final_df = final_df[['model','district', 'date', 'actual', 'forecast']]"
   ]
  },
  {
   "cell_type": "code",
   "execution_count": 7,
   "id": "e6d914c9",
   "metadata": {},
   "outputs": [],
   "source": [
    "final_df['model'] = final_df['model'].str.upper()  # Convert district names to uppercase"
   ]
  },
  {
   "cell_type": "code",
   "execution_count": 8,
   "id": "3512af5e",
   "metadata": {},
   "outputs": [
    {
     "data": {
      "text/plain": [
       "Index(['model', 'district', 'date', 'actual', 'forecast'], dtype='object')"
      ]
     },
     "execution_count": 8,
     "metadata": {},
     "output_type": "execute_result"
    }
   ],
   "source": [
    "final_df.columns"
   ]
  },
  {
   "cell_type": "code",
   "execution_count": 9,
   "id": "35b29be9",
   "metadata": {},
   "outputs": [
    {
     "name": "stdout",
     "output_type": "stream",
     "text": [
      "      district    model        RMSE\n",
      "0   AHMEDNAGAR      ANN  669.757495\n",
      "19  AHMEDNAGAR  XGBOOST  675.055056\n",
      "5   AHMEDNAGAR       ET  715.481323\n",
      "3   AHMEDNAGAR       DT  720.184856\n",
      "15  AHMEDNAGAR       RF  809.974570\n"
     ]
    }
   ],
   "source": [
    "import numpy as np\n",
    "import pandas as pd\n",
    "\n",
    "# Assuming 'final_df' already loaded, with columns: ['district', 'date', 'actual', 'forecast', 'model']\n",
    "\n",
    "# Empty list to collect results\n",
    "results = []\n",
    "\n",
    "districts = final_df['district'].unique()\n",
    "models = final_df['model'].unique()\n",
    "\n",
    "for district in districts:\n",
    "    for model in models:\n",
    "        temp_df = final_df[(final_df['district'] == district) & (final_df['model'] == model)]\n",
    "        if not temp_df.empty:\n",
    "            rmse = np.sqrt(((temp_df['forecast'] - temp_df['actual'])**2).mean())\n",
    "            results.append({\n",
    "                'district': district,\n",
    "                'model': model,\n",
    "                'RMSE': rmse\n",
    "            })\n",
    "\n",
    "# Create DataFrame\n",
    "rmse_df = pd.DataFrame(results)\n",
    "\n",
    "# Sort if you want\n",
    "rmse_df = rmse_df.sort_values(by=['district', 'RMSE'])\n",
    "\n",
    "# See top results\n",
    "print(rmse_df.head())\n"
   ]
  },
  {
   "cell_type": "code",
   "execution_count": 10,
   "id": "0238ed0f",
   "metadata": {},
   "outputs": [
    {
     "data": {
      "application/vnd.microsoft.datawrangler.viewer.v0+json": {
       "columns": [
        {
         "name": "index",
         "rawType": "int64",
         "type": "integer"
        },
        {
         "name": "district",
         "rawType": "object",
         "type": "string"
        },
        {
         "name": "model",
         "rawType": "object",
         "type": "string"
        },
        {
         "name": "RMSE",
         "rawType": "float64",
         "type": "float"
        }
       ],
       "conversionMethod": "pd.DataFrame",
       "ref": "5aa39104-4b42-479a-a72d-0016b51c81ae",
       "rows": [
        [
         "633",
         "THANE",
         "LINEAR",
         "2419.483606987477"
        ],
        [
         "625",
         "THANE",
         "ELASTICNET",
         "2419.4937955495298"
        ],
        [
         "629",
         "THANE",
         "HUBER",
         "2516.256146098016"
        ],
        [
         "631",
         "THANE",
         "LASSO",
         "2560.9535000995434"
        ],
        [
         "636",
         "THANE",
         "RIDGE",
         "2560.972326999214"
        ],
        [
         "638",
         "THANE",
         "TBATS",
         "2726.6842492883675"
        ],
        [
         "627",
         "THANE",
         "EXP",
         "2727.9801559750395"
        ],
        [
         "637",
         "THANE",
         "SARIMA",
         "2740.0673081957407"
        ],
        [
         "622",
         "THANE",
         "ARIMA",
         "2740.0673081957407"
        ],
        [
         "635",
         "THANE",
         "RF",
         "2870.7190490150338"
        ],
        [
         "623",
         "THANE",
         "BAYESIAN",
         "2922.794263382438"
        ],
        [
         "628",
         "THANE",
         "GB",
         "3098.178656466414"
        ],
        [
         "632",
         "THANE",
         "LGBM",
         "3331.327167386593"
        ],
        [
         "639",
         "THANE",
         "XGBOOST",
         "3353.9332618791195"
        ],
        [
         "630",
         "THANE",
         "KNN",
         "3416.9474970713304"
        ],
        [
         "626",
         "THANE",
         "ET",
         "3516.225972339204"
        ],
        [
         "634",
         "THANE",
         "PROPHET",
         "3897.438478926347"
        ],
        [
         "624",
         "THANE",
         "DT",
         "4811.048194995337"
        ]
       ],
       "shape": {
        "columns": 3,
        "rows": 18
       }
      },
      "text/html": [
       "<div>\n",
       "<style scoped>\n",
       "    .dataframe tbody tr th:only-of-type {\n",
       "        vertical-align: middle;\n",
       "    }\n",
       "\n",
       "    .dataframe tbody tr th {\n",
       "        vertical-align: top;\n",
       "    }\n",
       "\n",
       "    .dataframe thead th {\n",
       "        text-align: right;\n",
       "    }\n",
       "</style>\n",
       "<table border=\"1\" class=\"dataframe\">\n",
       "  <thead>\n",
       "    <tr style=\"text-align: right;\">\n",
       "      <th></th>\n",
       "      <th>district</th>\n",
       "      <th>model</th>\n",
       "      <th>RMSE</th>\n",
       "    </tr>\n",
       "  </thead>\n",
       "  <tbody>\n",
       "    <tr>\n",
       "      <th>633</th>\n",
       "      <td>THANE</td>\n",
       "      <td>LINEAR</td>\n",
       "      <td>2419.483607</td>\n",
       "    </tr>\n",
       "    <tr>\n",
       "      <th>625</th>\n",
       "      <td>THANE</td>\n",
       "      <td>ELASTICNET</td>\n",
       "      <td>2419.493796</td>\n",
       "    </tr>\n",
       "    <tr>\n",
       "      <th>629</th>\n",
       "      <td>THANE</td>\n",
       "      <td>HUBER</td>\n",
       "      <td>2516.256146</td>\n",
       "    </tr>\n",
       "    <tr>\n",
       "      <th>631</th>\n",
       "      <td>THANE</td>\n",
       "      <td>LASSO</td>\n",
       "      <td>2560.953500</td>\n",
       "    </tr>\n",
       "    <tr>\n",
       "      <th>636</th>\n",
       "      <td>THANE</td>\n",
       "      <td>RIDGE</td>\n",
       "      <td>2560.972327</td>\n",
       "    </tr>\n",
       "    <tr>\n",
       "      <th>638</th>\n",
       "      <td>THANE</td>\n",
       "      <td>TBATS</td>\n",
       "      <td>2726.684249</td>\n",
       "    </tr>\n",
       "    <tr>\n",
       "      <th>627</th>\n",
       "      <td>THANE</td>\n",
       "      <td>EXP</td>\n",
       "      <td>2727.980156</td>\n",
       "    </tr>\n",
       "    <tr>\n",
       "      <th>637</th>\n",
       "      <td>THANE</td>\n",
       "      <td>SARIMA</td>\n",
       "      <td>2740.067308</td>\n",
       "    </tr>\n",
       "    <tr>\n",
       "      <th>622</th>\n",
       "      <td>THANE</td>\n",
       "      <td>ARIMA</td>\n",
       "      <td>2740.067308</td>\n",
       "    </tr>\n",
       "    <tr>\n",
       "      <th>635</th>\n",
       "      <td>THANE</td>\n",
       "      <td>RF</td>\n",
       "      <td>2870.719049</td>\n",
       "    </tr>\n",
       "    <tr>\n",
       "      <th>623</th>\n",
       "      <td>THANE</td>\n",
       "      <td>BAYESIAN</td>\n",
       "      <td>2922.794263</td>\n",
       "    </tr>\n",
       "    <tr>\n",
       "      <th>628</th>\n",
       "      <td>THANE</td>\n",
       "      <td>GB</td>\n",
       "      <td>3098.178656</td>\n",
       "    </tr>\n",
       "    <tr>\n",
       "      <th>632</th>\n",
       "      <td>THANE</td>\n",
       "      <td>LGBM</td>\n",
       "      <td>3331.327167</td>\n",
       "    </tr>\n",
       "    <tr>\n",
       "      <th>639</th>\n",
       "      <td>THANE</td>\n",
       "      <td>XGBOOST</td>\n",
       "      <td>3353.933262</td>\n",
       "    </tr>\n",
       "    <tr>\n",
       "      <th>630</th>\n",
       "      <td>THANE</td>\n",
       "      <td>KNN</td>\n",
       "      <td>3416.947497</td>\n",
       "    </tr>\n",
       "    <tr>\n",
       "      <th>626</th>\n",
       "      <td>THANE</td>\n",
       "      <td>ET</td>\n",
       "      <td>3516.225972</td>\n",
       "    </tr>\n",
       "    <tr>\n",
       "      <th>634</th>\n",
       "      <td>THANE</td>\n",
       "      <td>PROPHET</td>\n",
       "      <td>3897.438479</td>\n",
       "    </tr>\n",
       "    <tr>\n",
       "      <th>624</th>\n",
       "      <td>THANE</td>\n",
       "      <td>DT</td>\n",
       "      <td>4811.048195</td>\n",
       "    </tr>\n",
       "  </tbody>\n",
       "</table>\n",
       "</div>"
      ],
      "text/plain": [
       "    district       model         RMSE\n",
       "633    THANE      LINEAR  2419.483607\n",
       "625    THANE  ELASTICNET  2419.493796\n",
       "629    THANE       HUBER  2516.256146\n",
       "631    THANE       LASSO  2560.953500\n",
       "636    THANE       RIDGE  2560.972327\n",
       "638    THANE       TBATS  2726.684249\n",
       "627    THANE         EXP  2727.980156\n",
       "637    THANE      SARIMA  2740.067308\n",
       "622    THANE       ARIMA  2740.067308\n",
       "635    THANE          RF  2870.719049\n",
       "623    THANE    BAYESIAN  2922.794263\n",
       "628    THANE          GB  3098.178656\n",
       "632    THANE        LGBM  3331.327167\n",
       "639    THANE     XGBOOST  3353.933262\n",
       "630    THANE         KNN  3416.947497\n",
       "626    THANE          ET  3516.225972\n",
       "634    THANE     PROPHET  3897.438479\n",
       "624    THANE          DT  4811.048195"
      ]
     },
     "execution_count": 10,
     "metadata": {},
     "output_type": "execute_result"
    }
   ],
   "source": [
    "rmse_df[rmse_df.district == \"THANE\"].sort_values(by='RMSE', ascending=True)"
   ]
  },
  {
   "cell_type": "code",
   "execution_count": 11,
   "id": "e76dd629",
   "metadata": {},
   "outputs": [
    {
     "data": {
      "text/plain": [
       "array(['ANN', 'ARIMA', 'BAYESIAN', 'DT', 'ELASTICNET', 'ET', 'EXP', 'GB',\n",
       "       'HUBER', 'KNN', 'LASSO', 'LGBM', 'LINEAR', 'LSTM', 'PROPHET', 'RF',\n",
       "       'RIDGE', 'SARIMA', 'TBATS', 'XGBOOST'], dtype=object)"
      ]
     },
     "execution_count": 11,
     "metadata": {},
     "output_type": "execute_result"
    }
   ],
   "source": [
    "final_df['model'].unique()"
   ]
  },
  {
   "cell_type": "code",
   "execution_count": null,
   "id": "a8a0da0c",
   "metadata": {},
   "outputs": [],
   "source": []
  },
  {
   "cell_type": "code",
   "execution_count": 12,
   "id": "9e606c8c",
   "metadata": {},
   "outputs": [
    {
     "name": "stdout",
     "output_type": "stream",
     "text": [
      "model                    ANN        ARIMA     BAYESIAN            DT  \\\n",
      "district                                                               \n",
      "AHMEDNAGAR        669.757495  1085.764859  1147.891774    720.184856   \n",
      "AKOLA                    NaN   352.227870   640.715349    802.948150   \n",
      "AMRAVATI                 NaN   909.010384   527.651504    785.179135   \n",
      "AURANGABAD               NaN   323.389260   780.306644   1644.231845   \n",
      "BEED              397.369238   624.397807   442.698264    643.315675   \n",
      "BHANDARA                 NaN   306.393864   202.391842    346.467154   \n",
      "BULDHANA                 NaN   491.118764   335.927304    357.587825   \n",
      "CHANDRAPUR        325.574320   579.511060   363.024110    463.558040   \n",
      "DHULE             389.953024   366.238032   337.579786    298.564373   \n",
      "GADCHIROLI        188.185448   279.218066   174.882582    192.259094   \n",
      "GONDIA            223.214068   222.071523   202.753151    192.839888   \n",
      "HINGOLI           124.834672   174.280234   130.133429    137.009977   \n",
      "JALGAON                  NaN  3818.246972  3998.720655   4203.725190   \n",
      "JALNA                    NaN   704.930905   597.628012    440.121499   \n",
      "KOLHAPUR                 NaN  1114.718485  1915.220901  13236.012274   \n",
      "LATUR                    NaN   560.053926   330.282567    442.518158   \n",
      "MUMBAI                   NaN  2240.502741  1446.833971   1989.192587   \n",
      "MUMBAI SUBURBAN          NaN   861.715833  1106.264492   1102.553445   \n",
      "NAGPUR                   NaN   313.418793   474.047153    359.325673   \n",
      "NANDED           1026.898269  1331.762817   892.929641    864.909955   \n",
      "NANDURBAR                NaN   513.840345   400.259601    881.188868   \n",
      "NASHIK                   NaN   824.995788  1194.253490   3198.325114   \n",
      "OSMANABAD                NaN   369.907691   395.626255    356.632726   \n",
      "PALGHAR                  NaN   755.359850   477.495770    889.364337   \n",
      "PARBHANI          635.404889   485.002179   488.881944    460.494416   \n",
      "PUNE             1093.674333  1619.115775  1174.406530   1227.462315   \n",
      "RAIGAD                   NaN  1331.967814  1615.563022   2146.156511   \n",
      "RATNAGIRI         480.663356   409.092296   401.118280    449.558189   \n",
      "SANGLI            892.115264   889.306569   858.752204    739.859920   \n",
      "SATARA                   NaN   872.735378   962.662489   1507.880085   \n",
      "SINDHUDURG               NaN   100.745174    63.731363     93.263267   \n",
      "SOLAPUR                  NaN  1369.777683  1542.228881   2723.158737   \n",
      "THANE                    NaN  2740.067308  2922.794263   4811.048195   \n",
      "WARDHA                   NaN   154.054405   204.713415    607.974645   \n",
      "WASHIM            131.036006   123.826159    94.855822    106.443734   \n",
      "YAVATMAL          497.749566   741.175013   500.346237    633.305663   \n",
      "\n",
      "model             ELASTICNET           ET          EXP           GB  \\\n",
      "district                                                              \n",
      "AHMEDNAGAR       1097.851674   715.481323  1090.853655   992.974957   \n",
      "AKOLA             493.705341  2557.750498   365.511742   340.533821   \n",
      "AMRAVATI          585.024690   498.382691   693.037587   508.949964   \n",
      "AURANGABAD        925.028301   767.328900   278.231234  1077.190950   \n",
      "BEED              398.231655   499.177875   427.816978   501.961897   \n",
      "BHANDARA          226.730336   252.070681   302.481108   231.026684   \n",
      "BULDHANA          469.183173   365.435666   345.234511   375.124854   \n",
      "CHANDRAPUR        310.762708   417.449756   575.895402   492.988278   \n",
      "DHULE             305.223755   355.727991   463.113568   343.269281   \n",
      "GADCHIROLI        165.859066   181.054911   427.194429   210.984912   \n",
      "GONDIA            165.647459   216.611514    54.658171   232.209136   \n",
      "HINGOLI           130.288139   107.983665   174.287796   110.164876   \n",
      "JALGAON          4310.645057  4039.999379  3817.192459  4026.513764   \n",
      "JALNA             827.080994   596.325159   453.426711   637.722687   \n",
      "KOLHAPUR         3326.044744  6114.080184  1116.629158  6946.869214   \n",
      "LATUR             346.162552   450.769065   579.171741   372.602107   \n",
      "MUMBAI            639.754000  1460.355663   750.856171  1312.298720   \n",
      "MUMBAI SUBURBAN  3662.684864  1710.190000  1239.450787  1323.964510   \n",
      "NAGPUR            536.048151   680.474989   302.329669   351.674611   \n",
      "NANDED            895.742732   899.901428  1240.242130   798.517610   \n",
      "NANDURBAR         451.145815   301.741571   519.602666   364.774206   \n",
      "NASHIK           1476.448787  1630.078503   832.864118  1087.488666   \n",
      "OSMANABAD         295.408629   298.700783   369.093353   329.191750   \n",
      "PALGHAR           491.705961   680.674485   627.863316   614.071139   \n",
      "PARBHANI          505.718138   457.559355   424.097346   496.903344   \n",
      "PUNE             1222.756816  2028.927867  1949.890885  1963.730302   \n",
      "RAIGAD           1861.353356  1773.460488   866.323043  1834.679706   \n",
      "RATNAGIRI         409.461082   451.744150   410.713989   511.574476   \n",
      "SANGLI            891.634108   820.038768   889.375484   833.758414   \n",
      "SATARA            690.910991   647.423871   458.029670   544.962164   \n",
      "SINDHUDURG         55.936380    95.651170    52.168779    60.051844   \n",
      "SOLAPUR          1504.624741  2128.734498  1369.009465  1806.954937   \n",
      "THANE            2419.493796  3516.225972  2727.980156  3098.178656   \n",
      "WARDHA            253.880951   277.788854   153.943556   216.044504   \n",
      "WASHIM             84.075784    96.337341   120.214390   137.864134   \n",
      "YAVATMAL          511.750990   463.128222   705.164167   650.801262   \n",
      "\n",
      "model                  HUBER          KNN        LASSO         LGBM  \\\n",
      "district                                                              \n",
      "AHMEDNAGAR        865.745388   871.116192  1049.631856  1181.206097   \n",
      "AKOLA             285.248073   751.029911   749.328402   903.888026   \n",
      "AMRAVATI          438.501792   435.705518   846.524136  1063.717548   \n",
      "AURANGABAD        819.828257   691.908395   999.909238   714.047086   \n",
      "BEED              318.735053   382.287768   385.458293   443.221121   \n",
      "BHANDARA          222.769464   257.530805   220.182603   395.152286   \n",
      "BULDHANA          721.969910   325.828967   790.310850   217.499952   \n",
      "CHANDRAPUR        277.996913   431.766360   323.100506   390.017233   \n",
      "DHULE             305.336676   355.079353   334.725388   281.672997   \n",
      "GADCHIROLI        162.611663   162.551815   158.576934   351.981792   \n",
      "GONDIA            166.045994   195.741011   229.158747   187.963732   \n",
      "HINGOLI           135.543631   136.723844   131.930834   219.019221   \n",
      "JALGAON          4367.289151  3996.748029  4328.857213  3837.426157   \n",
      "JALNA             664.922936   607.526112   653.593274   488.709762   \n",
      "KOLHAPUR         1041.926730  2807.138303  3871.085760  2334.622820   \n",
      "LATUR             447.667278   556.412831   476.499603   564.704647   \n",
      "MUMBAI            712.309113  1781.443220   832.961437  1557.323505   \n",
      "MUMBAI SUBURBAN  4089.967775          NaN          NaN  1754.332462   \n",
      "NAGPUR            857.182209   850.766328   887.676131   607.264185   \n",
      "NANDED            990.128355   959.443043   974.913667  1037.463441   \n",
      "NANDURBAR         465.467921   416.803604   333.505152   905.912064   \n",
      "NASHIK           1288.150560   959.883804  1157.328691  1108.907079   \n",
      "OSMANABAD         430.643626   364.039145   255.158026   435.809177   \n",
      "PALGHAR           664.296584   582.545370   593.746148  1629.032422   \n",
      "PARBHANI          503.428550   469.052418   558.150101   473.556624   \n",
      "PUNE             1124.895013  1615.773384  1125.995489  4391.200195   \n",
      "RAIGAD           1960.403010  2080.469170  2024.967668   953.013444   \n",
      "RATNAGIRI         409.498376   464.226907   434.540858   378.928185   \n",
      "SANGLI            909.005207   851.636715   868.190978  1023.423844   \n",
      "SATARA            330.977165  1052.174013   920.847854  1577.183294   \n",
      "SINDHUDURG         55.857705    99.870554    86.998306    57.144224   \n",
      "SOLAPUR          1556.176475  1724.586740  1630.522221  1226.868374   \n",
      "THANE            2516.256146  3416.947497  2560.953500  3331.327167   \n",
      "WARDHA            224.843152   343.614368   272.369027   300.338334   \n",
      "WASHIM            101.405981   137.803130    86.221160   202.855074   \n",
      "YAVATMAL          475.542254   499.409404   457.065666   680.099144   \n",
      "\n",
      "model                 LINEAR         LSTM      PROPHET           RF  \\\n",
      "district                                                              \n",
      "AHMEDNAGAR       1097.847303  1127.762052  2307.706581   809.974570   \n",
      "AKOLA             493.705353          NaN  1134.571713  1025.304876   \n",
      "AMRAVATI          584.960937          NaN   590.341942   582.620252   \n",
      "AURANGABAD        925.241857          NaN   476.607107   947.950727   \n",
      "BEED              398.216792   411.816136   658.839412   459.888392   \n",
      "BHANDARA          226.884401          NaN   240.737733   232.682436   \n",
      "BULDHANA          469.778890          NaN   302.028160   253.041191   \n",
      "CHANDRAPUR        310.741241   385.819551   300.775304   420.604959   \n",
      "DHULE             305.217189   291.380369   330.682820   316.282070   \n",
      "GADCHIROLI        165.829271   191.268198   200.330449   171.119057   \n",
      "GONDIA            165.687349   172.760530   186.652004   226.044326   \n",
      "HINGOLI           130.288139   176.389264   113.302131   106.531942   \n",
      "JALGAON          4310.924803          NaN  2113.665873  4011.249141   \n",
      "JALNA             827.290107          NaN   641.486294   587.619134   \n",
      "KOLHAPUR         3326.514191          NaN  1073.295843  8413.818376   \n",
      "LATUR             346.172581          NaN   258.789150   458.476374   \n",
      "MUMBAI            639.753007          NaN  3980.132922  1990.558982   \n",
      "MUMBAI SUBURBAN  3662.684874          NaN          NaN  1569.028370   \n",
      "NAGPUR            536.048153          NaN   270.891092   583.477247   \n",
      "NANDED            895.746756  1074.650847  1069.801148   862.563207   \n",
      "NANDURBAR         451.185703          NaN   274.063733   477.048744   \n",
      "NASHIK           1476.508679          NaN  1277.396959  1332.943629   \n",
      "OSMANABAD         295.229153          NaN   396.606963   284.633327   \n",
      "PALGHAR           491.719273          NaN   704.547470   736.455040   \n",
      "PARBHANI          505.740205   448.562722   691.053529   468.300239   \n",
      "PUNE             1222.750918  1359.240613  1062.391328  1441.804076   \n",
      "RAIGAD           1861.415172          NaN   675.066426  1665.532758   \n",
      "RATNAGIRI         409.467573   485.330428   327.188717   461.212080   \n",
      "SANGLI            891.651468   877.006986  1086.087499   822.877010   \n",
      "SATARA            690.948480          NaN  1213.755673  1105.190838   \n",
      "SINDHUDURG         56.010918          NaN   215.559030    70.691853   \n",
      "SOLAPUR          1504.646176          NaN  1792.939566  2357.573160   \n",
      "THANE            2419.483607          NaN  3897.438479  2870.719049   \n",
      "WARDHA            253.980271          NaN   421.861381   264.715840   \n",
      "WASHIM             84.066425   101.002165   223.779657    95.610636   \n",
      "YAVATMAL          511.759250   604.015814  1251.077973   517.527088   \n",
      "\n",
      "model                  RIDGE       SARIMA        TBATS      XGBOOST  \n",
      "district                                                             \n",
      "AHMEDNAGAR       1049.618500  5666.622724  1089.161294   675.055056  \n",
      "AKOLA             749.761986  2296.056837   390.751123  1105.583786  \n",
      "AMRAVATI          847.305690   747.642973   975.331817   587.624886  \n",
      "AURANGABAD       1000.069429   323.389260   292.980149   895.346491  \n",
      "BEED              385.440053   719.529235   438.992871   478.629913  \n",
      "BHANDARA          220.377626   306.393864   299.537345   268.027622  \n",
      "BULDHANA          792.063596  1047.294959   333.125731   346.070215  \n",
      "CHANDRAPUR        323.082196   659.964008   575.648551   451.133296  \n",
      "DHULE             334.713394   585.547800   391.605086   358.004833  \n",
      "GADCHIROLI        158.515689   825.601602   298.565397   180.667759  \n",
      "GONDIA            229.257632   112.927317   208.198925   221.654553  \n",
      "HINGOLI           131.957234   174.280234   176.118079   135.775703  \n",
      "JALGAON          4329.103916  3818.246972  3819.599181  4057.086981  \n",
      "JALNA             653.382945   387.801647   498.239242   579.183136  \n",
      "KOLHAPUR         3871.246296  1327.270408   958.541262  9119.031282  \n",
      "LATUR             476.595489   470.373836   588.015407   558.574006  \n",
      "MUMBAI            833.055935   983.001272   732.372974  2388.893847  \n",
      "MUMBAI SUBURBAN          NaN          NaN  2007.225319          NaN  \n",
      "NAGPUR            887.831840   313.418793   301.689021   405.920633  \n",
      "NANDED            974.938676  1342.377832  1238.707279   860.491695  \n",
      "NANDURBAR         333.502357   513.840345   521.599471   485.937875  \n",
      "NASHIK           1157.433255   824.995788  1065.072835  1865.662262  \n",
      "OSMANABAD         254.898332   369.907691   403.375209   337.700590  \n",
      "PALGHAR           593.897917   687.315961   630.086139   723.802113  \n",
      "PARBHANI          558.425481   506.774676   527.570572   508.943656  \n",
      "PUNE             1125.996839  1619.115775  1951.333645  1842.545290  \n",
      "RAIGAD           2025.064818  1161.341453   996.607983   913.867457  \n",
      "RATNAGIRI         434.763031   409.092296   401.454009   445.822917  \n",
      "SANGLI            868.175602   889.306569   895.480527   820.525219  \n",
      "SATARA            920.881842   409.415768   365.864126   925.808975  \n",
      "SINDHUDURG         87.714966   156.975675    54.015516    93.323816  \n",
      "SOLAPUR          1630.666972  1446.995469  1390.512175  2531.604266  \n",
      "THANE            2560.972327  2740.067308  2726.684249  3353.933262  \n",
      "WARDHA            272.437841   154.054405   154.207737   273.742252  \n",
      "WASHIM             86.193347   120.645723    76.775790    81.562104  \n",
      "YAVATMAL          457.045069   741.175013   437.682535   462.748348  \n"
     ]
    }
   ],
   "source": [
    "pivot_df = rmse_df.pivot(index='district', columns='model', values='RMSE')\n",
    "print(pivot_df)"
   ]
  },
  {
   "cell_type": "code",
   "execution_count": 13,
   "id": "0b8e3614",
   "metadata": {},
   "outputs": [],
   "source": [
    "pivot_df.to_csv('I55_rmse_pivot.csv', index=True)"
   ]
  },
  {
   "cell_type": "code",
   "execution_count": 14,
   "id": "070882f8",
   "metadata": {},
   "outputs": [],
   "source": [
    "# Get the best model for each district (lowest RMSE)\n",
    "best_models = rmse_df.loc[rmse_df.groupby('district')['RMSE'].idxmin()]\n",
    "\n",
    "# Display the result\n",
    "best_models[['district', 'model', 'RMSE']].to_csv('I55_best_models.csv', index=False)"
   ]
  },
  {
   "cell_type": "code",
   "execution_count": null,
   "id": "c24f0232",
   "metadata": {},
   "outputs": [],
   "source": []
  }
 ],
 "metadata": {
  "kernelspec": {
   "display_name": "Python 3",
   "language": "python",
   "name": "python3"
  },
  "language_info": {
   "codemirror_mode": {
    "name": "ipython",
    "version": 3
   },
   "file_extension": ".py",
   "mimetype": "text/x-python",
   "name": "python",
   "nbconvert_exporter": "python",
   "pygments_lexer": "ipython3",
   "version": "3.11.0"
  }
 },
 "nbformat": 4,
 "nbformat_minor": 5
}
