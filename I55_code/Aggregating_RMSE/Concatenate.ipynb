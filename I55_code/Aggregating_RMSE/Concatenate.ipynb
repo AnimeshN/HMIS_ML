{
 "cells": [
  {
   "cell_type": "code",
   "execution_count": 3,
   "id": "2d79cb1d",
   "metadata": {},
   "outputs": [],
   "source": [
    "import os\n",
    "import pandas as pd\n",
    "\n",
    "def concatenate_csv_files(folder_path, output_file=None):\n",
    "    # List all CSV files in the folder\n",
    "    csv_files = [f for f in os.listdir(folder_path) if f.endswith('.csv')]\n",
    "    \n",
    "    # Read and concatenate all CSV files\n",
    "    dataframes = []\n",
    "    for file in csv_files:\n",
    "        file_path = os.path.join(folder_path, file)\n",
    "        df = pd.read_csv(file_path)\n",
    "        dataframes.append(df)\n",
    "    \n",
    "    # Concatenate all dataframes\n",
    "    combined_df = pd.concat(dataframes, ignore_index=True)\n",
    "    \n",
    "    # Save to a new CSV file if output_file is specified\n",
    "    if output_file:\n",
    "        combined_df.to_csv(output_file, index=False)\n",
    "    \n",
    "    return combined_df\n",
    "\n",
    "# Example usage"
   ]
  },
  {
   "cell_type": "code",
   "execution_count": 4,
   "id": "a5b69e89",
   "metadata": {},
   "outputs": [],
   "source": [
    "df = concatenate_csv_files('../ANN_Forecasts', 'Forecasts/ann_forecasts.csv')\n",
    "df = concatenate_csv_files('../LightGBM_Forecasts', 'Forecasts/lgbm_forecasts.csv')\n",
    "df = concatenate_csv_files('../LSTM_Forecasts', 'Forecasts/lstm_forecasts.csv')\n",
    "df = concatenate_csv_files('../Prophet_Forecasts', 'Forecasts/prophet_forecasts.csv')\n",
    "df = concatenate_csv_files('../XGBoost_Forecasts', 'Forecasts/xgboost_forecasts.csv')\n"
   ]
  },
  {
   "cell_type": "code",
   "execution_count": null,
   "id": "88174c50",
   "metadata": {},
   "outputs": [],
   "source": [
    "\n"
   ]
  }
 ],
 "metadata": {
  "kernelspec": {
   "display_name": "Python 3",
   "language": "python",
   "name": "python3"
  },
  "language_info": {
   "codemirror_mode": {
    "name": "ipython",
    "version": 3
   },
   "file_extension": ".py",
   "mimetype": "text/x-python",
   "name": "python",
   "nbconvert_exporter": "python",
   "pygments_lexer": "ipython3",
   "version": "3.11.0"
  }
 },
 "nbformat": 4,
 "nbformat_minor": 5
}
