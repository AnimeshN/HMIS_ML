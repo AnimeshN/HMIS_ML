{
 "cells": [
  {
   "cell_type": "code",
   "execution_count": 1,
   "id": "caea4b94",
   "metadata": {},
   "outputs": [],
   "source": [
    "import os\n",
    "import numpy as np\n",
    "import pandas as pd\n",
    "import matplotlib.pyplot as plt\n",
    "from prophet import Prophet\n",
    "from sklearn.metrics import mean_squared_error"
   ]
  },
  {
   "cell_type": "code",
   "execution_count": 2,
   "id": "c5a44b4b",
   "metadata": {},
   "outputs": [],
   "source": [
    "data = pd.read_csv(\"../data/HMIS_DATA_CORRECTED_17_21/mh_dist17_21_with_IDs_date_correction.csv\")\n",
    "data = data[(data['indicator_type'] == 'Total [(A+B) or (C+D)]')]\n",
    "data['date'] = pd.to_datetime(data['date'])\n",
    "data = data.set_index('date')\n",
    "data.index = pd.DatetimeIndex(data.index)"
   ]
  },
  {
   "cell_type": "code",
   "execution_count": 3,
   "id": "b2834c17",
   "metadata": {},
   "outputs": [],
   "source": [
    "def prophet_forecast(\n",
    "    series,\n",
    "    district_name,\n",
    "    forecast_periods=12,\n",
    "    yearly_seasonality='auto',\n",
    "    weekly_seasonality=False,\n",
    "    daily_seasonality=False,\n",
    "    changepoint_prior_scale=0.05,\n",
    "    seasonality_prior_scale=10.0,\n",
    "    holidays=None,\n",
    "    plot_forecast=True\n",
    "):\n",
    "    \"\"\"\n",
    "    Prophet time series forecasting with error handling and RMSE calculation.\n",
    "    Returns (metrics, forecast_df) or (None, None) on error.\n",
    "    \"\"\"\n",
    "    try:\n",
    "        # 0. Directory setup\n",
    "        os.makedirs('Prophet_Forecasts', exist_ok=True)\n",
    "\n",
    "        # 1. Prepare DataFrame for Prophet\n",
    "        df = pd.DataFrame({'ds': series.index, 'y': series.values})\n",
    "        df = df.dropna()\n",
    "        if len(df) < forecast_periods + 12:\n",
    "            raise ValueError(f\"Series too short ({len(df)} points) for {forecast_periods}-step forecast.\")\n",
    "\n",
    "        # 2. Train/test split\n",
    "        train = df.iloc[:-forecast_periods]\n",
    "        test = df.iloc[-forecast_periods:]\n",
    "\n",
    "        # 3. Model setup\n",
    "        model = Prophet(\n",
    "            yearly_seasonality=yearly_seasonality,\n",
    "            weekly_seasonality=weekly_seasonality,\n",
    "            daily_seasonality=daily_seasonality,\n",
    "            changepoint_prior_scale=changepoint_prior_scale,\n",
    "            seasonality_prior_scale=seasonality_prior_scale,\n",
    "            holidays=holidays\n",
    "        )\n",
    "        model.fit(train)\n",
    "\n",
    "        # 4. Forecast\n",
    "        future = model.make_future_dataframe(periods=forecast_periods, freq='MS')\n",
    "        forecast = model.predict(future)\n",
    "\n",
    "        # 5. Extract forecasted values for test period\n",
    "        forecast_test = forecast.set_index('ds').loc[test['ds']]\n",
    "        y_pred = forecast_test['yhat'].values\n",
    "        y_test = test['y'].values\n",
    "\n",
    "        # 6. Metrics\n",
    "        rmse = np.sqrt(mean_squared_error(y_test, y_pred))\n",
    "        metrics = {\n",
    "            'district': district_name,\n",
    "            'rmse': rmse,\n",
    "            'forecast_periods': forecast_periods\n",
    "        }\n",
    "\n",
    "        # 7. Save forecast DataFrame\n",
    "        forecast_df = pd.DataFrame({\n",
    "            'district': district_name,\n",
    "            'date': test['ds'].values,\n",
    "            'actual': y_test,\n",
    "            'forecast': y_pred\n",
    "        })\n",
    "        forecast_df.to_csv(\n",
    "            os.path.join('Prophet_Forecasts', f'{district_name}_forecast.csv'),\n",
    "            index=False\n",
    "        )\n",
    "\n",
    "        # 8. Plotting\n",
    "        if plot_forecast:\n",
    "            plt.figure(figsize=(12, 6))\n",
    "            plt.plot(df['ds'], df['y'], label='Original')\n",
    "            plt.plot(forecast_df['date'], forecast_df['forecast'], label='Prophet Forecast', color='crimson')\n",
    "            plt.scatter(forecast_df['date'], forecast_df['actual'], label='Actual (Test)', color='black')\n",
    "            plt.title(f'{district_name} Prophet Forecast (RMSE: {rmse:.2f})')\n",
    "            plt.legend()\n",
    "            plt.savefig(os.path.join('Prophet_Forecasts', f'{district_name}_forecast_plot.png'))\n",
    "            plt.close()\n",
    "\n",
    "        return metrics, forecast_df\n",
    "\n",
    "    except Exception as e:\n",
    "        print(f\"⚠️ Skipping {district_name}: {str(e)}\")\n",
    "        return None, None"
   ]
  },
  {
   "cell_type": "code",
   "execution_count": 4,
   "id": "d6311f06",
   "metadata": {},
   "outputs": [
    {
     "name": "stderr",
     "output_type": "stream",
     "text": [
      "20:54:35 - cmdstanpy - INFO - Chain [1] start processing\n",
      "20:54:35 - cmdstanpy - INFO - Chain [1] done processing\n"
     ]
    },
    {
     "name": "stdout",
     "output_type": "stream",
     "text": [
      "=== Metrics ===\n",
      "{'district': 'AHMEDNAGAR', 'rmse': 590.3203039501782, 'forecast_periods': 6}\n",
      "\n",
      "=== Forecast Data ===\n",
      "     district       date  actual     forecast\n",
      "0  AHMEDNAGAR 2020-10-01    5719  6306.582435\n",
      "1  AHMEDNAGAR 2020-11-01    5427  6344.190162\n",
      "2  AHMEDNAGAR 2020-12-01    6256  5877.522820\n",
      "3  AHMEDNAGAR 2021-01-01    6196  5732.465008\n",
      "4  AHMEDNAGAR 2021-02-01    6458  5763.197658\n",
      "5  AHMEDNAGAR 2021-03-01    5735  5482.973220\n"
     ]
    },
    {
     "name": "stderr",
     "output_type": "stream",
     "text": [
      "20:54:36 - cmdstanpy - INFO - Chain [1] start processing\n",
      "20:54:36 - cmdstanpy - INFO - Chain [1] done processing\n",
      "20:54:37 - cmdstanpy - INFO - Chain [1] start processing\n"
     ]
    },
    {
     "name": "stdout",
     "output_type": "stream",
     "text": [
      "=== Metrics ===\n",
      "{'district': 'AKOLA', 'rmse': 292.66665154617465, 'forecast_periods': 6}\n",
      "\n",
      "=== Forecast Data ===\n",
      "  district       date  actual     forecast\n",
      "0    AKOLA 2020-10-01    1395  1654.121687\n",
      "1    AKOLA 2020-11-01    1204  1851.770157\n",
      "2    AKOLA 2020-12-01    1630  1483.619319\n",
      "3    AKOLA 2021-01-01    1745  1759.946936\n",
      "4    AKOLA 2021-02-01    1618  1554.445837\n",
      "5    AKOLA 2021-03-01    1782  1743.496204\n"
     ]
    },
    {
     "name": "stderr",
     "output_type": "stream",
     "text": [
      "20:54:37 - cmdstanpy - INFO - Chain [1] done processing\n",
      "20:54:38 - cmdstanpy - INFO - Chain [1] start processing\n"
     ]
    },
    {
     "name": "stdout",
     "output_type": "stream",
     "text": [
      "=== Metrics ===\n",
      "{'district': 'AMRAVATI', 'rmse': 271.99796220519903, 'forecast_periods': 6}\n",
      "\n",
      "=== Forecast Data ===\n",
      "   district       date  actual     forecast\n",
      "0  AMRAVATI 2020-10-01    1814  2267.659436\n",
      "1  AMRAVATI 2020-11-01    1896  2176.460537\n",
      "2  AMRAVATI 2020-12-01    2379  2315.989027\n",
      "3  AMRAVATI 2021-01-01    2249  1945.993019\n",
      "4  AMRAVATI 2021-02-01    2476  2261.428902\n",
      "5  AMRAVATI 2021-03-01    2570  2437.304926\n"
     ]
    },
    {
     "name": "stderr",
     "output_type": "stream",
     "text": [
      "20:54:38 - cmdstanpy - INFO - Chain [1] done processing\n",
      "20:54:38 - cmdstanpy - INFO - Chain [1] start processing\n"
     ]
    },
    {
     "name": "stdout",
     "output_type": "stream",
     "text": [
      "=== Metrics ===\n",
      "{'district': 'AURANGABAD', 'rmse': 1318.357510548913, 'forecast_periods': 6}\n",
      "\n",
      "=== Forecast Data ===\n",
      "     district       date  actual     forecast\n",
      "0  AURANGABAD 2020-10-01    5000  4427.666458\n",
      "1  AURANGABAD 2020-11-01    4498  4164.144896\n",
      "2  AURANGABAD 2020-12-01    5448  3683.326586\n",
      "3  AURANGABAD 2021-01-01    5221  3348.180154\n",
      "4  AURANGABAD 2021-02-01    5126  3584.417771\n",
      "5  AURANGABAD 2021-03-01    4791  3795.323327\n"
     ]
    },
    {
     "name": "stderr",
     "output_type": "stream",
     "text": [
      "20:54:39 - cmdstanpy - INFO - Chain [1] done processing\n"
     ]
    },
    {
     "name": "stdout",
     "output_type": "stream",
     "text": [
      "=== Metrics ===\n",
      "{'district': 'BEED', 'rmse': 407.2958518838155, 'forecast_periods': 6}\n",
      "\n",
      "=== Forecast Data ===\n",
      "  district       date  actual     forecast\n",
      "0     BEED 2020-10-01    3117  3649.848807\n",
      "1     BEED 2020-11-01    2842  3366.275962\n",
      "2     BEED 2020-12-01    3110  3388.294156\n",
      "3     BEED 2021-01-01    3208  3457.146850\n",
      "4     BEED 2021-02-01    3318  3465.569885\n",
      "5     BEED 2021-03-01    3225  3749.640515\n"
     ]
    },
    {
     "name": "stderr",
     "output_type": "stream",
     "text": [
      "20:54:39 - cmdstanpy - INFO - Chain [1] start processing\n",
      "20:54:40 - cmdstanpy - INFO - Chain [1] done processing\n",
      "20:54:40 - cmdstanpy - INFO - Chain [1] start processing\n"
     ]
    },
    {
     "name": "stdout",
     "output_type": "stream",
     "text": [
      "=== Metrics ===\n",
      "{'district': 'BHANDARA', 'rmse': 259.83186791955035, 'forecast_periods': 6}\n",
      "\n",
      "=== Forecast Data ===\n",
      "   district       date  actual     forecast\n",
      "0  BHANDARA 2020-10-01    1152  1086.229096\n",
      "1  BHANDARA 2020-11-01    1031  1083.314275\n",
      "2  BHANDARA 2020-12-01    1279  1018.768133\n",
      "3  BHANDARA 2021-01-01    1355   993.005679\n",
      "4  BHANDARA 2021-02-01    1557  1231.455113\n",
      "5  BHANDARA 2021-03-01    1591  1285.593687\n"
     ]
    },
    {
     "name": "stderr",
     "output_type": "stream",
     "text": [
      "20:54:41 - cmdstanpy - INFO - Chain [1] done processing\n",
      "20:54:41 - cmdstanpy - INFO - Chain [1] start processing\n"
     ]
    },
    {
     "name": "stdout",
     "output_type": "stream",
     "text": [
      "=== Metrics ===\n",
      "{'district': 'BULDHANA', 'rmse': 316.33242115348185, 'forecast_periods': 6}\n",
      "\n",
      "=== Forecast Data ===\n",
      "   district       date  actual     forecast\n",
      "0  BULDHANA 2020-10-01    1459  1837.210710\n",
      "1  BULDHANA 2020-11-01    1389  1967.760708\n",
      "2  BULDHANA 2020-12-01    1711  1887.235599\n",
      "3  BULDHANA 2021-01-01    1734  1605.769830\n",
      "4  BULDHANA 2021-02-01    1818  2051.946338\n",
      "5  BULDHANA 2021-03-01    2057  1915.024460\n"
     ]
    },
    {
     "name": "stderr",
     "output_type": "stream",
     "text": [
      "20:54:41 - cmdstanpy - INFO - Chain [1] done processing\n",
      "20:54:42 - cmdstanpy - INFO - Chain [1] start processing\n"
     ]
    },
    {
     "name": "stdout",
     "output_type": "stream",
     "text": [
      "=== Metrics ===\n",
      "{'district': 'CHANDRAPUR', 'rmse': 540.6924470881129, 'forecast_periods': 6}\n",
      "\n",
      "=== Forecast Data ===\n",
      "     district       date  actual     forecast\n",
      "0  CHANDRAPUR 2020-10-01    2073  2652.321262\n",
      "1  CHANDRAPUR 2020-11-01    1897  2964.055663\n",
      "2  CHANDRAPUR 2020-12-01    2498  2652.726891\n",
      "3  CHANDRAPUR 2021-01-01    2799  2385.241741\n",
      "4  CHANDRAPUR 2021-02-01    3217  3256.528646\n",
      "5  CHANDRAPUR 2021-03-01    3581  3292.607559\n"
     ]
    },
    {
     "name": "stderr",
     "output_type": "stream",
     "text": [
      "20:54:42 - cmdstanpy - INFO - Chain [1] done processing\n"
     ]
    },
    {
     "name": "stdout",
     "output_type": "stream",
     "text": [
      "=== Metrics ===\n",
      "{'district': 'DHULE', 'rmse': 486.42582295745825, 'forecast_periods': 6}\n",
      "\n",
      "=== Forecast Data ===\n",
      "  district       date  actual     forecast\n",
      "0    DHULE 2020-10-01    3020  3397.153508\n",
      "1    DHULE 2020-11-01    2908  3696.946854\n",
      "2    DHULE 2020-12-01    3477  2910.345025\n",
      "3    DHULE 2021-01-01    3554  3324.347514\n",
      "4    DHULE 2021-02-01    3873  3388.866449\n",
      "5    DHULE 2021-03-01    3478  3261.770588\n"
     ]
    },
    {
     "name": "stderr",
     "output_type": "stream",
     "text": [
      "20:54:43 - cmdstanpy - INFO - Chain [1] start processing\n",
      "20:54:44 - cmdstanpy - INFO - Chain [1] done processing\n",
      "20:54:44 - cmdstanpy - INFO - Chain [1] start processing\n"
     ]
    },
    {
     "name": "stdout",
     "output_type": "stream",
     "text": [
      "=== Metrics ===\n",
      "{'district': 'GADCHIROLI', 'rmse': 156.760429791685, 'forecast_periods': 6}\n",
      "\n",
      "=== Forecast Data ===\n",
      "     district       date  actual     forecast\n",
      "0  GADCHIROLI 2020-10-01    1197  1437.684083\n",
      "1  GADCHIROLI 2020-11-01    1211  1425.976831\n",
      "2  GADCHIROLI 2020-12-01    1363  1384.714988\n",
      "3  GADCHIROLI 2021-01-01    1302  1462.878499\n",
      "4  GADCHIROLI 2021-02-01    1566  1530.766739\n",
      "5  GADCHIROLI 2021-03-01    1609  1734.316852\n"
     ]
    },
    {
     "name": "stderr",
     "output_type": "stream",
     "text": [
      "20:54:45 - cmdstanpy - INFO - Chain [1] done processing\n",
      "20:54:45 - cmdstanpy - INFO - Chain [1] start processing\n"
     ]
    },
    {
     "name": "stdout",
     "output_type": "stream",
     "text": [
      "=== Metrics ===\n",
      "{'district': 'GONDIA', 'rmse': 150.40763944048695, 'forecast_periods': 6}\n",
      "\n",
      "=== Forecast Data ===\n",
      "  district       date  actual     forecast\n",
      "0   GONDIA 2020-10-01    1341  1311.685136\n",
      "1   GONDIA 2020-11-01    1444  1429.261256\n",
      "2   GONDIA 2020-12-01    1405  1255.306937\n",
      "3   GONDIA 2021-01-01    1340  1146.669957\n",
      "4   GONDIA 2021-02-01    1508  1433.772507\n",
      "5   GONDIA 2021-03-01    1746  1482.629697\n"
     ]
    },
    {
     "name": "stderr",
     "output_type": "stream",
     "text": [
      "20:54:46 - cmdstanpy - INFO - Chain [1] done processing\n"
     ]
    },
    {
     "name": "stdout",
     "output_type": "stream",
     "text": [
      "=== Metrics ===\n",
      "{'district': 'HINGOLI', 'rmse': 219.1338305257941, 'forecast_periods': 6}\n",
      "\n",
      "=== Forecast Data ===\n",
      "  district       date  actual     forecast\n",
      "0  HINGOLI 2020-10-01    1749  1752.760148\n",
      "1  HINGOLI 2020-11-01    1616  1932.619211\n",
      "2  HINGOLI 2020-12-01    1687  1815.349867\n",
      "3  HINGOLI 2021-01-01    1732  1724.049129\n",
      "4  HINGOLI 2021-02-01    1870  2206.214222\n",
      "5  HINGOLI 2021-03-01    1716  1957.410527\n"
     ]
    },
    {
     "name": "stderr",
     "output_type": "stream",
     "text": [
      "20:54:46 - cmdstanpy - INFO - Chain [1] start processing\n",
      "20:54:47 - cmdstanpy - INFO - Chain [1] done processing\n"
     ]
    },
    {
     "name": "stdout",
     "output_type": "stream",
     "text": [
      "=== Metrics ===\n",
      "{'district': 'JALGAON', 'rmse': 909.5645329669072, 'forecast_periods': 6}\n",
      "\n",
      "=== Forecast Data ===\n",
      "  district       date  actual     forecast\n",
      "0  JALGAON 2020-10-01    4731  4880.605526\n",
      "1  JALGAON 2020-11-01    4652  4835.442294\n",
      "2  JALGAON 2020-12-01    5392  4136.022494\n",
      "3  JALGAON 2021-01-01    5235  4170.172193\n",
      "4  JALGAON 2021-02-01    5794  4466.786198\n",
      "5  JALGAON 2021-03-01    5061  4401.470837\n"
     ]
    },
    {
     "name": "stderr",
     "output_type": "stream",
     "text": [
      "20:54:48 - cmdstanpy - INFO - Chain [1] start processing\n",
      "20:54:48 - cmdstanpy - INFO - Chain [1] done processing\n",
      "20:54:49 - cmdstanpy - INFO - Chain [1] start processing\n"
     ]
    },
    {
     "name": "stdout",
     "output_type": "stream",
     "text": [
      "=== Metrics ===\n",
      "{'district': 'JALNA', 'rmse': 206.91998114305446, 'forecast_periods': 6}\n",
      "\n",
      "=== Forecast Data ===\n",
      "  district       date  actual     forecast\n",
      "0    JALNA 2020-10-01    1698  1825.914705\n",
      "1    JALNA 2020-11-01    1869  1745.412246\n",
      "2    JALNA 2020-12-01    2109  1771.144976\n",
      "3    JALNA 2021-01-01    2118  2191.639840\n",
      "4    JALNA 2021-02-01    1948  2255.175062\n",
      "5    JALNA 2021-03-01    1905  2011.460346\n"
     ]
    },
    {
     "name": "stderr",
     "output_type": "stream",
     "text": [
      "20:54:49 - cmdstanpy - INFO - Chain [1] done processing\n",
      "20:54:50 - cmdstanpy - INFO - Chain [1] start processing\n"
     ]
    },
    {
     "name": "stdout",
     "output_type": "stream",
     "text": [
      "=== Metrics ===\n",
      "{'district': 'KOLHAPUR', 'rmse': 248.81746686299337, 'forecast_periods': 6}\n",
      "\n",
      "=== Forecast Data ===\n",
      "   district       date  actual     forecast\n",
      "0  KOLHAPUR 2020-10-01    3711  3614.789646\n",
      "1  KOLHAPUR 2020-11-01    3480  4057.632018\n",
      "2  KOLHAPUR 2020-12-01    4336  4223.364052\n",
      "3  KOLHAPUR 2021-01-01    4042  4152.098984\n",
      "4  KOLHAPUR 2021-02-01    4038  4064.697144\n",
      "5  KOLHAPUR 2021-03-01    3954  3899.007003\n"
     ]
    },
    {
     "name": "stderr",
     "output_type": "stream",
     "text": [
      "20:54:51 - cmdstanpy - INFO - Chain [1] done processing\n",
      "20:54:52 - cmdstanpy - INFO - Chain [1] start processing\n"
     ]
    },
    {
     "name": "stdout",
     "output_type": "stream",
     "text": [
      "=== Metrics ===\n",
      "{'district': 'LATUR', 'rmse': 419.5351597641871, 'forecast_periods': 6}\n",
      "\n",
      "=== Forecast Data ===\n",
      "  district       date  actual     forecast\n",
      "0    LATUR 2020-10-01    3408  3462.794225\n",
      "1    LATUR 2020-11-01    3363  4087.000937\n",
      "2    LATUR 2020-12-01    3601  3663.209929\n",
      "3    LATUR 2021-01-01    3699  4129.437642\n",
      "4    LATUR 2021-02-01    3954  4534.650143\n",
      "5    LATUR 2021-03-01    3892  3942.769183\n"
     ]
    },
    {
     "name": "stderr",
     "output_type": "stream",
     "text": [
      "20:54:52 - cmdstanpy - INFO - Chain [1] done processing\n",
      "20:54:53 - cmdstanpy - INFO - Chain [1] start processing\n"
     ]
    },
    {
     "name": "stdout",
     "output_type": "stream",
     "text": [
      "=== Metrics ===\n",
      "{'district': 'MUMBAI', 'rmse': 4863.190676504876, 'forecast_periods': 6}\n",
      "\n",
      "=== Forecast Data ===\n",
      "  district       date  actual     forecast\n",
      "0   MUMBAI 2020-10-01    1756  9216.747089\n",
      "1   MUMBAI 2020-11-01    2196  5521.540282\n",
      "2   MUMBAI 2020-12-01    2738  4242.850005\n",
      "3   MUMBAI 2021-01-01    2397  6118.924208\n",
      "4   MUMBAI 2021-02-01    2276  8447.805367\n",
      "5   MUMBAI 2021-03-01    2515  7094.661691\n"
     ]
    },
    {
     "name": "stderr",
     "output_type": "stream",
     "text": [
      "20:54:54 - cmdstanpy - INFO - Chain [1] done processing\n",
      "20:54:54 - cmdstanpy - INFO - Chain [1] start processing\n"
     ]
    },
    {
     "name": "stdout",
     "output_type": "stream",
     "text": [
      "=== Metrics ===\n",
      "{'district': 'NAGPUR', 'rmse': 1346.9325183290305, 'forecast_periods': 6}\n",
      "\n",
      "=== Forecast Data ===\n",
      "  district       date  actual     forecast\n",
      "0   NAGPUR 2020-10-01    4837  5416.510544\n",
      "1   NAGPUR 2020-11-01    5721  5593.881499\n",
      "2   NAGPUR 2020-12-01    6553  5732.724040\n",
      "3   NAGPUR 2021-01-01    6620  5213.192763\n",
      "4   NAGPUR 2021-02-01    6722  4944.953098\n",
      "5   NAGPUR 2021-03-01    8096  5922.634701\n"
     ]
    },
    {
     "name": "stderr",
     "output_type": "stream",
     "text": [
      "20:54:55 - cmdstanpy - INFO - Chain [1] done processing\n"
     ]
    },
    {
     "name": "stdout",
     "output_type": "stream",
     "text": [
      "=== Metrics ===\n",
      "{'district': 'NANDED', 'rmse': 703.6815738734055, 'forecast_periods': 6}\n",
      "\n",
      "=== Forecast Data ===\n",
      "  district       date  actual     forecast\n",
      "0   NANDED 2020-10-01    4553  4449.967419\n",
      "1   NANDED 2020-11-01    4475  4645.603388\n",
      "2   NANDED 2020-12-01    4906  5459.661172\n",
      "3   NANDED 2021-01-01    5001  5975.511688\n",
      "4   NANDED 2021-02-01    5274  6128.660376\n",
      "5   NANDED 2021-03-01    4873  5844.919356\n"
     ]
    },
    {
     "name": "stderr",
     "output_type": "stream",
     "text": [
      "20:54:56 - cmdstanpy - INFO - Chain [1] start processing\n",
      "20:54:56 - cmdstanpy - INFO - Chain [1] done processing\n",
      "20:54:57 - cmdstanpy - INFO - Chain [1] start processing\n"
     ]
    },
    {
     "name": "stdout",
     "output_type": "stream",
     "text": [
      "=== Metrics ===\n",
      "{'district': 'NANDURBAR', 'rmse': 646.9352810862302, 'forecast_periods': 6}\n",
      "\n",
      "=== Forecast Data ===\n",
      "    district       date  actual     forecast\n",
      "0  NANDURBAR 2020-10-01    2322  3118.615978\n",
      "1  NANDURBAR 2020-11-01    2311  2834.736042\n",
      "2  NANDURBAR 2020-12-01    2661  3179.941844\n",
      "3  NANDURBAR 2021-01-01    2528  3123.165962\n",
      "4  NANDURBAR 2021-02-01    2723  3509.656086\n",
      "5  NANDURBAR 2021-03-01    2883  3482.920104\n"
     ]
    },
    {
     "name": "stderr",
     "output_type": "stream",
     "text": [
      "20:54:57 - cmdstanpy - INFO - Chain [1] done processing\n",
      "20:54:58 - cmdstanpy - INFO - Chain [1] start processing\n"
     ]
    },
    {
     "name": "stdout",
     "output_type": "stream",
     "text": [
      "=== Metrics ===\n",
      "{'district': 'NASHIK', 'rmse': 1435.1847604701788, 'forecast_periods': 6}\n",
      "\n",
      "=== Forecast Data ===\n",
      "  district       date  actual     forecast\n",
      "0   NASHIK 2020-10-01    6938  9971.189386\n",
      "1   NASHIK 2020-11-01    7314  8837.432428\n",
      "2   NASHIK 2020-12-01    7560  7847.407823\n",
      "3   NASHIK 2021-01-01    7807  7882.935524\n",
      "4   NASHIK 2021-02-01    8582  9236.868172\n",
      "5   NASHIK 2021-03-01    7998  8563.884957\n"
     ]
    },
    {
     "name": "stderr",
     "output_type": "stream",
     "text": [
      "20:54:58 - cmdstanpy - INFO - Chain [1] done processing\n",
      "20:54:58 - cmdstanpy - INFO - Chain [1] start processing\n"
     ]
    },
    {
     "name": "stdout",
     "output_type": "stream",
     "text": [
      "=== Metrics ===\n",
      "{'district': 'OSMANABAD', 'rmse': 339.0833644740377, 'forecast_periods': 6}\n",
      "\n",
      "=== Forecast Data ===\n",
      "    district       date  actual     forecast\n",
      "0  OSMANABAD 2020-10-01    1701  1805.976767\n",
      "1  OSMANABAD 2020-11-01    1857  2085.384400\n",
      "2  OSMANABAD 2020-12-01    2177  1939.334410\n",
      "3  OSMANABAD 2021-01-01    2344  1690.753393\n",
      "4  OSMANABAD 2021-02-01    2300  2392.672349\n",
      "5  OSMANABAD 2021-03-01    2538  2170.737987\n"
     ]
    },
    {
     "name": "stderr",
     "output_type": "stream",
     "text": [
      "20:54:59 - cmdstanpy - INFO - Chain [1] done processing\n",
      "20:55:00 - cmdstanpy - INFO - Chain [1] start processing\n"
     ]
    },
    {
     "name": "stdout",
     "output_type": "stream",
     "text": [
      "=== Metrics ===\n",
      "{'district': 'PALGHAR', 'rmse': 941.7989079150042, 'forecast_periods': 6}\n",
      "\n",
      "=== Forecast Data ===\n",
      "  district       date  actual     forecast\n",
      "0  PALGHAR 2020-10-01    3271  4649.102549\n",
      "1  PALGHAR 2020-11-01    3189  4590.312840\n",
      "2  PALGHAR 2020-12-01    3657  4829.068418\n",
      "3  PALGHAR 2021-01-01    3513  3413.379871\n",
      "4  PALGHAR 2021-02-01    3791  3516.676453\n",
      "5  PALGHAR 2021-03-01    4256  4268.034522\n"
     ]
    },
    {
     "name": "stderr",
     "output_type": "stream",
     "text": [
      "20:55:00 - cmdstanpy - INFO - Chain [1] done processing\n",
      "20:55:01 - cmdstanpy - INFO - Chain [1] start processing\n"
     ]
    },
    {
     "name": "stdout",
     "output_type": "stream",
     "text": [
      "=== Metrics ===\n",
      "{'district': 'PARBHANI', 'rmse': 162.16407522469586, 'forecast_periods': 6}\n",
      "\n",
      "=== Forecast Data ===\n",
      "   district       date  actual     forecast\n",
      "0  PARBHANI 2020-10-01    1580  1286.783281\n",
      "1  PARBHANI 2020-11-01    1311  1304.016522\n",
      "2  PARBHANI 2020-12-01    1730  1557.339121\n",
      "3  PARBHANI 2021-01-01    1473  1618.805645\n",
      "4  PARBHANI 2021-02-01    1569  1690.531702\n",
      "5  PARBHANI 2021-03-01    1622  1698.923927\n"
     ]
    },
    {
     "name": "stderr",
     "output_type": "stream",
     "text": [
      "20:55:01 - cmdstanpy - INFO - Chain [1] done processing\n",
      "20:55:02 - cmdstanpy - INFO - Chain [1] start processing\n"
     ]
    },
    {
     "name": "stdout",
     "output_type": "stream",
     "text": [
      "=== Metrics ===\n",
      "{'district': 'PUNE', 'rmse': 1081.2388424161154, 'forecast_periods': 6}\n",
      "\n",
      "=== Forecast Data ===\n",
      "  district       date  actual     forecast\n",
      "0     PUNE 2020-10-01    6135  6712.412024\n",
      "1     PUNE 2020-11-01    6162  7160.987310\n",
      "2     PUNE 2020-12-01    7696  8237.981651\n",
      "3     PUNE 2021-01-01    7485  6622.886404\n",
      "4     PUNE 2021-02-01    7795  5892.530983\n",
      "5     PUNE 2021-03-01    7315  6301.732024\n"
     ]
    },
    {
     "name": "stderr",
     "output_type": "stream",
     "text": [
      "20:55:02 - cmdstanpy - INFO - Chain [1] done processing\n",
      "20:55:03 - cmdstanpy - INFO - Chain [1] start processing\n"
     ]
    },
    {
     "name": "stdout",
     "output_type": "stream",
     "text": [
      "=== Metrics ===\n",
      "{'district': 'RAIGAD', 'rmse': 1071.7930865770813, 'forecast_periods': 6}\n",
      "\n",
      "=== Forecast Data ===\n",
      "  district       date  actual     forecast\n",
      "0   RAIGAD 2020-10-01    1569  2335.452637\n",
      "1   RAIGAD 2020-11-01    2801  2783.022277\n",
      "2   RAIGAD 2020-12-01    3265  2155.351101\n",
      "3   RAIGAD 2021-01-01    3701  1827.323615\n",
      "4   RAIGAD 2021-02-01    3207  2224.104507\n",
      "5   RAIGAD 2021-03-01    3532  2759.599679\n"
     ]
    },
    {
     "name": "stderr",
     "output_type": "stream",
     "text": [
      "20:55:04 - cmdstanpy - INFO - Chain [1] done processing\n",
      "20:55:04 - cmdstanpy - INFO - Chain [1] start processing\n"
     ]
    },
    {
     "name": "stdout",
     "output_type": "stream",
     "text": [
      "=== Metrics ===\n",
      "{'district': 'RATNAGIRI', 'rmse': 230.2009535477966, 'forecast_periods': 6}\n",
      "\n",
      "=== Forecast Data ===\n",
      "    district       date  actual    forecast\n",
      "0  RATNAGIRI 2020-10-01     679  870.362044\n",
      "1  RATNAGIRI 2020-11-01     551  995.580266\n",
      "2  RATNAGIRI 2020-12-01     665  892.910898\n",
      "3  RATNAGIRI 2021-01-01     683  754.791291\n",
      "4  RATNAGIRI 2021-02-01     675  801.454195\n",
      "5  RATNAGIRI 2021-03-01     749  851.935899\n"
     ]
    },
    {
     "name": "stderr",
     "output_type": "stream",
     "text": [
      "20:55:05 - cmdstanpy - INFO - Chain [1] done processing\n",
      "20:55:06 - cmdstanpy - INFO - Chain [1] start processing\n"
     ]
    },
    {
     "name": "stdout",
     "output_type": "stream",
     "text": [
      "=== Metrics ===\n",
      "{'district': 'SANGLI', 'rmse': 554.3583333669533, 'forecast_periods': 6}\n",
      "\n",
      "=== Forecast Data ===\n",
      "  district       date  actual     forecast\n",
      "0   SANGLI 2020-10-01    1492  2302.910325\n",
      "1   SANGLI 2020-11-01    1581  2052.818022\n",
      "2   SANGLI 2020-12-01    1633  2066.954301\n",
      "3   SANGLI 2021-01-01    1529  2043.898820\n",
      "4   SANGLI 2021-02-01    1803  2256.951122\n",
      "5   SANGLI 2021-03-01    1580  2131.527350\n"
     ]
    },
    {
     "name": "stderr",
     "output_type": "stream",
     "text": [
      "20:55:06 - cmdstanpy - INFO - Chain [1] done processing\n"
     ]
    },
    {
     "name": "stdout",
     "output_type": "stream",
     "text": [
      "=== Metrics ===\n",
      "{'district': 'SATARA', 'rmse': 2708.4588067886407, 'forecast_periods': 6}\n",
      "\n",
      "=== Forecast Data ===\n",
      "  district       date  actual     forecast\n",
      "0   SATARA 2020-10-01    1570  2628.729133\n",
      "1   SATARA 2020-11-01    1571  2515.816019\n",
      "2   SATARA 2020-12-01    2220  2333.440999\n",
      "3   SATARA 2021-01-01    2617  2053.774275\n",
      "4   SATARA 2021-02-01    2495  2660.801166\n",
      "5   SATARA 2021-03-01    8575  2121.835826\n"
     ]
    },
    {
     "name": "stderr",
     "output_type": "stream",
     "text": [
      "20:55:07 - cmdstanpy - INFO - Chain [1] start processing\n",
      "20:55:07 - cmdstanpy - INFO - Chain [1] done processing\n",
      "20:55:08 - cmdstanpy - INFO - Chain [1] start processing\n"
     ]
    },
    {
     "name": "stdout",
     "output_type": "stream",
     "text": [
      "=== Metrics ===\n",
      "{'district': 'SINDHUDURG', 'rmse': 132.82425172637738, 'forecast_periods': 6}\n",
      "\n",
      "=== Forecast Data ===\n",
      "     district       date  actual    forecast\n",
      "0  SINDHUDURG 2020-10-01     361  530.468685\n",
      "1  SINDHUDURG 2020-11-01     322  555.460434\n",
      "2  SINDHUDURG 2020-12-01     359  497.607626\n",
      "3  SINDHUDURG 2021-01-01     462  511.063128\n",
      "4  SINDHUDURG 2021-02-01     407  437.383251\n",
      "5  SINDHUDURG 2021-03-01     521  530.374178\n"
     ]
    },
    {
     "name": "stderr",
     "output_type": "stream",
     "text": [
      "20:55:08 - cmdstanpy - INFO - Chain [1] done processing\n",
      "20:55:09 - cmdstanpy - INFO - Chain [1] start processing\n"
     ]
    },
    {
     "name": "stdout",
     "output_type": "stream",
     "text": [
      "=== Metrics ===\n",
      "{'district': 'SOLAPUR', 'rmse': 843.0037159278379, 'forecast_periods': 6}\n",
      "\n",
      "=== Forecast Data ===\n",
      "  district       date  actual     forecast\n",
      "0  SOLAPUR 2020-10-01    3847  5027.424393\n",
      "1  SOLAPUR 2020-11-01    3885  4761.942371\n",
      "2  SOLAPUR 2020-12-01    5349  4617.765412\n",
      "3  SOLAPUR 2021-01-01    4991  3771.208749\n",
      "4  SOLAPUR 2021-02-01    5147  4955.305570\n",
      "5  SOLAPUR 2021-03-01    4737  4942.330094\n"
     ]
    },
    {
     "name": "stderr",
     "output_type": "stream",
     "text": [
      "20:55:09 - cmdstanpy - INFO - Chain [1] done processing\n",
      "20:55:10 - cmdstanpy - INFO - Chain [1] start processing\n"
     ]
    },
    {
     "name": "stdout",
     "output_type": "stream",
     "text": [
      "=== Metrics ===\n",
      "{'district': 'THANE', 'rmse': 1941.0084614977777, 'forecast_periods': 6}\n",
      "\n",
      "=== Forecast Data ===\n",
      "  district       date  actual      forecast\n",
      "0    THANE 2020-10-01    9483   9550.540217\n",
      "1    THANE 2020-11-01   10375   9919.695192\n",
      "2    THANE 2020-12-01   11389  10045.162393\n",
      "3    THANE 2021-01-01   11881   8940.022202\n",
      "4    THANE 2021-02-01   10382  11745.176913\n",
      "5    THANE 2021-03-01   12162   8987.142882\n"
     ]
    },
    {
     "name": "stderr",
     "output_type": "stream",
     "text": [
      "20:55:10 - cmdstanpy - INFO - Chain [1] done processing\n",
      "20:55:11 - cmdstanpy - INFO - Chain [1] start processing\n"
     ]
    },
    {
     "name": "stdout",
     "output_type": "stream",
     "text": [
      "=== Metrics ===\n",
      "{'district': 'WARDHA', 'rmse': 139.26171302400303, 'forecast_periods': 6}\n",
      "\n",
      "=== Forecast Data ===\n",
      "  district       date  actual     forecast\n",
      "0   WARDHA 2020-10-01    1151  1143.696451\n",
      "1   WARDHA 2020-11-01    1033  1186.519908\n",
      "2   WARDHA 2020-12-01    1337  1188.997171\n",
      "3   WARDHA 2021-01-01    1369  1198.097374\n",
      "4   WARDHA 2021-02-01    1492  1455.615270\n",
      "5   WARDHA 2021-03-01    1483  1282.239320\n"
     ]
    },
    {
     "name": "stderr",
     "output_type": "stream",
     "text": [
      "20:55:11 - cmdstanpy - INFO - Chain [1] done processing\n",
      "20:55:12 - cmdstanpy - INFO - Chain [1] start processing\n"
     ]
    },
    {
     "name": "stdout",
     "output_type": "stream",
     "text": [
      "=== Metrics ===\n",
      "{'district': 'WASHIM', 'rmse': 233.2314068144828, 'forecast_periods': 6}\n",
      "\n",
      "=== Forecast Data ===\n",
      "  district       date  actual     forecast\n",
      "0   WASHIM 2020-10-01    1304  1400.755373\n",
      "1   WASHIM 2020-11-01    1237  1221.748478\n",
      "2   WASHIM 2020-12-01    1499  1120.748384\n",
      "3   WASHIM 2021-01-01    1392  1091.362239\n",
      "4   WASHIM 2021-02-01    1584  1580.020715\n",
      "5   WASHIM 2021-03-01    1701  1412.358457\n"
     ]
    },
    {
     "name": "stderr",
     "output_type": "stream",
     "text": [
      "20:55:12 - cmdstanpy - INFO - Chain [1] done processing\n"
     ]
    },
    {
     "name": "stdout",
     "output_type": "stream",
     "text": [
      "=== Metrics ===\n",
      "{'district': 'YAVATMAL', 'rmse': 411.44643646778434, 'forecast_periods': 6}\n",
      "\n",
      "=== Forecast Data ===\n",
      "   district       date  actual     forecast\n",
      "0  YAVATMAL 2020-10-01    2797  2696.429684\n",
      "1  YAVATMAL 2020-11-01    2682  3426.640505\n",
      "2  YAVATMAL 2020-12-01    3140  3077.276885\n",
      "3  YAVATMAL 2021-01-01    3105  2632.429592\n",
      "4  YAVATMAL 2021-02-01    3242  2939.704837\n",
      "5  YAVATMAL 2021-03-01    3717  3353.014004\n",
      "⚠️ Skipping MUMBAI SUBURBAN: Series too short (12 points) for 6-step forecast.\n",
      "=== Metrics ===\n",
      "\n",
      "=== Forecast Data ===\n",
      "None\n"
     ]
    },
    {
     "data": {
      "text/plain": [
       "{}"
      ]
     },
     "execution_count": 4,
     "metadata": {},
     "output_type": "execute_result"
    }
   ],
   "source": [
    "districts = data['district'].unique()\n",
    "rmse_values = []\n",
    "\n",
    "# Usage Example\n",
    "\n",
    "\n",
    "def run_for_each_district():\n",
    "    results = {}\n",
    "    \n",
    "    for district in districts:\n",
    "        district_data = data[data['district'] == district]\n",
    "        ts = district_data[\"I8\"].asfreq('MS')\n",
    "        \n",
    "        metrics, forecast = prophet_forecast(\n",
    "            series=ts,\n",
    "            district_name=district,\n",
    "            forecast_periods=6,  # Forecast the last year\n",
    "            yearly_seasonality='auto',\n",
    "            weekly_seasonality=False,\n",
    "            daily_seasonality=False\n",
    "        )\n",
    "\n",
    "        \n",
    "    \n",
    "        # Show results\n",
    "        print(\"=== Metrics ===\")\n",
    "        if metrics:\n",
    "            print(metrics)\n",
    "        print(\"\\n=== Forecast Data ===\")\n",
    "        print(forecast)\n",
    "    \n",
    "    return results\n",
    "run_for_each_district()"
   ]
  },
  {
   "cell_type": "code",
   "execution_count": 5,
   "id": "1cd18243",
   "metadata": {},
   "outputs": [
    {
     "data": {
      "text/plain": [
       "array(['AHMEDNAGAR', 'AKOLA', 'AMRAVATI', 'AURANGABAD', 'BEED',\n",
       "       'BHANDARA', 'BULDHANA', 'CHANDRAPUR', 'DHULE', 'GADCHIROLI',\n",
       "       'GONDIA', 'HINGOLI', 'JALGAON', 'JALNA', 'KOLHAPUR', 'LATUR',\n",
       "       'MUMBAI', 'NAGPUR', 'NANDED', 'NANDURBAR', 'NASHIK', 'OSMANABAD',\n",
       "       'PALGHAR', 'PARBHANI', 'PUNE', 'RAIGAD', 'RATNAGIRI', 'SANGLI',\n",
       "       'SATARA', 'SINDHUDURG', 'SOLAPUR', 'THANE', 'WARDHA', 'WASHIM',\n",
       "       'YAVATMAL', 'MUMBAI SUBURBAN'], dtype=object)"
      ]
     },
     "execution_count": 5,
     "metadata": {},
     "output_type": "execute_result"
    }
   ],
   "source": [
    "districts"
   ]
  },
  {
   "cell_type": "code",
   "execution_count": null,
   "id": "bfd763bb",
   "metadata": {},
   "outputs": [],
   "source": []
  }
 ],
 "metadata": {
  "kernelspec": {
   "display_name": "Python 3",
   "language": "python",
   "name": "python3"
  },
  "language_info": {
   "codemirror_mode": {
    "name": "ipython",
    "version": 3
   },
   "file_extension": ".py",
   "mimetype": "text/x-python",
   "name": "python",
   "nbconvert_exporter": "python",
   "pygments_lexer": "ipython3",
   "version": "3.11.0"
  }
 },
 "nbformat": 4,
 "nbformat_minor": 5
}
