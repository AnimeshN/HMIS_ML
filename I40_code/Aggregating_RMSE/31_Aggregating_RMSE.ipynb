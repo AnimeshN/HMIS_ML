{
 "cells": [
  {
   "cell_type": "code",
   "execution_count": 19,
   "id": "5bfb68de",
   "metadata": {},
   "outputs": [],
   "source": [
    "import os\n",
    "import pandas as pd"
   ]
  },
  {
   "cell_type": "code",
   "execution_count": 20,
   "id": "6f2f9773",
   "metadata": {},
   "outputs": [],
   "source": [
    "folder_path = 'Forecasts'  # Replace with your folder path\n",
    "csv_files = [f for f in os.listdir(folder_path) if f.endswith('.csv')]\n"
   ]
  },
  {
   "cell_type": "code",
   "execution_count": 21,
   "id": "7ffc5c9b",
   "metadata": {},
   "outputs": [],
   "source": [
    "districts = ['AHMEDNAGAR', 'AKOLA', 'AMRAVATI', 'AURANGABAD', 'BEED',\n",
    "       'BHANDARA', 'BULDHANA', 'CHANDRAPUR', 'DHULE', 'GADCHIROLI',\n",
    "       'GONDIA', 'HINGOLI', 'JALGAON', 'JALNA', 'KOLHAPUR', 'LATUR',\n",
    "       'MUMBAI', 'NAGPUR', 'NANDED', 'NANDURBAR', 'NASHIK', 'OSMANABAD',\n",
    "       'PALGHAR', 'PARBHANI', 'PUNE', 'RAIGAD', 'RATNAGIRI', 'SANGLI',\n",
    "       'SATARA', 'SINDHUDURG', 'SOLAPUR', 'THANE', 'WARDHA', 'WASHIM',\n",
    "       'YAVATMAL', 'MUMBAI SUBURBAN']"
   ]
  },
  {
   "cell_type": "code",
   "execution_count": 22,
   "id": "90986c49",
   "metadata": {},
   "outputs": [
    {
     "name": "stderr",
     "output_type": "stream",
     "text": [
      "C:\\Users\\nauti\\AppData\\Local\\Temp\\ipykernel_40176\\2311738704.py:13: SettingWithCopyWarning: \n",
      "A value is trying to be set on a copy of a slice from a DataFrame.\n",
      "Try using .loc[row_indexer,col_indexer] = value instead\n",
      "\n",
      "See the caveats in the documentation: https://pandas.pydata.org/pandas-docs/stable/user_guide/indexing.html#returning-a-view-versus-a-copy\n",
      "  df_req['model'] = model\n",
      "C:\\Users\\nauti\\AppData\\Local\\Temp\\ipykernel_40176\\2311738704.py:13: SettingWithCopyWarning: \n",
      "A value is trying to be set on a copy of a slice from a DataFrame.\n",
      "Try using .loc[row_indexer,col_indexer] = value instead\n",
      "\n",
      "See the caveats in the documentation: https://pandas.pydata.org/pandas-docs/stable/user_guide/indexing.html#returning-a-view-versus-a-copy\n",
      "  df_req['model'] = model\n"
     ]
    }
   ],
   "source": [
    "dfs = []  # list to collect all df_req\n",
    "\n",
    "for f in csv_files:\n",
    "    df = pd.read_csv(f\"{folder_path}/{f}\")\n",
    "    model = f.split('_')[0]\n",
    "    \n",
    "    try:\n",
    "        df_req = df[['district', 'date', 'actual', 'forecast']]\n",
    "    except KeyError:\n",
    "        if model == 'bayesian':\n",
    "            df_req = df[['district', 'date', 'actual', 'forecast_mean']]\n",
    "            df_req = df_req.rename(columns={'forecast_mean': 'forecast'})  # optional: standardize column name\n",
    "    df_req['model'] = model \n",
    "    dfs.append(df_req)  # collect the processed df_req\n",
    "\n",
    "# After the loop, concatenate all collected dfs\n",
    "final_df = pd.concat(dfs, ignore_index=True)\n",
    "\n",
    "            \n",
    "        \n",
    "    # print(df_req.shape)"
   ]
  },
  {
   "cell_type": "code",
   "execution_count": 23,
   "id": "325054e8",
   "metadata": {},
   "outputs": [
    {
     "data": {
      "text/plain": [
       "Index(['district', 'date', 'actual', 'forecast', 'model'], dtype='object')"
      ]
     },
     "execution_count": 23,
     "metadata": {},
     "output_type": "execute_result"
    }
   ],
   "source": [
    "final_df.columns"
   ]
  },
  {
   "cell_type": "code",
   "execution_count": 24,
   "id": "440fc723",
   "metadata": {},
   "outputs": [],
   "source": [
    "final_df = final_df[['model','district', 'date', 'actual', 'forecast']]"
   ]
  },
  {
   "cell_type": "code",
   "execution_count": 25,
   "id": "e6d914c9",
   "metadata": {},
   "outputs": [],
   "source": [
    "final_df['model'] = final_df['model'].str.upper()  # Convert district names to uppercase"
   ]
  },
  {
   "cell_type": "code",
   "execution_count": 26,
   "id": "3512af5e",
   "metadata": {},
   "outputs": [
    {
     "data": {
      "text/plain": [
       "Index(['model', 'district', 'date', 'actual', 'forecast'], dtype='object')"
      ]
     },
     "execution_count": 26,
     "metadata": {},
     "output_type": "execute_result"
    }
   ],
   "source": [
    "final_df.columns"
   ]
  },
  {
   "cell_type": "code",
   "execution_count": 27,
   "id": "35b29be9",
   "metadata": {},
   "outputs": [
    {
     "name": "stdout",
     "output_type": "stream",
     "text": [
      "       district    model        RMSE\n",
      "146  AHMEDNAGAR    LASSO  531.925517\n",
      "149  AHMEDNAGAR  PROPHET  590.320304\n",
      "154  AHMEDNAGAR  XGBOOST  633.931624\n",
      "142  AHMEDNAGAR      EXP  938.178817\n",
      "137  AHMEDNAGAR    ARIMA  944.375065\n"
     ]
    }
   ],
   "source": [
    "import numpy as np\n",
    "import pandas as pd\n",
    "\n",
    "# Assuming 'final_df' already loaded, with columns: ['district', 'date', 'actual', 'forecast', 'model']\n",
    "\n",
    "# Empty list to collect results\n",
    "results = []\n",
    "\n",
    "districts = final_df['district'].unique()\n",
    "models = final_df['model'].unique()\n",
    "\n",
    "for district in districts:\n",
    "    for model in models:\n",
    "        temp_df = final_df[(final_df['district'] == district) & (final_df['model'] == model)]\n",
    "        if not temp_df.empty:\n",
    "            rmse = np.sqrt(((temp_df['forecast'] - temp_df['actual'])**2).mean())\n",
    "            results.append({\n",
    "                'district': district,\n",
    "                'model': model,\n",
    "                'RMSE': rmse\n",
    "            })\n",
    "\n",
    "# Create DataFrame\n",
    "rmse_df = pd.DataFrame(results)\n",
    "\n",
    "# Sort if you want\n",
    "rmse_df = rmse_df.sort_values(by=['district', 'RMSE'])\n",
    "\n",
    "# See top results\n",
    "print(rmse_df.head())\n"
   ]
  },
  {
   "cell_type": "code",
   "execution_count": 28,
   "id": "0238ed0f",
   "metadata": {},
   "outputs": [
    {
     "data": {
      "application/vnd.microsoft.datawrangler.viewer.v0+json": {
       "columns": [
        {
         "name": "index",
         "rawType": "int64",
         "type": "integer"
        },
        {
         "name": "district",
         "rawType": "object",
         "type": "string"
        },
        {
         "name": "model",
         "rawType": "object",
         "type": "string"
        },
        {
         "name": "RMSE",
         "rawType": "float64",
         "type": "float"
        }
       ],
       "conversionMethod": "pd.DataFrame",
       "ref": "cde1ab28-8df0-4374-91f1-930866dfd764",
       "rows": [
        [
         "600",
         "THANE",
         "GB",
         "817.0760347726056"
        ],
        [
         "596",
         "THANE",
         "DT",
         "919.3837660990248"
        ],
        [
         "595",
         "THANE",
         "BAYESIAN",
         "927.378456918864"
        ],
        [
         "598",
         "THANE",
         "ET",
         "992.3558890351675"
        ],
        [
         "602",
         "THANE",
         "KNN",
         "999.7421578698296"
        ],
        [
         "604",
         "THANE",
         "LGBM",
         "1097.2292708742395"
        ],
        [
         "607",
         "THANE",
         "RF",
         "1466.3335031068514"
        ],
        [
         "610",
         "THANE",
         "XGBOOST",
         "1675.490828196091"
        ],
        [
         "603",
         "THANE",
         "LASSO",
         "1678.6551038784135"
        ],
        [
         "609",
         "THANE",
         "TBATS",
         "1811.8956437866245"
        ],
        [
         "597",
         "THANE",
         "ELASTICNET",
         "1819.087387191349"
        ],
        [
         "605",
         "THANE",
         "LINEAR",
         "1819.2206270666247"
        ],
        [
         "594",
         "THANE",
         "ARIMA",
         "1846.4684941801743"
        ],
        [
         "606",
         "THANE",
         "PROPHET",
         "1941.0084614977777"
        ],
        [
         "599",
         "THANE",
         "EXP",
         "2235.0723059555507"
        ],
        [
         "608",
         "THANE",
         "RIDGE",
         "2321.63298764034"
        ],
        [
         "601",
         "THANE",
         "HUBER",
         "2374.486850072803"
        ]
       ],
       "shape": {
        "columns": 3,
        "rows": 17
       }
      },
      "text/html": [
       "<div>\n",
       "<style scoped>\n",
       "    .dataframe tbody tr th:only-of-type {\n",
       "        vertical-align: middle;\n",
       "    }\n",
       "\n",
       "    .dataframe tbody tr th {\n",
       "        vertical-align: top;\n",
       "    }\n",
       "\n",
       "    .dataframe thead th {\n",
       "        text-align: right;\n",
       "    }\n",
       "</style>\n",
       "<table border=\"1\" class=\"dataframe\">\n",
       "  <thead>\n",
       "    <tr style=\"text-align: right;\">\n",
       "      <th></th>\n",
       "      <th>district</th>\n",
       "      <th>model</th>\n",
       "      <th>RMSE</th>\n",
       "    </tr>\n",
       "  </thead>\n",
       "  <tbody>\n",
       "    <tr>\n",
       "      <th>600</th>\n",
       "      <td>THANE</td>\n",
       "      <td>GB</td>\n",
       "      <td>817.076035</td>\n",
       "    </tr>\n",
       "    <tr>\n",
       "      <th>596</th>\n",
       "      <td>THANE</td>\n",
       "      <td>DT</td>\n",
       "      <td>919.383766</td>\n",
       "    </tr>\n",
       "    <tr>\n",
       "      <th>595</th>\n",
       "      <td>THANE</td>\n",
       "      <td>BAYESIAN</td>\n",
       "      <td>927.378457</td>\n",
       "    </tr>\n",
       "    <tr>\n",
       "      <th>598</th>\n",
       "      <td>THANE</td>\n",
       "      <td>ET</td>\n",
       "      <td>992.355889</td>\n",
       "    </tr>\n",
       "    <tr>\n",
       "      <th>602</th>\n",
       "      <td>THANE</td>\n",
       "      <td>KNN</td>\n",
       "      <td>999.742158</td>\n",
       "    </tr>\n",
       "    <tr>\n",
       "      <th>604</th>\n",
       "      <td>THANE</td>\n",
       "      <td>LGBM</td>\n",
       "      <td>1097.229271</td>\n",
       "    </tr>\n",
       "    <tr>\n",
       "      <th>607</th>\n",
       "      <td>THANE</td>\n",
       "      <td>RF</td>\n",
       "      <td>1466.333503</td>\n",
       "    </tr>\n",
       "    <tr>\n",
       "      <th>610</th>\n",
       "      <td>THANE</td>\n",
       "      <td>XGBOOST</td>\n",
       "      <td>1675.490828</td>\n",
       "    </tr>\n",
       "    <tr>\n",
       "      <th>603</th>\n",
       "      <td>THANE</td>\n",
       "      <td>LASSO</td>\n",
       "      <td>1678.655104</td>\n",
       "    </tr>\n",
       "    <tr>\n",
       "      <th>609</th>\n",
       "      <td>THANE</td>\n",
       "      <td>TBATS</td>\n",
       "      <td>1811.895644</td>\n",
       "    </tr>\n",
       "    <tr>\n",
       "      <th>597</th>\n",
       "      <td>THANE</td>\n",
       "      <td>ELASTICNET</td>\n",
       "      <td>1819.087387</td>\n",
       "    </tr>\n",
       "    <tr>\n",
       "      <th>605</th>\n",
       "      <td>THANE</td>\n",
       "      <td>LINEAR</td>\n",
       "      <td>1819.220627</td>\n",
       "    </tr>\n",
       "    <tr>\n",
       "      <th>594</th>\n",
       "      <td>THANE</td>\n",
       "      <td>ARIMA</td>\n",
       "      <td>1846.468494</td>\n",
       "    </tr>\n",
       "    <tr>\n",
       "      <th>606</th>\n",
       "      <td>THANE</td>\n",
       "      <td>PROPHET</td>\n",
       "      <td>1941.008461</td>\n",
       "    </tr>\n",
       "    <tr>\n",
       "      <th>599</th>\n",
       "      <td>THANE</td>\n",
       "      <td>EXP</td>\n",
       "      <td>2235.072306</td>\n",
       "    </tr>\n",
       "    <tr>\n",
       "      <th>608</th>\n",
       "      <td>THANE</td>\n",
       "      <td>RIDGE</td>\n",
       "      <td>2321.632988</td>\n",
       "    </tr>\n",
       "    <tr>\n",
       "      <th>601</th>\n",
       "      <td>THANE</td>\n",
       "      <td>HUBER</td>\n",
       "      <td>2374.486850</td>\n",
       "    </tr>\n",
       "  </tbody>\n",
       "</table>\n",
       "</div>"
      ],
      "text/plain": [
       "    district       model         RMSE\n",
       "600    THANE          GB   817.076035\n",
       "596    THANE          DT   919.383766\n",
       "595    THANE    BAYESIAN   927.378457\n",
       "598    THANE          ET   992.355889\n",
       "602    THANE         KNN   999.742158\n",
       "604    THANE        LGBM  1097.229271\n",
       "607    THANE          RF  1466.333503\n",
       "610    THANE     XGBOOST  1675.490828\n",
       "603    THANE       LASSO  1678.655104\n",
       "609    THANE       TBATS  1811.895644\n",
       "597    THANE  ELASTICNET  1819.087387\n",
       "605    THANE      LINEAR  1819.220627\n",
       "594    THANE       ARIMA  1846.468494\n",
       "606    THANE     PROPHET  1941.008461\n",
       "599    THANE         EXP  2235.072306\n",
       "608    THANE       RIDGE  2321.632988\n",
       "601    THANE       HUBER  2374.486850"
      ]
     },
     "execution_count": 28,
     "metadata": {},
     "output_type": "execute_result"
    }
   ],
   "source": [
    "rmse_df[rmse_df.district == \"THANE\"].sort_values(by='RMSE', ascending=True)"
   ]
  },
  {
   "cell_type": "code",
   "execution_count": 29,
   "id": "e76dd629",
   "metadata": {},
   "outputs": [
    {
     "data": {
      "text/plain": [
       "array(['ANN', 'ARIMA', 'BAYESIAN', 'DT', 'ELASTICNET', 'ET', 'EXP', 'GB',\n",
       "       'HUBER', 'KNN', 'LASSO', 'LGBM', 'LINEAR', 'LSTM', 'PROPHET', 'RF',\n",
       "       'RIDGE', 'SARIMA', 'TBATS', 'XGBOOST'], dtype=object)"
      ]
     },
     "execution_count": 29,
     "metadata": {},
     "output_type": "execute_result"
    }
   ],
   "source": [
    "final_df['model'].unique()"
   ]
  },
  {
   "cell_type": "code",
   "execution_count": null,
   "id": "a8a0da0c",
   "metadata": {},
   "outputs": [],
   "source": []
  },
  {
   "cell_type": "code",
   "execution_count": 30,
   "id": "9e606c8c",
   "metadata": {},
   "outputs": [
    {
     "name": "stdout",
     "output_type": "stream",
     "text": [
      "model                    ANN        ARIMA     BAYESIAN           DT  \\\n",
      "district                                                              \n",
      "AHMEDNAGAR               NaN   944.375065  1045.384759  2387.388932   \n",
      "AKOLA                    NaN   214.859256   184.056067   221.786606   \n",
      "AMRAVATI          366.366289   410.665689   292.646152   340.073778   \n",
      "AURANGABAD               NaN  1149.025138  1234.500406  1679.216440   \n",
      "BEED                     NaN   701.183000   596.362735  1770.695835   \n",
      "BHANDARA                 NaN   220.198093   177.472022   263.247478   \n",
      "BULDHANA                 NaN   252.744098   188.372013   251.931930   \n",
      "CHANDRAPUR               NaN   538.009572   501.081752   468.943464   \n",
      "DHULE                    NaN   340.649834   679.649229   560.039160   \n",
      "GADCHIROLI               NaN   381.429810   411.036277   556.685014   \n",
      "GONDIA            177.637463   126.426029   119.867312    90.375656   \n",
      "HINGOLI                  NaN    97.044835   304.969044   751.533978   \n",
      "JALGAON                  NaN   660.905213  1315.814849  1407.584298   \n",
      "JALNA             317.724697   302.814719   226.509423   239.319097   \n",
      "KOLHAPUR                 NaN   369.755246   320.130366  1282.721931   \n",
      "LATUR                    NaN   300.537416   563.170007   799.486738   \n",
      "MUMBAI                   NaN  1867.108281  1281.897307  2058.058746   \n",
      "MUMBAI SUBURBAN          NaN   572.927592  2220.154392  1256.937747   \n",
      "NAGPUR                   NaN  1195.039738  1230.944181  3020.323657   \n",
      "NANDED            449.652859   352.949005   376.767858   403.966347   \n",
      "NANDURBAR                NaN   732.767273  1375.567976  2104.970590   \n",
      "NASHIK                   NaN  1001.336906   550.878209   698.718953   \n",
      "OSMANABAD                NaN   445.175022   449.430486   398.898895   \n",
      "PALGHAR                  NaN   422.248860   400.028563   866.661985   \n",
      "PARBHANI                 NaN   168.756629   201.608717   581.796190   \n",
      "PUNE             1082.597089   920.330078   790.089108   993.163132   \n",
      "RAIGAD                   NaN  1093.112937  1827.987996  1413.698814   \n",
      "RATNAGIRI                NaN   112.309311   296.992181   280.228036   \n",
      "SANGLI                   NaN   146.799183   311.005251   288.419558   \n",
      "SATARA                   NaN  2111.153991  2156.039635  2322.170089   \n",
      "SINDHUDURG               NaN    69.487409    88.311832    65.843714   \n",
      "SOLAPUR                  NaN   579.579043   504.567643   537.086031   \n",
      "THANE                    NaN  1846.468494   927.378457   919.383766   \n",
      "WARDHA            153.341919   180.978624   175.147948   119.611366   \n",
      "WASHIM                   NaN   161.354888   134.574510   408.017877   \n",
      "YAVATMAL          392.062300   387.265894   337.123054   431.154513   \n",
      "\n",
      "model             ELASTICNET           ET          EXP           GB  \\\n",
      "district                                                              \n",
      "AHMEDNAGAR       1779.505275  1153.250826   938.178817  1235.559622   \n",
      "AKOLA             287.364895   337.343810   181.152199   226.987053   \n",
      "AMRAVATI          228.178324   446.231200   402.023159   259.645150   \n",
      "AURANGABAD       1316.612367  1194.005017  1160.847945  1016.158582   \n",
      "BEED              846.422821   536.216516   659.079375   575.944356   \n",
      "BHANDARA          189.365675   147.508717   219.556725   165.203565   \n",
      "BULDHANA          209.699418   242.080211   252.971953   230.285776   \n",
      "CHANDRAPUR        580.249225   684.755034   550.044142   451.796661   \n",
      "DHULE             861.839164   861.176228   338.228285   515.655788   \n",
      "GADCHIROLI        478.596575   530.001981   383.226508   514.678088   \n",
      "GONDIA            115.022155   103.532022   182.983044   126.334185   \n",
      "HINGOLI           218.861251   166.530890    97.439486   221.108713   \n",
      "JALGAON          1167.259128  1307.891146   653.255647  1168.239425   \n",
      "JALNA             219.528962   178.684414   203.200205   268.952089   \n",
      "KOLHAPUR          360.745600   635.114231   370.640869   392.526636   \n",
      "LATUR             827.786173   655.056104   283.571068   605.893163   \n",
      "MUMBAI            846.800276  1909.161871  1135.713674   808.584539   \n",
      "MUMBAI SUBURBAN  1672.411352   457.230000   274.161056  1326.342914   \n",
      "NAGPUR           1471.258248  1221.262773  1196.529510  3265.810376   \n",
      "NANDED            378.766493   312.434481   325.867135   315.441619   \n",
      "NANDURBAR        1472.333941  1673.433471   705.832822  1389.883778   \n",
      "NASHIK            501.030484   618.173052  1002.100023   515.045847   \n",
      "OSMANABAD         551.726700   367.033471   283.872250   270.029316   \n",
      "PALGHAR           641.864982   340.760888   389.850811   373.819373   \n",
      "PARBHANI          247.178042   403.859665   166.858996   465.915844   \n",
      "PUNE              733.320810   743.111944  1010.041153   769.458063   \n",
      "RAIGAD           1837.842239  1312.106678  1087.379088  1235.725033   \n",
      "RATNAGIRI         372.199264   244.160686   112.736022   269.289447   \n",
      "SANGLI            312.741356   186.741479   130.445087   491.821178   \n",
      "SATARA           2245.341670  2127.704181  2111.096060  2196.580028   \n",
      "SINDHUDURG        118.860859    66.180289    69.487409    69.848098   \n",
      "SOLAPUR           599.987351   729.658699   579.625404   486.099836   \n",
      "THANE            1819.087387   992.355889  2235.072306   817.076035   \n",
      "WARDHA            152.632210   150.906183   184.325947   175.930846   \n",
      "WASHIM            160.328350   227.485112   151.470008   156.548437   \n",
      "YAVATMAL          309.886479   297.851006   386.374800   358.543840   \n",
      "\n",
      "model                  HUBER          KNN        LASSO         LGBM  \\\n",
      "district                                                              \n",
      "AHMEDNAGAR       1816.157364   947.112603   531.925517  1891.102136   \n",
      "AKOLA             269.235765   594.766050   295.673095   390.762942   \n",
      "AMRAVATI          239.752136   417.521628   361.714698   417.972533   \n",
      "AURANGABAD       1082.458571  1312.171965   402.756808   895.184549   \n",
      "BEED              778.249202   685.145027   352.487877   743.609720   \n",
      "BHANDARA          192.264025   173.117423   277.317432   169.758549   \n",
      "BULDHANA          209.018580   172.040242   342.718749   245.402466   \n",
      "CHANDRAPUR        716.404472   475.373568   194.010527   538.319673   \n",
      "DHULE             762.604716   912.116900   336.726617   547.004327   \n",
      "GADCHIROLI        491.483305   833.887378   305.120364   436.312295   \n",
      "GONDIA            118.232150   122.580491   139.483032   224.848027   \n",
      "HINGOLI           214.887254   116.582370   126.522365   129.509831   \n",
      "JALGAON          1225.499890  1436.422163   614.931566  1556.669440   \n",
      "JALNA             229.728972   230.251411   167.770579   225.011116   \n",
      "KOLHAPUR          435.575951   381.431798   406.264605   407.794543   \n",
      "LATUR             791.947125   812.872257   346.769876   492.884679   \n",
      "MUMBAI            648.421477   507.624606  3399.613480  6963.111172   \n",
      "MUMBAI SUBURBAN   336.448654          NaN          NaN          NaN   \n",
      "NAGPUR           1512.039962  1387.783343  1003.821819   932.057205   \n",
      "NANDED            430.655295   302.963262   450.159505   302.455647   \n",
      "NANDURBAR        1076.634301  1282.039369   211.697451  1300.812304   \n",
      "NASHIK            473.306312   552.171542   548.401787   482.146044   \n",
      "OSMANABAD         458.059456   393.451478   202.652066   340.374961   \n",
      "PALGHAR           577.495922   394.127191   502.694469   599.178312   \n",
      "PARBHANI          229.974856   269.369649   346.302562   156.221272   \n",
      "PUNE              800.229687   860.964106  1535.010498  1063.193197   \n",
      "RAIGAD           1934.534603  1113.981973  1186.124170   862.270773   \n",
      "RATNAGIRI         368.164371   235.894082   200.233778   124.136976   \n",
      "SANGLI            324.848163   148.416016   283.846049   160.465605   \n",
      "SATARA           2340.472841  2096.014905   521.568810  2095.216515   \n",
      "SINDHUDURG        111.736746   115.074003    89.586088    68.833568   \n",
      "SOLAPUR           576.065569   689.308658   508.678072   778.429344   \n",
      "THANE            2374.486850   999.742158  1678.655104  1097.229271   \n",
      "WARDHA            154.612740   147.298187   190.186753   213.098064   \n",
      "WASHIM            153.218854   289.090661   176.487012   169.633769   \n",
      "YAVATMAL          309.633041   285.896959   209.952864   376.222937   \n",
      "\n",
      "model                 LINEAR        LSTM      PROPHET           RF  \\\n",
      "district                                                             \n",
      "AHMEDNAGAR       1779.660457         NaN   590.320304  1066.293543   \n",
      "AKOLA             287.575667         NaN   292.666652   226.192494   \n",
      "AMRAVATI          228.192268  353.285694   271.997962   367.565590   \n",
      "AURANGABAD       1316.560419         NaN  1318.357511  1373.659126   \n",
      "BEED              846.659069         NaN   407.295852   522.730236   \n",
      "BHANDARA          189.418816         NaN   259.831868   163.728225   \n",
      "BULDHANA          209.783904         NaN   316.332421   284.201575   \n",
      "CHANDRAPUR        580.298919         NaN   540.692447   820.095660   \n",
      "DHULE             861.988535         NaN   486.425823  1049.712476   \n",
      "GADCHIROLI        478.954234         NaN   156.760430   594.431599   \n",
      "GONDIA            115.006110  137.252687   150.407639    79.300306   \n",
      "HINGOLI           219.034547         NaN   219.133831   288.170715   \n",
      "JALGAON          1167.453956         NaN   909.564533  1212.086159   \n",
      "JALNA             219.585107  259.758754   206.919981   200.805494   \n",
      "KOLHAPUR          360.816623         NaN   248.817467   666.670473   \n",
      "LATUR             827.853659         NaN   419.535160   608.559116   \n",
      "MUMBAI            846.781540         NaN  4863.190677   462.297397   \n",
      "MUMBAI SUBURBAN  1672.466024         NaN          NaN  1715.139967   \n",
      "NAGPUR           1471.289206         NaN  1346.932518  1833.954183   \n",
      "NANDED            378.767868  362.303134   703.681574   330.302834   \n",
      "NANDURBAR        1472.371542         NaN   646.935281  1352.806631   \n",
      "NASHIK            501.011680         NaN  1435.184760   710.626316   \n",
      "OSMANABAD         552.017866         NaN   339.083364   426.869281   \n",
      "PALGHAR           641.980905         NaN   941.798908   392.630434   \n",
      "PARBHANI          247.227735         NaN   162.164075   363.825639   \n",
      "PUNE              733.325660  698.278895  1081.238842   812.657517   \n",
      "RAIGAD           1837.930645         NaN  1071.793087  1109.144191   \n",
      "RATNAGIRI         372.199306         NaN   230.200954   236.076349   \n",
      "SANGLI            312.851833         NaN   554.358333   468.751788   \n",
      "SATARA           2245.512200         NaN  2708.458807  2067.606205   \n",
      "SINDHUDURG        119.887910         NaN   132.824252    69.996671   \n",
      "SOLAPUR           600.038453         NaN   843.003716   659.012023   \n",
      "THANE            1819.220627         NaN  1941.008461  1466.333503   \n",
      "WARDHA            152.623261  169.157161   139.261713   122.481084   \n",
      "WASHIM            160.445486         NaN   233.231407   179.198678   \n",
      "YAVATMAL          309.884558  396.387464   411.446436   318.320746   \n",
      "\n",
      "model                  RIDGE       SARIMA        TBATS      XGBOOST  \n",
      "district                                                             \n",
      "AHMEDNAGAR       1364.808099   944.375065   967.410252   633.931624  \n",
      "AKOLA             304.341630   214.859256   164.448219   294.410206  \n",
      "AMRAVATI          319.536275   410.665689   403.433100   362.484265  \n",
      "AURANGABAD       1276.659024  1149.025138  1160.261284  1099.268972  \n",
      "BEED             1070.155099   701.183000   583.382481   280.916507  \n",
      "BHANDARA          171.248051   220.198093   219.179776   144.272005  \n",
      "BULDHANA          226.915517   252.744098   201.454744   399.578627  \n",
      "CHANDRAPUR        851.474530   538.009572   545.472907   695.316100  \n",
      "DHULE             894.977599   375.011356   345.178918  1155.823770  \n",
      "GADCHIROLI        471.756344   177.766706   382.779262   553.493111  \n",
      "GONDIA            112.228547  1389.185690   180.119101    87.972662  \n",
      "HINGOLI           442.513021    97.044835   235.901428   468.204301  \n",
      "JALGAON          1356.029522   660.905213   777.595809  1483.765099  \n",
      "JALNA             219.800719  1846.555230   204.627990   197.754406  \n",
      "KOLHAPUR          356.969809   369.755246   371.081734   535.903819  \n",
      "LATUR             853.608799   338.423149   239.624810   505.014221  \n",
      "MUMBAI           2706.640359  1256.889374  1132.618908  2026.856050  \n",
      "MUMBAI SUBURBAN          NaN          NaN  1421.586449          NaN  \n",
      "NAGPUR           1375.265862  1195.039738  1205.756019  1851.599074  \n",
      "NANDED            367.937983   352.949005   345.103521   350.531095  \n",
      "NANDURBAR        1457.468957          NaN   696.322448  1617.315098  \n",
      "NASHIK            592.698015          NaN   532.755926   915.812113  \n",
      "OSMANABAD         604.801219          NaN   283.541194   450.572690  \n",
      "PALGHAR           836.880535          NaN   375.391250   412.729115  \n",
      "PARBHANI          280.485014          NaN   260.365057   495.048898  \n",
      "PUNE              898.322747          NaN   876.691163   864.175821  \n",
      "RAIGAD           1757.992037          NaN  1137.450595   919.915033  \n",
      "RATNAGIRI         409.867789          NaN   145.849591   266.613967  \n",
      "SANGLI            339.470298          NaN   130.453967   303.783821  \n",
      "SATARA           2213.649830          NaN  2111.739031  1879.898984  \n",
      "SINDHUDURG        112.091215          NaN    68.553329    61.973373  \n",
      "SOLAPUR           584.823349          NaN   720.383048   700.425237  \n",
      "THANE            2321.632988          NaN  1811.895644  1675.490828  \n",
      "WARDHA            151.144642          NaN   198.066891   155.004706  \n",
      "WASHIM            222.075005          NaN   134.521837   188.451811  \n",
      "YAVATMAL          337.215632          NaN   390.095298   354.100877  \n"
     ]
    }
   ],
   "source": [
    "pivot_df = rmse_df.pivot(index='district', columns='model', values='RMSE')\n",
    "print(pivot_df)"
   ]
  },
  {
   "cell_type": "code",
   "execution_count": 31,
   "id": "0b8e3614",
   "metadata": {},
   "outputs": [],
   "source": [
    "pivot_df.to_csv('I8_rmse_pivot.csv', index=True)"
   ]
  },
  {
   "cell_type": "code",
   "execution_count": 32,
   "id": "070882f8",
   "metadata": {},
   "outputs": [],
   "source": [
    "# Get the best model for each district (lowest RMSE)\n",
    "best_models = rmse_df.loc[rmse_df.groupby('district')['RMSE'].idxmin()]\n",
    "\n",
    "# Display the result\n",
    "best_models[['district', 'model', 'RMSE']].to_csv('I8_best_models.csv', index=False)"
   ]
  },
  {
   "cell_type": "code",
   "execution_count": null,
   "id": "c24f0232",
   "metadata": {},
   "outputs": [],
   "source": []
  }
 ],
 "metadata": {
  "kernelspec": {
   "display_name": "Python 3",
   "language": "python",
   "name": "python3"
  },
  "language_info": {
   "codemirror_mode": {
    "name": "ipython",
    "version": 3
   },
   "file_extension": ".py",
   "mimetype": "text/x-python",
   "name": "python",
   "nbconvert_exporter": "python",
   "pygments_lexer": "ipython3",
   "version": "3.11.0"
  }
 },
 "nbformat": 4,
 "nbformat_minor": 5
}
