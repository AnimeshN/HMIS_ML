{
 "cells": [
  {
   "cell_type": "code",
   "execution_count": 1,
   "id": "caea4b94",
   "metadata": {},
   "outputs": [],
   "source": [
    "import os\n",
    "import numpy as np\n",
    "import pandas as pd\n",
    "import matplotlib.pyplot as plt\n",
    "from prophet import Prophet\n",
    "from sklearn.metrics import mean_squared_error"
   ]
  },
  {
   "cell_type": "code",
   "execution_count": 2,
   "id": "c5a44b4b",
   "metadata": {},
   "outputs": [],
   "source": [
    "data = pd.read_csv(\"../data/HMIS_DATA_CORRECTED_17_21/mh_dist17_21_with_IDs_date_correction.csv\")\n",
    "data = data[(data['indicator_type'] == 'Total [(A+B) or (C+D)]')]\n",
    "data['date'] = pd.to_datetime(data['date'])\n",
    "data = data.set_index('date')\n",
    "data.index = pd.DatetimeIndex(data.index)"
   ]
  },
  {
   "cell_type": "code",
   "execution_count": 3,
   "id": "b2834c17",
   "metadata": {},
   "outputs": [],
   "source": [
    "def prophet_forecast(\n",
    "    series,\n",
    "    district_name,\n",
    "    forecast_periods=12,\n",
    "    yearly_seasonality='auto',\n",
    "    weekly_seasonality=False,\n",
    "    daily_seasonality=False,\n",
    "    changepoint_prior_scale=0.05,\n",
    "    seasonality_prior_scale=10.0,\n",
    "    holidays=None,\n",
    "    plot_forecast=True\n",
    "):\n",
    "    \"\"\"\n",
    "    Prophet time series forecasting with error handling and RMSE calculation.\n",
    "    Returns (metrics, forecast_df) or (None, None) on error.\n",
    "    \"\"\"\n",
    "    try:\n",
    "        # 0. Directory setup\n",
    "        os.makedirs('Prophet_Forecasts', exist_ok=True)\n",
    "\n",
    "        # 1. Prepare DataFrame for Prophet\n",
    "        df = pd.DataFrame({'ds': series.index, 'y': series.values})\n",
    "        df = df.dropna()\n",
    "        if len(df) < forecast_periods + 12:\n",
    "            raise ValueError(f\"Series too short ({len(df)} points) for {forecast_periods}-step forecast.\")\n",
    "\n",
    "        # 2. Train/test split\n",
    "        train = df.iloc[:-forecast_periods]\n",
    "        test = df.iloc[-forecast_periods:]\n",
    "\n",
    "        # 3. Model setup\n",
    "        model = Prophet(\n",
    "            yearly_seasonality=yearly_seasonality,\n",
    "            weekly_seasonality=weekly_seasonality,\n",
    "            daily_seasonality=daily_seasonality,\n",
    "            changepoint_prior_scale=changepoint_prior_scale,\n",
    "            seasonality_prior_scale=seasonality_prior_scale,\n",
    "            holidays=holidays\n",
    "        )\n",
    "        model.fit(train)\n",
    "\n",
    "        # 4. Forecast\n",
    "        future = model.make_future_dataframe(periods=forecast_periods, freq='MS')\n",
    "        forecast = model.predict(future)\n",
    "\n",
    "        # 5. Extract forecasted values for test period\n",
    "        forecast_test = forecast.set_index('ds').loc[test['ds']]\n",
    "        y_pred = forecast_test['yhat'].values\n",
    "        y_test = test['y'].values\n",
    "\n",
    "        # 6. Metrics\n",
    "        rmse = np.sqrt(mean_squared_error(y_test, y_pred))\n",
    "        metrics = {\n",
    "            'district': district_name,\n",
    "            'rmse': rmse,\n",
    "            'forecast_periods': forecast_periods\n",
    "        }\n",
    "\n",
    "        # 7. Save forecast DataFrame\n",
    "        forecast_df = pd.DataFrame({\n",
    "            'district': district_name,\n",
    "            'date': test['ds'].values,\n",
    "            'actual': y_test,\n",
    "            'forecast': y_pred\n",
    "        })\n",
    "        forecast_df.to_csv(\n",
    "            os.path.join('Prophet_Forecasts', f'{district_name}_forecast.csv'),\n",
    "            index=False\n",
    "        )\n",
    "\n",
    "        # 8. Plotting\n",
    "        if plot_forecast:\n",
    "            plt.figure(figsize=(12, 6))\n",
    "            plt.plot(df['ds'], df['y'], label='Original')\n",
    "            plt.plot(forecast_df['date'], forecast_df['forecast'], label='Prophet Forecast', color='crimson')\n",
    "            plt.scatter(forecast_df['date'], forecast_df['actual'], label='Actual (Test)', color='black')\n",
    "            plt.title(f'{district_name} Prophet Forecast (RMSE: {rmse:.2f})')\n",
    "            plt.legend()\n",
    "            plt.savefig(os.path.join('Prophet_Forecasts', f'{district_name}_forecast_plot.png'))\n",
    "            plt.close()\n",
    "\n",
    "        return metrics, forecast_df\n",
    "\n",
    "    except Exception as e:\n",
    "        print(f\"⚠️ Skipping {district_name}: {str(e)}\")\n",
    "        return None, None"
   ]
  },
  {
   "cell_type": "code",
   "execution_count": 4,
   "id": "d6311f06",
   "metadata": {},
   "outputs": [
    {
     "name": "stderr",
     "output_type": "stream",
     "text": [
      "14:26:07 - cmdstanpy - INFO - Chain [1] start processing\n",
      "14:26:09 - cmdstanpy - INFO - Chain [1] done processing\n"
     ]
    },
    {
     "name": "stdout",
     "output_type": "stream",
     "text": [
      "=== Metrics ===\n",
      "{'district': 'AHMEDNAGAR', 'rmse': 677.1696045860099, 'forecast_periods': 6}\n",
      "\n",
      "=== Forecast Data ===\n",
      "     district       date  actual     forecast\n",
      "0  AHMEDNAGAR 2020-10-01    6471  5978.101870\n",
      "1  AHMEDNAGAR 2020-11-01    6107  7071.902428\n",
      "2  AHMEDNAGAR 2020-12-01    7460  6450.640185\n",
      "3  AHMEDNAGAR 2021-01-01    6692  6562.372724\n",
      "4  AHMEDNAGAR 2021-02-01    7023  6327.012710\n",
      "5  AHMEDNAGAR 2021-03-01    6274  6034.504693\n"
     ]
    },
    {
     "name": "stderr",
     "output_type": "stream",
     "text": [
      "14:26:09 - cmdstanpy - INFO - Chain [1] start processing\n",
      "14:26:10 - cmdstanpy - INFO - Chain [1] done processing\n"
     ]
    },
    {
     "name": "stdout",
     "output_type": "stream",
     "text": [
      "=== Metrics ===\n",
      "{'district': 'AKOLA', 'rmse': 353.25555862835745, 'forecast_periods': 6}\n",
      "\n",
      "=== Forecast Data ===\n",
      "  district       date  actual     forecast\n",
      "0    AKOLA 2020-10-01    2737  2096.375897\n",
      "1    AKOLA 2020-11-01    2700  2724.611225\n",
      "2    AKOLA 2020-12-01    2933  2551.091600\n",
      "3    AKOLA 2021-01-01    3111  2877.862976\n",
      "4    AKOLA 2021-02-01    2983  2752.784024\n",
      "5    AKOLA 2021-03-01    3093  2802.266976\n"
     ]
    },
    {
     "name": "stderr",
     "output_type": "stream",
     "text": [
      "14:26:10 - cmdstanpy - INFO - Chain [1] start processing\n",
      "14:26:11 - cmdstanpy - INFO - Chain [1] done processing\n"
     ]
    },
    {
     "name": "stdout",
     "output_type": "stream",
     "text": [
      "=== Metrics ===\n",
      "{'district': 'AMRAVATI', 'rmse': 564.9792687427936, 'forecast_periods': 6}\n",
      "\n",
      "=== Forecast Data ===\n",
      "   district       date  actual     forecast\n",
      "0  AMRAVATI 2020-10-01    3191  3715.421462\n",
      "1  AMRAVATI 2020-11-01    3502  3647.671844\n",
      "2  AMRAVATI 2020-12-01    4172  3589.772409\n",
      "3  AMRAVATI 2021-01-01    4458  3356.342729\n",
      "4  AMRAVATI 2021-02-01    4134  3908.010959\n",
      "5  AMRAVATI 2021-03-01    4134  4010.458378\n"
     ]
    },
    {
     "name": "stderr",
     "output_type": "stream",
     "text": [
      "14:26:11 - cmdstanpy - INFO - Chain [1] start processing\n",
      "14:26:12 - cmdstanpy - INFO - Chain [1] done processing\n"
     ]
    },
    {
     "name": "stdout",
     "output_type": "stream",
     "text": [
      "=== Metrics ===\n",
      "{'district': 'AURANGABAD', 'rmse': 664.7758128663708, 'forecast_periods': 6}\n",
      "\n",
      "=== Forecast Data ===\n",
      "     district       date  actual     forecast\n",
      "0  AURANGABAD 2020-10-01    6246  5623.979103\n",
      "1  AURANGABAD 2020-11-01    5765  5901.091361\n",
      "2  AURANGABAD 2020-12-01    6760  6162.781330\n",
      "3  AURANGABAD 2021-01-01    6615  5701.136516\n",
      "4  AURANGABAD 2021-02-01    7139  6727.343110\n",
      "5  AURANGABAD 2021-03-01    6756  5815.334049\n"
     ]
    },
    {
     "name": "stderr",
     "output_type": "stream",
     "text": [
      "14:26:12 - cmdstanpy - INFO - Chain [1] start processing\n",
      "14:26:13 - cmdstanpy - INFO - Chain [1] done processing\n"
     ]
    },
    {
     "name": "stdout",
     "output_type": "stream",
     "text": [
      "=== Metrics ===\n",
      "{'district': 'BEED', 'rmse': 525.3316476936959, 'forecast_periods': 6}\n",
      "\n",
      "=== Forecast Data ===\n",
      "  district       date  actual     forecast\n",
      "0     BEED 2020-10-01    3751  3368.678306\n",
      "1     BEED 2020-11-01    3332  3962.637109\n",
      "2     BEED 2020-12-01    4156  3610.249737\n",
      "3     BEED 2021-01-01    4018  3275.384351\n",
      "4     BEED 2021-02-01    4267  3851.593940\n",
      "5     BEED 2021-03-01    4241  3940.860943\n"
     ]
    },
    {
     "name": "stderr",
     "output_type": "stream",
     "text": [
      "14:26:14 - cmdstanpy - INFO - Chain [1] start processing\n",
      "14:26:16 - cmdstanpy - INFO - Chain [1] done processing\n"
     ]
    },
    {
     "name": "stdout",
     "output_type": "stream",
     "text": [
      "=== Metrics ===\n",
      "{'district': 'BHANDARA', 'rmse': 193.06791490693107, 'forecast_periods': 6}\n",
      "\n",
      "=== Forecast Data ===\n",
      "   district       date  actual     forecast\n",
      "0  BHANDARA 2020-10-01    1233  1184.868675\n",
      "1  BHANDARA 2020-11-01    1093  1259.358429\n",
      "2  BHANDARA 2020-12-01    1395  1194.895660\n",
      "3  BHANDARA 2021-01-01    1416  1134.998364\n",
      "4  BHANDARA 2021-02-01    1690  1471.999577\n",
      "5  BHANDARA 2021-03-01    1729  1564.282921\n"
     ]
    },
    {
     "name": "stderr",
     "output_type": "stream",
     "text": [
      "14:26:17 - cmdstanpy - INFO - Chain [1] start processing\n",
      "14:26:18 - cmdstanpy - INFO - Chain [1] done processing\n"
     ]
    },
    {
     "name": "stdout",
     "output_type": "stream",
     "text": [
      "=== Metrics ===\n",
      "{'district': 'BULDHANA', 'rmse': 439.576571531265, 'forecast_periods': 6}\n",
      "\n",
      "=== Forecast Data ===\n",
      "   district       date  actual     forecast\n",
      "0  BULDHANA 2020-10-01    3614  3566.369735\n",
      "1  BULDHANA 2020-11-01    3484  4198.946911\n",
      "2  BULDHANA 2020-12-01    4289  3737.197877\n",
      "3  BULDHANA 2021-01-01    4304  3819.435400\n",
      "4  BULDHANA 2021-02-01    4508  4246.483101\n",
      "5  BULDHANA 2021-03-01    4443  4247.377598\n"
     ]
    },
    {
     "name": "stderr",
     "output_type": "stream",
     "text": [
      "14:26:19 - cmdstanpy - INFO - Chain [1] start processing\n",
      "14:26:20 - cmdstanpy - INFO - Chain [1] done processing\n"
     ]
    },
    {
     "name": "stdout",
     "output_type": "stream",
     "text": [
      "=== Metrics ===\n",
      "{'district': 'CHANDRAPUR', 'rmse': 436.03721121379346, 'forecast_periods': 6}\n",
      "\n",
      "=== Forecast Data ===\n",
      "     district       date  actual     forecast\n",
      "0  CHANDRAPUR 2020-10-01    2187  2407.408079\n",
      "1  CHANDRAPUR 2020-11-01    2220  2639.353973\n",
      "2  CHANDRAPUR 2020-12-01    2940  2558.316738\n",
      "3  CHANDRAPUR 2021-01-01    3096  2222.909911\n",
      "4  CHANDRAPUR 2021-02-01    3083  3116.864101\n",
      "5  CHANDRAPUR 2021-03-01    3033  3117.958975\n"
     ]
    },
    {
     "name": "stderr",
     "output_type": "stream",
     "text": [
      "14:26:21 - cmdstanpy - INFO - Chain [1] start processing\n",
      "14:26:22 - cmdstanpy - INFO - Chain [1] done processing\n"
     ]
    },
    {
     "name": "stdout",
     "output_type": "stream",
     "text": [
      "=== Metrics ===\n",
      "{'district': 'DHULE', 'rmse': 250.20220298050523, 'forecast_periods': 6}\n",
      "\n",
      "=== Forecast Data ===\n",
      "  district       date  actual     forecast\n",
      "0    DHULE 2020-10-01    3157  3308.342038\n",
      "1    DHULE 2020-11-01    3146  3554.741581\n",
      "2    DHULE 2020-12-01    3665  3521.006558\n",
      "3    DHULE 2021-01-01    3484  3798.918527\n",
      "4    DHULE 2021-02-01    3689  3833.061381\n",
      "5    DHULE 2021-03-01    3358  3570.064354\n"
     ]
    },
    {
     "name": "stderr",
     "output_type": "stream",
     "text": [
      "14:26:23 - cmdstanpy - INFO - Chain [1] start processing\n",
      "14:26:24 - cmdstanpy - INFO - Chain [1] done processing\n"
     ]
    },
    {
     "name": "stdout",
     "output_type": "stream",
     "text": [
      "=== Metrics ===\n",
      "{'district': 'GADCHIROLI', 'rmse': 326.18870598064564, 'forecast_periods': 6}\n",
      "\n",
      "=== Forecast Data ===\n",
      "     district       date  actual     forecast\n",
      "0  GADCHIROLI 2020-10-01    1251  1264.800043\n",
      "1  GADCHIROLI 2020-11-01    1256  1606.761734\n",
      "2  GADCHIROLI 2020-12-01    1632  1388.544395\n",
      "3  GADCHIROLI 2021-01-01    1689  1307.518364\n",
      "4  GADCHIROLI 2021-02-01    2016  1503.922559\n",
      "5  GADCHIROLI 2021-03-01    2045  1825.573429\n"
     ]
    },
    {
     "name": "stderr",
     "output_type": "stream",
     "text": [
      "14:26:25 - cmdstanpy - INFO - Chain [1] start processing\n",
      "14:26:26 - cmdstanpy - INFO - Chain [1] done processing\n"
     ]
    },
    {
     "name": "stdout",
     "output_type": "stream",
     "text": [
      "=== Metrics ===\n",
      "{'district': 'GONDIA', 'rmse': 170.79651074447634, 'forecast_periods': 6}\n",
      "\n",
      "=== Forecast Data ===\n",
      "  district       date  actual     forecast\n",
      "0   GONDIA 2020-10-01    1472  1519.406194\n",
      "1   GONDIA 2020-11-01    1519  1676.061330\n",
      "2   GONDIA 2020-12-01    1528  1459.961036\n",
      "3   GONDIA 2021-01-01    1531  1273.820385\n",
      "4   GONDIA 2021-02-01    1829  1713.931102\n",
      "5   GONDIA 2021-03-01    2024  1770.817114\n"
     ]
    },
    {
     "name": "stderr",
     "output_type": "stream",
     "text": [
      "14:26:27 - cmdstanpy - INFO - Chain [1] start processing\n",
      "14:26:28 - cmdstanpy - INFO - Chain [1] done processing\n"
     ]
    },
    {
     "name": "stdout",
     "output_type": "stream",
     "text": [
      "=== Metrics ===\n",
      "{'district': 'HINGOLI', 'rmse': 213.70942674548297, 'forecast_periods': 6}\n",
      "\n",
      "=== Forecast Data ===\n",
      "  district       date  actual     forecast\n",
      "0  HINGOLI 2020-10-01    1976  1669.358232\n",
      "1  HINGOLI 2020-11-01    1722  1976.845097\n",
      "2  HINGOLI 2020-12-01    1949  1902.216741\n",
      "3  HINGOLI 2021-01-01    1975  1717.820814\n",
      "4  HINGOLI 2021-02-01    2077  2272.370088\n",
      "5  HINGOLI 2021-03-01    2045  1952.502224\n"
     ]
    },
    {
     "name": "stderr",
     "output_type": "stream",
     "text": [
      "14:26:29 - cmdstanpy - INFO - Chain [1] start processing\n",
      "14:26:29 - cmdstanpy - INFO - Chain [1] done processing\n"
     ]
    },
    {
     "name": "stdout",
     "output_type": "stream",
     "text": [
      "=== Metrics ===\n",
      "{'district': 'JALGAON', 'rmse': 844.1444705654924, 'forecast_periods': 6}\n",
      "\n",
      "=== Forecast Data ===\n",
      "  district       date  actual     forecast\n",
      "0  JALGAON 2020-10-01    6370  6493.579144\n",
      "1  JALGAON 2020-11-01    6429  6809.125299\n",
      "2  JALGAON 2020-12-01    7344  6234.817205\n",
      "3  JALGAON 2021-01-01    7376  6419.948079\n",
      "4  JALGAON 2021-02-01    7683  6326.114679\n",
      "5  JALGAON 2021-03-01    6301  6661.905463\n"
     ]
    },
    {
     "name": "stderr",
     "output_type": "stream",
     "text": [
      "14:26:30 - cmdstanpy - INFO - Chain [1] start processing\n",
      "14:26:31 - cmdstanpy - INFO - Chain [1] done processing\n"
     ]
    },
    {
     "name": "stdout",
     "output_type": "stream",
     "text": [
      "=== Metrics ===\n",
      "{'district': 'JALNA', 'rmse': 263.86542954015107, 'forecast_periods': 6}\n",
      "\n",
      "=== Forecast Data ===\n",
      "  district       date  actual     forecast\n",
      "0    JALNA 2020-10-01    3244  3213.903750\n",
      "1    JALNA 2020-11-01    3164  3607.694296\n",
      "2    JALNA 2020-12-01    3529  3486.848052\n",
      "3    JALNA 2021-01-01    3637  3452.429538\n",
      "4    JALNA 2021-02-01    3715  3933.992285\n",
      "5    JALNA 2021-03-01    3560  3929.024001\n"
     ]
    },
    {
     "name": "stderr",
     "output_type": "stream",
     "text": [
      "14:26:32 - cmdstanpy - INFO - Chain [1] start processing\n",
      "14:26:33 - cmdstanpy - INFO - Chain [1] done processing\n"
     ]
    },
    {
     "name": "stdout",
     "output_type": "stream",
     "text": [
      "=== Metrics ===\n",
      "{'district': 'KOLHAPUR', 'rmse': 477.0912252758961, 'forecast_periods': 6}\n",
      "\n",
      "=== Forecast Data ===\n",
      "   district       date  actual     forecast\n",
      "0  KOLHAPUR 2020-10-01    4973  4684.180617\n",
      "1  KOLHAPUR 2020-11-01    4789  5319.967116\n",
      "2  KOLHAPUR 2020-12-01    5795  4831.765737\n",
      "3  KOLHAPUR 2021-01-01    5111  4905.668544\n",
      "4  KOLHAPUR 2021-02-01    5237  5104.511917\n",
      "5  KOLHAPUR 2021-03-01    4708  4594.778252\n"
     ]
    },
    {
     "name": "stderr",
     "output_type": "stream",
     "text": [
      "14:26:34 - cmdstanpy - INFO - Chain [1] start processing\n",
      "14:26:34 - cmdstanpy - INFO - Chain [1] done processing\n"
     ]
    },
    {
     "name": "stdout",
     "output_type": "stream",
     "text": [
      "=== Metrics ===\n",
      "{'district': 'LATUR', 'rmse': 560.4461537974366, 'forecast_periods': 6}\n",
      "\n",
      "=== Forecast Data ===\n",
      "  district       date  actual     forecast\n",
      "0    LATUR 2020-10-01    3751  3381.531904\n",
      "1    LATUR 2020-11-01    3673  4215.498496\n",
      "2    LATUR 2020-12-01    4091  3712.298552\n",
      "3    LATUR 2021-01-01    4179  3353.394749\n",
      "4    LATUR 2021-02-01    4416  3915.100290\n",
      "5    LATUR 2021-03-01    4366  3751.305996\n"
     ]
    },
    {
     "name": "stderr",
     "output_type": "stream",
     "text": [
      "14:26:35 - cmdstanpy - INFO - Chain [1] start processing\n",
      "14:26:35 - cmdstanpy - INFO - Chain [1] done processing\n"
     ]
    },
    {
     "name": "stdout",
     "output_type": "stream",
     "text": [
      "=== Metrics ===\n",
      "{'district': 'MUMBAI', 'rmse': 4895.734233147937, 'forecast_periods': 6}\n",
      "\n",
      "=== Forecast Data ===\n",
      "  district       date  actual      forecast\n",
      "0   MUMBAI 2020-10-01    2924  10483.523483\n",
      "1   MUMBAI 2020-11-01    3608   6067.574267\n",
      "2   MUMBAI 2020-12-01    4419   2875.160826\n",
      "3   MUMBAI 2021-01-01    4239   9583.496333\n",
      "4   MUMBAI 2021-02-01    4034   9921.688228\n",
      "5   MUMBAI 2021-03-01    4119   7992.167710\n"
     ]
    },
    {
     "name": "stderr",
     "output_type": "stream",
     "text": [
      "14:26:36 - cmdstanpy - INFO - Chain [1] start processing\n",
      "14:26:37 - cmdstanpy - INFO - Chain [1] done processing\n"
     ]
    },
    {
     "name": "stdout",
     "output_type": "stream",
     "text": [
      "=== Metrics ===\n",
      "{'district': 'NAGPUR', 'rmse': 1754.4681460153004, 'forecast_periods': 6}\n",
      "\n",
      "=== Forecast Data ===\n",
      "  district       date  actual     forecast\n",
      "0   NAGPUR 2020-10-01    5618  5783.822425\n",
      "1   NAGPUR 2020-11-01    6429  6911.952734\n",
      "2   NAGPUR 2020-12-01    7872  6151.427399\n",
      "3   NAGPUR 2021-01-01    7618  5749.743433\n",
      "4   NAGPUR 2021-02-01    8330  6359.230738\n",
      "5   NAGPUR 2021-03-01    8796  5990.019552\n"
     ]
    },
    {
     "name": "stderr",
     "output_type": "stream",
     "text": [
      "14:26:38 - cmdstanpy - INFO - Chain [1] start processing\n",
      "14:26:39 - cmdstanpy - INFO - Chain [1] done processing\n"
     ]
    },
    {
     "name": "stdout",
     "output_type": "stream",
     "text": [
      "=== Metrics ===\n",
      "{'district': 'NANDED', 'rmse': 460.9796129614564, 'forecast_periods': 6}\n",
      "\n",
      "=== Forecast Data ===\n",
      "  district       date  actual     forecast\n",
      "0   NANDED 2020-10-01    5214  4488.495315\n",
      "1   NANDED 2020-11-01    5237  5175.798012\n",
      "2   NANDED 2020-12-01    6097  5513.376153\n",
      "3   NANDED 2021-01-01    5865  5282.462394\n",
      "4   NANDED 2021-02-01    6268  6378.273270\n",
      "5   NANDED 2021-03-01    5883  5653.253531\n"
     ]
    },
    {
     "name": "stderr",
     "output_type": "stream",
     "text": [
      "14:26:40 - cmdstanpy - INFO - Chain [1] start processing\n",
      "14:26:40 - cmdstanpy - INFO - Chain [1] done processing\n"
     ]
    },
    {
     "name": "stdout",
     "output_type": "stream",
     "text": [
      "=== Metrics ===\n",
      "{'district': 'NANDURBAR', 'rmse': 428.4850830275879, 'forecast_periods': 6}\n",
      "\n",
      "=== Forecast Data ===\n",
      "    district       date  actual     forecast\n",
      "0  NANDURBAR 2020-10-01    2588  2901.401862\n",
      "1  NANDURBAR 2020-11-01    2581  2842.634064\n",
      "2  NANDURBAR 2020-12-01    2989  3011.549195\n",
      "3  NANDURBAR 2021-01-01    2803  3253.200608\n",
      "4  NANDURBAR 2021-02-01    3130  3943.794916\n",
      "5  NANDURBAR 2021-03-01    3365  3628.576304\n"
     ]
    },
    {
     "name": "stderr",
     "output_type": "stream",
     "text": [
      "14:26:41 - cmdstanpy - INFO - Chain [1] start processing\n",
      "14:26:42 - cmdstanpy - INFO - Chain [1] done processing\n",
      "14:26:43 - cmdstanpy - INFO - Chain [1] start processing\n"
     ]
    },
    {
     "name": "stdout",
     "output_type": "stream",
     "text": [
      "=== Metrics ===\n",
      "{'district': 'NASHIK', 'rmse': 1393.9999328728984, 'forecast_periods': 6}\n",
      "\n",
      "=== Forecast Data ===\n",
      "  district       date  actual      forecast\n",
      "0   NASHIK 2020-10-01   10365   9033.422433\n",
      "1   NASHIK 2020-11-01    9966  10135.966669\n",
      "2   NASHIK 2020-12-01   11339   9145.237450\n",
      "3   NASHIK 2021-01-01   11056   9614.482515\n",
      "4   NASHIK 2021-02-01   11802  10789.732281\n",
      "5   NASHIK 2021-03-01   10787   9393.380730\n"
     ]
    },
    {
     "name": "stderr",
     "output_type": "stream",
     "text": [
      "14:26:43 - cmdstanpy - INFO - Chain [1] done processing\n"
     ]
    },
    {
     "name": "stdout",
     "output_type": "stream",
     "text": [
      "=== Metrics ===\n",
      "{'district': 'OSMANABAD', 'rmse': 293.72246850007554, 'forecast_periods': 6}\n",
      "\n",
      "=== Forecast Data ===\n",
      "    district       date  actual     forecast\n",
      "0  OSMANABAD 2020-10-01    2207  2195.073606\n",
      "1  OSMANABAD 2020-11-01    2274  2615.848704\n",
      "2  OSMANABAD 2020-12-01    2540  2247.061586\n",
      "3  OSMANABAD 2021-01-01    2519  2135.642625\n",
      "4  OSMANABAD 2021-02-01    2847  2520.627321\n",
      "5  OSMANABAD 2021-03-01    2677  2429.331594\n"
     ]
    },
    {
     "name": "stderr",
     "output_type": "stream",
     "text": [
      "14:26:44 - cmdstanpy - INFO - Chain [1] start processing\n",
      "14:26:44 - cmdstanpy - INFO - Chain [1] done processing\n"
     ]
    },
    {
     "name": "stdout",
     "output_type": "stream",
     "text": [
      "=== Metrics ===\n",
      "{'district': 'PALGHAR', 'rmse': 969.9333196044552, 'forecast_periods': 6}\n",
      "\n",
      "=== Forecast Data ===\n",
      "  district       date  actual     forecast\n",
      "0  PALGHAR 2020-10-01    4616  5537.494058\n",
      "1  PALGHAR 2020-11-01    4554  6025.588123\n",
      "2  PALGHAR 2020-12-01    5005  4772.974468\n",
      "3  PALGHAR 2021-01-01    5509  4648.430676\n",
      "4  PALGHAR 2021-02-01    5817  4997.076062\n",
      "5  PALGHAR 2021-03-01    6435  5356.477728\n"
     ]
    },
    {
     "name": "stderr",
     "output_type": "stream",
     "text": [
      "14:26:45 - cmdstanpy - INFO - Chain [1] start processing\n",
      "14:26:45 - cmdstanpy - INFO - Chain [1] done processing\n"
     ]
    },
    {
     "name": "stdout",
     "output_type": "stream",
     "text": [
      "=== Metrics ===\n",
      "{'district': 'PARBHANI', 'rmse': 261.3943221615448, 'forecast_periods': 6}\n",
      "\n",
      "=== Forecast Data ===\n",
      "   district       date  actual     forecast\n",
      "0  PARBHANI 2020-10-01    2920  2647.218384\n",
      "1  PARBHANI 2020-11-01    2538  2887.556257\n",
      "2  PARBHANI 2020-12-01    3472  3223.300584\n",
      "3  PARBHANI 2021-01-01    3279  3439.787714\n",
      "4  PARBHANI 2021-02-01    3530  3321.809326\n",
      "5  PARBHANI 2021-03-01    3595  3308.093888\n"
     ]
    },
    {
     "name": "stderr",
     "output_type": "stream",
     "text": [
      "14:26:46 - cmdstanpy - INFO - Chain [1] start processing\n",
      "14:26:47 - cmdstanpy - INFO - Chain [1] done processing\n"
     ]
    },
    {
     "name": "stdout",
     "output_type": "stream",
     "text": [
      "=== Metrics ===\n",
      "{'district': 'PUNE', 'rmse': 1980.8344576406448, 'forecast_periods': 6}\n",
      "\n",
      "=== Forecast Data ===\n",
      "  district       date  actual      forecast\n",
      "0     PUNE 2020-10-01   15750  14025.037779\n",
      "1     PUNE 2020-11-01   15551  16054.415534\n",
      "2     PUNE 2020-12-01   18113  16705.115038\n",
      "3     PUNE 2021-01-01   17234  16441.881631\n",
      "4     PUNE 2021-02-01   17537  15713.647505\n",
      "5     PUNE 2021-03-01   18280  14488.021212\n"
     ]
    },
    {
     "name": "stderr",
     "output_type": "stream",
     "text": [
      "14:26:48 - cmdstanpy - INFO - Chain [1] start processing\n",
      "14:26:48 - cmdstanpy - INFO - Chain [1] done processing\n",
      "14:26:49 - cmdstanpy - INFO - Chain [1] start processing\n"
     ]
    },
    {
     "name": "stdout",
     "output_type": "stream",
     "text": [
      "=== Metrics ===\n",
      "{'district': 'RAIGAD', 'rmse': 1061.149247373047, 'forecast_periods': 6}\n",
      "\n",
      "=== Forecast Data ===\n",
      "  district       date  actual     forecast\n",
      "0   RAIGAD 2020-10-01    3704  4044.136773\n",
      "1   RAIGAD 2020-11-01    3998  4690.060739\n",
      "2   RAIGAD 2020-12-01    5251  3774.015302\n",
      "3   RAIGAD 2021-01-01    4693  3532.241688\n",
      "4   RAIGAD 2021-02-01    4937  3655.090830\n",
      "5   RAIGAD 2021-03-01    4981  3986.288744\n"
     ]
    },
    {
     "name": "stderr",
     "output_type": "stream",
     "text": [
      "14:26:49 - cmdstanpy - INFO - Chain [1] done processing\n"
     ]
    },
    {
     "name": "stdout",
     "output_type": "stream",
     "text": [
      "=== Metrics ===\n",
      "{'district': 'RATNAGIRI', 'rmse': 240.89975606658632, 'forecast_periods': 6}\n",
      "\n",
      "=== Forecast Data ===\n",
      "    district       date  actual     forecast\n",
      "0  RATNAGIRI 2020-10-01    1186  1379.856975\n",
      "1  RATNAGIRI 2020-11-01    1074  1514.648265\n",
      "2  RATNAGIRI 2020-12-01    1108  1315.469099\n",
      "3  RATNAGIRI 2021-01-01    1177  1226.802956\n",
      "4  RATNAGIRI 2021-02-01    1246  1424.052925\n",
      "5  RATNAGIRI 2021-03-01    1164  1362.035677\n"
     ]
    },
    {
     "name": "stderr",
     "output_type": "stream",
     "text": [
      "14:26:50 - cmdstanpy - INFO - Chain [1] start processing\n",
      "14:26:50 - cmdstanpy - INFO - Chain [1] done processing\n"
     ]
    },
    {
     "name": "stdout",
     "output_type": "stream",
     "text": [
      "=== Metrics ===\n",
      "{'district': 'SANGLI', 'rmse': 423.7721270688505, 'forecast_periods': 6}\n",
      "\n",
      "=== Forecast Data ===\n",
      "  district       date  actual     forecast\n",
      "0   SANGLI 2020-10-01    3891  4464.629262\n",
      "1   SANGLI 2020-11-01    3821  4603.066392\n",
      "2   SANGLI 2020-12-01    4539  4212.175932\n",
      "3   SANGLI 2021-01-01    4333  4184.816935\n",
      "4   SANGLI 2021-02-01    4393  4471.863732\n",
      "5   SANGLI 2021-03-01    4144  4186.741578\n"
     ]
    },
    {
     "name": "stderr",
     "output_type": "stream",
     "text": [
      "14:26:51 - cmdstanpy - INFO - Chain [1] start processing\n",
      "14:26:51 - cmdstanpy - INFO - Chain [1] done processing\n"
     ]
    },
    {
     "name": "stdout",
     "output_type": "stream",
     "text": [
      "=== Metrics ===\n",
      "{'district': 'SATARA', 'rmse': 488.44788320087247, 'forecast_periods': 6}\n",
      "\n",
      "=== Forecast Data ===\n",
      "  district       date  actual     forecast\n",
      "0   SATARA 2020-10-01    3760  4047.763914\n",
      "1   SATARA 2020-11-01    3582  4373.495959\n",
      "2   SATARA 2020-12-01    4595  3971.966525\n",
      "3   SATARA 2021-01-01    4175  3671.410870\n",
      "4   SATARA 2021-02-01    4151  4154.628449\n",
      "5   SATARA 2021-03-01    3735  3451.401346\n"
     ]
    },
    {
     "name": "stderr",
     "output_type": "stream",
     "text": [
      "14:26:52 - cmdstanpy - INFO - Chain [1] start processing\n",
      "14:26:53 - cmdstanpy - INFO - Chain [1] done processing\n"
     ]
    },
    {
     "name": "stdout",
     "output_type": "stream",
     "text": [
      "=== Metrics ===\n",
      "{'district': 'SINDHUDURG', 'rmse': 152.63516968676225, 'forecast_periods': 6}\n",
      "\n",
      "=== Forecast Data ===\n",
      "     district       date  actual    forecast\n",
      "0  SINDHUDURG 2020-10-01     530  689.767637\n",
      "1  SINDHUDURG 2020-11-01     476  780.378597\n",
      "2  SINDHUDURG 2020-12-01     592  640.668084\n",
      "3  SINDHUDURG 2021-01-01     618  486.460069\n",
      "4  SINDHUDURG 2021-02-01     640  613.694031\n",
      "5  SINDHUDURG 2021-03-01     659  623.650290\n"
     ]
    },
    {
     "name": "stderr",
     "output_type": "stream",
     "text": [
      "14:26:54 - cmdstanpy - INFO - Chain [1] start processing\n",
      "14:26:54 - cmdstanpy - INFO - Chain [1] done processing\n"
     ]
    },
    {
     "name": "stdout",
     "output_type": "stream",
     "text": [
      "=== Metrics ===\n",
      "{'district': 'SOLAPUR', 'rmse': 753.0056609959688, 'forecast_periods': 6}\n",
      "\n",
      "=== Forecast Data ===\n",
      "  district       date  actual     forecast\n",
      "0  SOLAPUR 2020-10-01    6321  6998.898563\n",
      "1  SOLAPUR 2020-11-01    6058  6782.629437\n",
      "2  SOLAPUR 2020-12-01    7648  6706.024581\n",
      "3  SOLAPUR 2021-01-01    7550  6434.552011\n",
      "4  SOLAPUR 2021-02-01    6956  7466.079260\n",
      "5  SOLAPUR 2021-03-01    7219  7058.537811\n"
     ]
    },
    {
     "name": "stderr",
     "output_type": "stream",
     "text": [
      "14:26:55 - cmdstanpy - INFO - Chain [1] start processing\n",
      "14:26:56 - cmdstanpy - INFO - Chain [1] done processing\n",
      "14:26:56 - cmdstanpy - INFO - Chain [1] start processing\n"
     ]
    },
    {
     "name": "stdout",
     "output_type": "stream",
     "text": [
      "=== Metrics ===\n",
      "{'district': 'THANE', 'rmse': 1938.8059214263951, 'forecast_periods': 6}\n",
      "\n",
      "=== Forecast Data ===\n",
      "  district       date  actual      forecast\n",
      "0    THANE 2020-10-01   13402  12626.494090\n",
      "1    THANE 2020-11-01   13995  13232.235326\n",
      "2    THANE 2020-12-01   14285  13155.920236\n",
      "3    THANE 2021-01-01   15181  13711.402328\n",
      "4    THANE 2021-02-01   16357  14722.279730\n",
      "5    THANE 2021-03-01   16591  12684.116043\n"
     ]
    },
    {
     "name": "stderr",
     "output_type": "stream",
     "text": [
      "14:26:57 - cmdstanpy - INFO - Chain [1] done processing\n"
     ]
    },
    {
     "name": "stdout",
     "output_type": "stream",
     "text": [
      "=== Metrics ===\n",
      "{'district': 'WARDHA', 'rmse': 151.72956218156747, 'forecast_periods': 6}\n",
      "\n",
      "=== Forecast Data ===\n",
      "  district       date  actual     forecast\n",
      "0   WARDHA 2020-10-01    1306  1450.605962\n",
      "1   WARDHA 2020-11-01    1196  1361.607927\n",
      "2   WARDHA 2020-12-01    1561  1411.247434\n",
      "3   WARDHA 2021-01-01    1640  1504.822232\n",
      "4   WARDHA 2021-02-01    1787  1629.735060\n",
      "5   WARDHA 2021-03-01    1743  1586.912943\n"
     ]
    },
    {
     "name": "stderr",
     "output_type": "stream",
     "text": [
      "14:26:57 - cmdstanpy - INFO - Chain [1] start processing\n",
      "14:26:58 - cmdstanpy - INFO - Chain [1] done processing\n"
     ]
    },
    {
     "name": "stdout",
     "output_type": "stream",
     "text": [
      "=== Metrics ===\n",
      "{'district': 'WASHIM', 'rmse': 143.31298892945426, 'forecast_periods': 6}\n",
      "\n",
      "=== Forecast Data ===\n",
      "  district       date  actual     forecast\n",
      "0   WASHIM 2020-10-01    1501  1458.491006\n",
      "1   WASHIM 2020-11-01    1453  1499.371970\n",
      "2   WASHIM 2020-12-01    1839  1538.046290\n",
      "3   WASHIM 2021-01-01    1658  1499.764419\n",
      "4   WASHIM 2021-02-01    1858  1914.486120\n",
      "5   WASHIM 2021-03-01    1844  1822.274753\n"
     ]
    },
    {
     "name": "stderr",
     "output_type": "stream",
     "text": [
      "14:26:59 - cmdstanpy - INFO - Chain [1] start processing\n",
      "14:27:00 - cmdstanpy - INFO - Chain [1] done processing\n"
     ]
    },
    {
     "name": "stdout",
     "output_type": "stream",
     "text": [
      "=== Metrics ===\n",
      "{'district': 'YAVATMAL', 'rmse': 546.5626752628109, 'forecast_periods': 6}\n",
      "\n",
      "=== Forecast Data ===\n",
      "   district       date  actual     forecast\n",
      "0  YAVATMAL 2020-10-01    3562  2965.186656\n",
      "1  YAVATMAL 2020-11-01    3501  3467.384866\n",
      "2  YAVATMAL 2020-12-01    3918  3246.421223\n",
      "3  YAVATMAL 2021-01-01    3851  3248.697414\n",
      "4  YAVATMAL 2021-02-01    3983  3465.674975\n",
      "5  YAVATMAL 2021-03-01    4182  3587.309524\n",
      "⚠️ Skipping MUMBAI SUBURBAN: Series too short (12 points) for 6-step forecast.\n",
      "=== Metrics ===\n",
      "\n",
      "=== Forecast Data ===\n",
      "None\n"
     ]
    },
    {
     "data": {
      "text/plain": [
       "{}"
      ]
     },
     "execution_count": 4,
     "metadata": {},
     "output_type": "execute_result"
    }
   ],
   "source": [
    "districts = data['district'].unique()\n",
    "rmse_values = []\n",
    "\n",
    "# Usage Example\n",
    "\n",
    "\n",
    "def run_for_each_district():\n",
    "    results = {}\n",
    "    \n",
    "    for district in districts:\n",
    "        district_data = data[data['district'] == district]\n",
    "        ts = district_data[\"I1\"].asfreq('MS')\n",
    "        \n",
    "        metrics, forecast = prophet_forecast(\n",
    "            series=ts,\n",
    "            district_name=district,\n",
    "            forecast_periods=6,  # Forecast the last year\n",
    "            yearly_seasonality='auto',\n",
    "            weekly_seasonality=False,\n",
    "            daily_seasonality=False\n",
    "        )\n",
    "\n",
    "        \n",
    "    \n",
    "        # Show results\n",
    "        print(\"=== Metrics ===\")\n",
    "        if metrics:\n",
    "            print(metrics)\n",
    "        print(\"\\n=== Forecast Data ===\")\n",
    "        print(forecast)\n",
    "    \n",
    "    return results\n",
    "run_for_each_district()"
   ]
  },
  {
   "cell_type": "code",
   "execution_count": 5,
   "id": "1cd18243",
   "metadata": {},
   "outputs": [
    {
     "data": {
      "text/plain": [
       "array(['AHMEDNAGAR', 'AKOLA', 'AMRAVATI', 'AURANGABAD', 'BEED',\n",
       "       'BHANDARA', 'BULDHANA', 'CHANDRAPUR', 'DHULE', 'GADCHIROLI',\n",
       "       'GONDIA', 'HINGOLI', 'JALGAON', 'JALNA', 'KOLHAPUR', 'LATUR',\n",
       "       'MUMBAI', 'NAGPUR', 'NANDED', 'NANDURBAR', 'NASHIK', 'OSMANABAD',\n",
       "       'PALGHAR', 'PARBHANI', 'PUNE', 'RAIGAD', 'RATNAGIRI', 'SANGLI',\n",
       "       'SATARA', 'SINDHUDURG', 'SOLAPUR', 'THANE', 'WARDHA', 'WASHIM',\n",
       "       'YAVATMAL', 'MUMBAI SUBURBAN'], dtype=object)"
      ]
     },
     "execution_count": 5,
     "metadata": {},
     "output_type": "execute_result"
    }
   ],
   "source": [
    "districts"
   ]
  },
  {
   "cell_type": "code",
   "execution_count": null,
   "id": "bfd763bb",
   "metadata": {},
   "outputs": [],
   "source": []
  }
 ],
 "metadata": {
  "kernelspec": {
   "display_name": "Python 3",
   "language": "python",
   "name": "python3"
  },
  "language_info": {
   "codemirror_mode": {
    "name": "ipython",
    "version": 3
   },
   "file_extension": ".py",
   "mimetype": "text/x-python",
   "name": "python",
   "nbconvert_exporter": "python",
   "pygments_lexer": "ipython3",
   "version": "3.11.0"
  }
 },
 "nbformat": 4,
 "nbformat_minor": 5
}
